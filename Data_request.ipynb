{
 "cells": [
  {
   "cell_type": "code",
   "execution_count": 1,
   "id": "7f504b71",
   "metadata": {},
   "outputs": [],
   "source": [
    "import requests\n",
    "import pandas as pd\n",
    "import json\n",
    "\n",
    "# Use Spanish feed URLs from the discovery file\n",
    "station_info_url = \"https://gbfs.mex.lyftbikes.com/gbfs/es/station_information.json\"\n",
    "station_status_url = \"https://gbfs.mex.lyftbikes.com/gbfs/es/station_status.json\"\n",
    "\n",
    "# Get station information (static data - locations, names, etc.)\n",
    "station_info_response = requests.get(station_info_url)\n",
    "station_info = station_info_response.json()\n",
    "\n",
    "# Get station status (dynamic data - available bikes, docks, etc.)\n",
    "station_status_response = requests.get(station_status_url)\n",
    "station_status = station_status_response.json()\n",
    "\n",
    "# Convert to pandas DataFrames\n",
    "stations_df = pd.DataFrame(station_info['data']['stations'])\n",
    "status_df = pd.DataFrame(station_status['data']['stations'])\n"
   ]
  },
  {
   "cell_type": "code",
   "execution_count": 2,
   "id": "c4886ac0",
   "metadata": {},
   "outputs": [],
   "source": [
    "status_df.to_csv('Datos/lyft_bike_status.csv', index=False)\n",
    "stations_df.to_csv('Datos/lyft_bike_stations.csv', index=False)"
   ]
  },
  {
   "cell_type": "code",
   "execution_count": null,
   "id": "13d27ecd",
   "metadata": {},
   "outputs": [],
   "source": []
  }
 ],
 "metadata": {
  "kernelspec": {
   "display_name": "Python 3",
   "language": "python",
   "name": "python3"
  },
  "language_info": {
   "codemirror_mode": {
    "name": "ipython",
    "version": 3
   },
   "file_extension": ".py",
   "mimetype": "text/x-python",
   "name": "python",
   "nbconvert_exporter": "python",
   "pygments_lexer": "ipython3",
   "version": "3.12.2"
  }
 },
 "nbformat": 4,
 "nbformat_minor": 5
}
