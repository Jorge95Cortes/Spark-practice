{
 "cells": [
  {
   "cell_type": "code",
   "execution_count": 1,
   "id": "7d83ad57",
   "metadata": {},
   "outputs": [],
   "source": [
    "import pandas as pd\n",
    "import geopandas as gpd\n",
    "import pyspark\n",
    "import findspark\n",
    "import glob\n",
    "import plotly.express as px"
   ]
  },
  {
   "cell_type": "code",
   "execution_count": 2,
   "id": "2e469cf7",
   "metadata": {},
   "outputs": [
    {
     "name": "stdout",
     "output_type": "stream",
     "text": [
      "SparkSession created successfully!\n"
     ]
    }
   ],
   "source": [
    "findspark.init()\n",
    "\n",
    "try:\n",
    "    spark = pyspark.sql.SparkSession.builder.appName(\"Ecobici\").getOrCreate()\n",
    "    print(\"SparkSession created successfully!\")\n",
    "except Exception as e:\n",
    "    print(f\"Error creating SparkSession: {e}\")"
   ]
  },
  {
   "cell_type": "code",
   "execution_count": 3,
   "id": "8dbd3e7d",
   "metadata": {},
   "outputs": [
    {
     "name": "stdout",
     "output_type": "stream",
     "text": [
      "Loaded Datos/Historicos\\2024-05.csv with 2053563 rows and 9 columns\n",
      "Loaded Datos/Historicos\\2024-06.csv with 1893520 rows and 9 columns\n",
      "Loaded Datos/Historicos\\2024-07.csv with 1825650 rows and 9 columns\n",
      "Loaded Datos/Historicos\\2024-08.csv with 1891319 rows and 9 columns\n",
      "Loaded Datos/Historicos\\2024-09.csv with 1852179 rows and 9 columns\n",
      "Loaded Datos/Historicos\\2024-10.csv with 2054609 rows and 9 columns\n",
      "Loaded Datos/Historicos\\2024-11.csv with 1942474 rows and 9 columns\n",
      "Loaded Datos/Historicos\\2024-12.csv with 1680650 rows and 9 columns\n",
      "Loaded Datos/Historicos\\2024_04.csv with 1961633 rows and 9 columns\n",
      "Loaded Datos/Historicos\\2025-01.csv with 1809775 rows and 9 columns\n",
      "Loaded Datos/Historicos\\2025-02.csv with 1745620 rows and 9 columns\n",
      "Loaded Datos/Historicos\\2025-03.csv with 1832587 rows and 9 columns\n",
      "root\n",
      " |-- Genero_Usuario: string (nullable = true)\n",
      " |-- Edad_Usuario: string (nullable = true)\n",
      " |-- Bici: integer (nullable = true)\n",
      " |-- Ciclo_Estacion_Retiro: string (nullable = true)\n",
      " |-- Fecha_Retiro: string (nullable = true)\n",
      " |-- Hora_Retiro: timestamp (nullable = true)\n",
      " |-- Ciclo_EstacionArribo: string (nullable = true)\n",
      " |-- Fecha_Arribo: string (nullable = true)\n",
      " |-- Hora_Arribo: timestamp (nullable = true)\n",
      "\n"
     ]
    }
   ],
   "source": [
    "path = 'Datos/Historicos/*.csv'\n",
    "files = glob.glob(path)\n",
    "\n",
    "dfs = []\n",
    "for file in files:\n",
    "    df = spark.read.csv(file, header=True, inferSchema=True)\n",
    "    df = df.toDF(*[col.replace(' ', '_') for col in df.columns])\n",
    "    print(f\"Loaded {file} with {df.count()} rows and {len(df.columns)} columns\")\n",
    "    dfs.append(df)\n",
    "\n",
    "df = dfs[0]\n",
    "for i in range(1, len(dfs)):\n",
    "    df = df.union(dfs[i])\n",
    "\n",
    "df.printSchema()"
   ]
  },
  {
   "cell_type": "code",
   "execution_count": 4,
   "id": "d69faa59",
   "metadata": {},
   "outputs": [
    {
     "name": "stdout",
     "output_type": "stream",
     "text": [
      "root\n",
      " |-- sistema: string (nullable = true)\n",
      " |-- num_cicloe: string (nullable = true)\n",
      " |-- calle_prin: string (nullable = true)\n",
      " |-- calle_secu: string (nullable = true)\n",
      " |-- colonia: string (nullable = true)\n",
      " |-- alcaldia: string (nullable = true)\n",
      " |-- latitud: double (nullable = true)\n",
      " |-- longitud: double (nullable = true)\n",
      " |-- sitio_de_e: string (nullable = true)\n",
      " |-- estatus: string (nullable = true)\n",
      "\n"
     ]
    }
   ],
   "source": [
    "df_stations = spark.read.csv('Datos/cicloestaciones_ecobici.csv', header=True, inferSchema=True)\n",
    "df_stations.printSchema()"
   ]
  },
  {
   "cell_type": "code",
   "execution_count": 5,
   "id": "a6b204ff",
   "metadata": {},
   "outputs": [
    {
     "name": "stdout",
     "output_type": "stream",
     "text": [
      "+--------------+------------+-------+---------------------+------------+-------------------+--------------------+------------+-------------------+\n",
      "|Genero_Usuario|Edad_Usuario|   Bici|Ciclo_Estacion_Retiro|Fecha_Retiro|        Hora_Retiro|Ciclo_EstacionArribo|Fecha_Arribo|        Hora_Arribo|\n",
      "+--------------+------------+-------+---------------------+------------+-------------------+--------------------+------------+-------------------+\n",
      "|             F|          25|5266515|                  007|  30/04/2024|2025-05-04 23:34:05|                 459|  01/05/2024|2025-05-04 00:00:01|\n",
      "|             F|          39|4350518|                  472|  30/04/2024|2025-05-04 23:55:43|                 477|  01/05/2024|2025-05-04 00:00:02|\n",
      "|             F|          48|3732609|                  073|  30/04/2024|2025-05-04 23:46:46|                 447|  01/05/2024|2025-05-04 00:00:12|\n",
      "|             M|          31|4956959|                  644|  30/04/2024|2025-05-04 23:53:36|                 631|  01/05/2024|2025-05-04 00:00:18|\n",
      "|             F|          26|6627764|                  064|  30/04/2024|2025-05-04 23:30:47|                 607|  01/05/2024|2025-05-04 00:00:27|\n",
      "+--------------+------------+-------+---------------------+------------+-------------------+--------------------+------------+-------------------+\n",
      "only showing top 5 rows\n",
      "\n"
     ]
    }
   ],
   "source": [
    "df.show(5)"
   ]
  },
  {
   "cell_type": "code",
   "execution_count": 5,
   "id": "124b2312",
   "metadata": {},
   "outputs": [
    {
     "name": "stdout",
     "output_type": "stream",
     "text": [
      "+-------+--------------+------------------+------------------+---------------------+------------+--------------------+------------+\n",
      "|summary|Genero_Usuario|      Edad_Usuario|              Bici|Ciclo_Estacion_Retiro|Fecha_Retiro|Ciclo_EstacionArribo|Fecha_Arribo|\n",
      "+-------+--------------+------------------+------------------+---------------------+------------+--------------------+------------+\n",
      "|  count|      22543579|          22543579|          22543579|             22543579|    22543579|            22543579|    22543579|\n",
      "|   mean|          NULL|33.730556660746174| 5460355.305850549|    283.9727847558076|        NULL|  281.91180882962334|        NULL|\n",
      "| stddev|          NULL| 9.703150530531856|2028107.8582312502|    209.6969449148901|        NULL|  211.21391377902677|        NULL|\n",
      "|    min|             ?|               100|           2000461|                  001|  01/01/2025|                 001|  01/01/2025|\n",
      "|    max|             O|              NULL|           8999708|                  711|  31/12/2024|               tag 2|  31/12/2024|\n",
      "+-------+--------------+------------------+------------------+---------------------+------------+--------------------+------------+\n",
      "\n"
     ]
    }
   ],
   "source": [
    "df.describe().show()"
   ]
  },
  {
   "cell_type": "code",
   "execution_count": 6,
   "id": "727556d2",
   "metadata": {},
   "outputs": [
    {
     "name": "stdout",
     "output_type": "stream",
     "text": [
      "+--------------+------------+----+---------------------+------------+-----------+--------------------+------------+-----------+\n",
      "|Genero_Usuario|Edad_Usuario|Bici|Ciclo_Estacion_Retiro|Fecha_Retiro|Hora_Retiro|Ciclo_EstacionArribo|Fecha_Arribo|Hora_Arribo|\n",
      "+--------------+------------+----+---------------------+------------+-----------+--------------------+------------+-----------+\n",
      "|             0|           0|   0|                    0|           0|          0|                   0|           0|          0|\n",
      "+--------------+------------+----+---------------------+------------+-----------+--------------------+------------+-----------+\n",
      "\n"
     ]
    }
   ],
   "source": [
    "df.select([pyspark.sql.functions.count(pyspark.sql.functions.when(pyspark.sql.functions.col(c).isNull(), c)).alias(c) for c in df.columns]).show()"
   ]
  },
  {
   "cell_type": "code",
   "execution_count": 6,
   "id": "f0898b40",
   "metadata": {},
   "outputs": [
    {
     "name": "stdout",
     "output_type": "stream",
     "text": [
      "+---------------------+------+\n",
      "|Ciclo_Estacion_Retiro| count|\n",
      "+---------------------+------+\n",
      "|              271-272|233423|\n",
      "|                  027|129886|\n",
      "|                  064|125392|\n",
      "|              237-238|115681|\n",
      "|                  548|113858|\n",
      "|              107-108|112825|\n",
      "|                  031|108698|\n",
      "|                  014|107733|\n",
      "|                  208|103857|\n",
      "|              192-193|102451|\n",
      "+---------------------+------+\n",
      "only showing top 10 rows\n",
      "\n"
     ]
    }
   ],
   "source": [
    "# Shot the counr of retires by Ciclo_Estacion_Retiro using the main street from the stations dataframe\n",
    "df.groupBy('Ciclo_Estacion_Retiro').count().orderBy('count', ascending=False).show(10)"
   ]
  },
  {
   "cell_type": "code",
   "execution_count": 7,
   "id": "8ca1476f",
   "metadata": {},
   "outputs": [
    {
     "name": "stdout",
     "output_type": "stream",
     "text": [
      "+--------------------+------+\n",
      "|Ciclo_EstacionArribo| count|\n",
      "+--------------------+------+\n",
      "|             271-272|362817|\n",
      "|                 014|176147|\n",
      "|                 027|136885|\n",
      "|                 064|129047|\n",
      "|                 548|121762|\n",
      "|             107-108|110387|\n",
      "|                 031|106276|\n",
      "|                 028|104917|\n",
      "|                 018|103027|\n",
      "|                 001|102829|\n",
      "+--------------------+------+\n",
      "only showing top 10 rows\n",
      "\n"
     ]
    }
   ],
   "source": [
    "df.groupBy('Ciclo_EstacionArribo').count().orderBy('count', ascending=False).show(10)"
   ]
  },
  {
   "cell_type": "code",
   "execution_count": 8,
   "id": "51dd2d60",
   "metadata": {},
   "outputs": [
    {
     "data": {
      "text/plain": [
       "678"
      ]
     },
     "execution_count": 8,
     "metadata": {},
     "output_type": "execute_result"
    }
   ],
   "source": [
    "df_stations.select('num_cicloe').distinct().count()"
   ]
  },
  {
   "cell_type": "code",
   "execution_count": 21,
   "id": "010bdfa2",
   "metadata": {},
   "outputs": [
    {
     "name": "stdout",
     "output_type": "stream",
     "text": [
      "+----------+------------+--------------------+---------+----------+------------+\n",
      "|station_id|count_retiro|        station_name|  latitud|  longitud|count_arribo|\n",
      "+----------+------------+--------------------+---------+----------+------------+\n",
      "|   271-272|      233423|        Jesus Garcia|19.443684|-99.152465|      362817|\n",
      "|       027|      129886|Av. Paseo de la R...| 19.42916|-99.162703|      136885|\n",
      "|       064|      125392|              Sonora|19.412982|-99.166936|      129047|\n",
      "|   237-238|      115681|        Andres Bello|19.426744|-99.193986|       83413|\n",
      "|       548|      113858|Doctor Mariano Az...| 19.44701|-99.154318|      121762|\n",
      "|   107-108|      112825|               Tolsa|19.427329|-99.149971|      110387|\n",
      "|       031|      108698|            Hamburgo|19.427937|-99.161245|      106276|\n",
      "|       014|      107733|Av. Paseo de la R...| 19.42454|-99.173247|      176147|\n",
      "|       208|      103857|             Hesiodo|19.434182|-99.189835|       87082|\n",
      "|   192-193|      102451|         Ruben Dario| 19.42592|-99.190755|       81377|\n",
      "+----------+------------+--------------------+---------+----------+------------+\n",
      "only showing top 10 rows\n",
      "\n"
     ]
    }
   ],
   "source": [
    "from pyspark.sql import functions as F # Use F as alias for functions\n",
    "\n",
    "# Calculate retiro counts\n",
    "station_departure_counts = df.groupBy('Ciclo_Estacion_Retiro') \\\n",
    "                             .count() \\\n",
    "                             .withColumnRenamed('Ciclo_Estacion_Retiro', 'station_id') \\\n",
    "                             .withColumnRenamed('count', 'count_retiro')\n",
    "\n",
    "# Calculate arribo counts\n",
    "station_arrival_counts = df.groupBy('Ciclo_EstacionArribo') \\\n",
    "                           .count() \\\n",
    "                           .withColumnRenamed('Ciclo_EstacionArribo', 'station_id') \\\n",
    "                           .withColumnRenamed('count', 'count_arribo')\n",
    "\n",
    "# Select and rename relevant columns from df_stations\n",
    "stations_info = df_stations.select(\n",
    "    F.col('num_cicloe').alias('station_id'),\n",
    "    F.col('calle_prin').alias('station_name'),\n",
    "    'latitud',\n",
    "    'longitud'\n",
    ")\n",
    "\n",
    "# Join the departure counts with station info\n",
    "station_counts_with_info = station_departure_counts.join(\n",
    "    stations_info,\n",
    "    on='station_id',\n",
    "    how='left'\n",
    ")\n",
    "\n",
    "# Join the arrival counts\n",
    "station_count_clean = station_counts_with_info.join(\n",
    "    station_arrival_counts,\n",
    "    on='station_id',\n",
    "    how='left'\n",
    ")\n",
    "\n",
    "# Fill potential nulls in counts with 0 if a station only had departures or arrivals\n",
    "station_count_clean = station_count_clean.fillna(0, subset=['count_retiro', 'count_arribo'])\n",
    "\n",
    "\n",
    "station_count_clean.orderBy('count_retiro', ascending=False).show(10)\n",
    "\n",
    "station_count = station_count_clean"
   ]
  },
  {
   "cell_type": "code",
   "execution_count": 22,
   "id": "2b6e040f",
   "metadata": {},
   "outputs": [
    {
     "data": {
      "application/vnd.plotly.v1+json": {
       "config": {
        "plotlyServerURL": "https://plot.ly"
       },
       "data": [
        {
         "customdata": [
          [
           41316
          ],
          [
           23846
          ],
          [
           12405
          ],
          [
           51450
          ],
          [
           19326
          ],
          [
           8090
          ],
          [
           40828
          ],
          [
           47520
          ],
          [
           22581
          ],
          [
           43770
          ],
          [
           9437
          ],
          [
           29558
          ],
          [
           12862
          ],
          [
           77021
          ],
          [
           30276
          ],
          [
           39804
          ],
          [
           42447
          ],
          [
           8814
          ],
          [
           30110
          ],
          [
           13861
          ],
          [
           27045
          ],
          [
           9021
          ],
          [
           14630
          ],
          [
           19777
          ],
          [
           26895
          ],
          [
           13470
          ],
          [
           39467
          ],
          [
           27764
          ],
          [
           26177
          ],
          [
           22917
          ],
          [
           37830
          ],
          [
           17719
          ],
          [
           48486
          ],
          [
           44015
          ],
          [
           84283
          ],
          [
           39482
          ],
          [
           72392
          ],
          [
           18558
          ],
          [
           11770
          ],
          [
           24377
          ],
          [
           23825
          ],
          [
           24603
          ],
          [
           41298
          ],
          [
           50701
          ],
          [
           37963
          ],
          [
           9301
          ],
          [
           32978
          ],
          [
           18834
          ],
          [
           13888
          ],
          [
           12265
          ],
          [
           68959
          ],
          [
           31872
          ],
          [
           19622
          ],
          [
           32464
          ],
          [
           27638
          ],
          [
           14101
          ],
          [
           44057
          ],
          [
           33711
          ],
          [
           21753
          ],
          [
           12855
          ],
          [
           24709
          ],
          [
           35691
          ],
          [
           11753
          ],
          [
           19547
          ],
          [
           14344
          ],
          [
           25228
          ],
          [
           12461
          ],
          [
           9573
          ],
          [
           26069
          ],
          [
           55480
          ],
          [
           25020
          ],
          [
           30943
          ],
          [
           25464
          ],
          [
           14069
          ],
          [
           19955
          ],
          [
           31984
          ],
          [
           86826
          ],
          [
           22970
          ],
          [
           41104
          ],
          [
           25513
          ],
          [
           41061
          ],
          [
           43538
          ],
          [
           7307
          ],
          [
           18661
          ],
          [
           51382
          ],
          [
           72835
          ],
          [
           23455
          ],
          [
           36243
          ],
          [
           26315
          ],
          [
           95721
          ],
          [
           10688
          ],
          [
           35095
          ],
          [
           66757
          ],
          [
           64072
          ],
          [
           45690
          ],
          [
           36247
          ],
          [
           17543
          ],
          [
           23660
          ],
          [
           16653
          ],
          [
           36966
          ],
          [
           43648
          ],
          [
           40089
          ],
          [
           15654
          ],
          [
           15060
          ],
          [
           31737
          ],
          [
           19076
          ],
          [
           39386
          ],
          [
           15995
          ],
          [
           92409
          ],
          [
           12990
          ],
          [
           29775
          ],
          [
           36706
          ],
          [
           15264
          ],
          [
           16135
          ],
          [
           13982
          ],
          [
           59673
          ],
          [
           112825
          ],
          [
           17568
          ],
          [
           22160
          ],
          [
           30123
          ],
          [
           20694
          ],
          [
           40060
          ],
          [
           15916
          ],
          [
           20530
          ],
          [
           15652
          ],
          [
           129886
          ],
          [
           54908
          ],
          [
           27866
          ],
          [
           70924
          ],
          [
           73436
          ],
          [
           27717
          ],
          [
           27804
          ],
          [
           48401
          ],
          [
           51710
          ],
          [
           30190
          ],
          [
           38069
          ],
          [
           21810
          ],
          [
           13095
          ],
          [
           31529
          ],
          [
           41586
          ],
          [
           26423
          ],
          [
           72018
          ],
          [
           13251
          ],
          [
           59108
          ],
          [
           34379
          ],
          [
           13517
          ],
          [
           14093
          ],
          [
           27353
          ],
          [
           49895
          ],
          [
           32802
          ],
          [
           28028
          ],
          [
           40881
          ],
          [
           58952
          ],
          [
           34715
          ],
          [
           14203
          ],
          [
           19867
          ],
          [
           7512
          ],
          [
           108698
          ],
          [
           38329
          ],
          [
           38015
          ],
          [
           15312
          ],
          [
           13235
          ],
          [
           102451
          ],
          [
           27192
          ],
          [
           26176
          ],
          [
           42285
          ],
          [
           21126
          ],
          [
           25826
          ],
          [
           13165
          ],
          [
           32743
          ],
          [
           26392
          ],
          [
           25169
          ],
          [
           23613
          ],
          [
           38355
          ],
          [
           19308
          ],
          [
           32562
          ],
          [
           14559
          ],
          [
           22319
          ],
          [
           12470
          ],
          [
           54563
          ],
          [
           25391
          ],
          [
           42056
          ],
          [
           63933
          ],
          [
           58000
          ],
          [
           18288
          ],
          [
           29401
          ],
          [
           40738
          ],
          [
           21464
          ],
          [
           34903
          ],
          [
           59651
          ],
          [
           21983
          ],
          [
           73932
          ],
          [
           14812
          ],
          [
           41578
          ],
          [
           27894
          ],
          [
           19445
          ],
          [
           63524
          ],
          [
           31338
          ],
          [
           19611
          ],
          [
           85240
          ],
          [
           29079
          ],
          [
           28305
          ],
          [
           18919
          ],
          [
           26153
          ],
          [
           38152
          ],
          [
           24226
          ],
          [
           14168
          ],
          [
           11713
          ],
          [
           43282
          ],
          [
           65210
          ],
          [
           22470
          ],
          [
           15617
          ],
          [
           14555
          ],
          [
           58322
          ],
          [
           24323
          ],
          [
           17907
          ],
          [
           36002
          ],
          [
           44822
          ],
          [
           40370
          ],
          [
           18976
          ],
          [
           39150
          ],
          [
           35664
          ],
          [
           16102
          ],
          [
           37793
          ],
          [
           54174
          ],
          [
           37038
          ],
          [
           16513
          ],
          [
           55464
          ],
          [
           44569
          ],
          [
           29143
          ],
          [
           21069
          ],
          [
           26666
          ],
          [
           5100
          ],
          [
           70238
          ],
          [
           34005
          ],
          [
           113858
          ],
          [
           46838
          ],
          [
           24218
          ],
          [
           56950
          ],
          [
           42857
          ],
          [
           36625
          ],
          [
           11697
          ],
          [
           49606
          ],
          [
           20553
          ],
          [
           17382
          ],
          [
           43807
          ],
          [
           29477
          ],
          [
           26732
          ],
          [
           37585
          ],
          [
           233423
          ],
          [
           37302
          ],
          [
           31180
          ],
          [
           74673
          ],
          [
           103857
          ],
          [
           26564
          ],
          [
           45228
          ],
          [
           31234
          ],
          [
           20104
          ],
          [
           9699
          ],
          [
           32777
          ],
          [
           61943
          ],
          [
           13949
          ],
          [
           20353
          ],
          [
           31933
          ],
          [
           42513
          ],
          [
           62296
          ],
          [
           27802
          ],
          [
           36944
          ],
          [
           54279
          ],
          [
           12964
          ],
          [
           44772
          ],
          [
           21097
          ],
          [
           15748
          ],
          [
           44498
          ],
          [
           34326
          ],
          [
           61048
          ],
          [
           20714
          ],
          [
           25013
          ],
          [
           14118
          ],
          [
           42448
          ],
          [
           54028
          ],
          [
           20865
          ],
          [
           20073
          ],
          [
           14854
          ],
          [
           22385
          ],
          [
           14271
          ],
          [
           11870
          ],
          [
           21079
          ],
          [
           17812
          ],
          [
           20567
          ],
          [
           19251
          ],
          [
           19319
          ],
          [
           42677
          ],
          [
           56734
          ],
          [
           91159
          ],
          [
           28796
          ],
          [
           14743
          ],
          [
           24291
          ],
          [
           18108
          ],
          [
           31896
          ],
          [
           28896
          ],
          [
           31133
          ],
          [
           47129
          ],
          [
           15117
          ],
          [
           19221
          ],
          [
           39319
          ],
          [
           25049
          ],
          [
           12850
          ],
          [
           52731
          ],
          [
           15606
          ],
          [
           23467
          ],
          [
           23204
          ],
          [
           41191
          ],
          [
           61278
          ],
          [
           17136
          ],
          [
           18735
          ],
          [
           24916
          ],
          [
           7359
          ],
          [
           99207
          ],
          [
           13175
          ],
          [
           61833
          ],
          [
           16023
          ],
          [
           20051
          ],
          [
           29983
          ],
          [
           34631
          ],
          [
           42446
          ],
          [
           14678
          ],
          [
           38553
          ],
          [
           44946
          ],
          [
           33015
          ],
          [
           37610
          ],
          [
           46279
          ],
          [
           30055
          ],
          [
           72052
          ],
          [
           76234
          ],
          [
           22170
          ],
          [
           115681
          ],
          [
           13903
          ],
          [
           22179
          ],
          [
           15609
          ],
          [
           34579
          ],
          [
           18793
          ],
          [
           66654
          ],
          [
           22481
          ],
          [
           31381
          ],
          [
           34743
          ],
          [
           16229
          ],
          [
           52037
          ],
          [
           59183
          ],
          [
           25035
          ],
          [
           32715
          ],
          [
           24626
          ],
          [
           25291
          ],
          [
           36680
          ],
          [
           16310
          ],
          [
           13806
          ],
          [
           64167
          ],
          [
           17247
          ],
          [
           20107
          ],
          [
           28864
          ],
          [
           7085
          ],
          [
           20909
          ],
          [
           19080
          ],
          [
           48389
          ],
          [
           39164
          ],
          [
           21331
          ],
          [
           24975
          ],
          [
           19575
          ],
          [
           20886
          ],
          [
           22854
          ],
          [
           22269
          ],
          [
           22365
          ],
          [
           15031
          ],
          [
           15108
          ],
          [
           64199
          ],
          [
           33364
          ],
          [
           21761
          ],
          [
           21197
          ],
          [
           17202
          ],
          [
           14875
          ],
          [
           13882
          ],
          [
           22353
          ],
          [
           20317
          ],
          [
           34463
          ],
          [
           35265
          ],
          [
           29056
          ],
          [
           26977
          ],
          [
           19296
          ],
          [
           57175
          ],
          [
           43996
          ],
          [
           22042
          ],
          [
           12450
          ],
          [
           15062
          ],
          [
           22636
          ],
          [
           12840
          ],
          [
           92364
          ],
          [
           30499
          ],
          [
           28291
          ],
          [
           6089
          ],
          [
           40656
          ],
          [
           20123
          ],
          [
           23392
          ],
          [
           42095
          ],
          [
           88764
          ],
          [
           43866
          ],
          [
           19825
          ],
          [
           12431
          ],
          [
           16553
          ],
          [
           15963
          ],
          [
           52993
          ],
          [
           12928
          ],
          [
           16198
          ],
          [
           96513
          ],
          [
           20389
          ],
          [
           19639
          ],
          [
           63879
          ],
          [
           34098
          ],
          [
           60363
          ],
          [
           22149
          ],
          [
           52702
          ],
          [
           8153
          ],
          [
           29845
          ],
          [
           37222
          ],
          [
           47874
          ],
          [
           27609
          ],
          [
           12956
          ],
          [
           5512
          ],
          [
           35281
          ],
          [
           68554
          ],
          [
           12215
          ],
          [
           23485
          ],
          [
           34904
          ],
          [
           58419
          ],
          [
           13356
          ],
          [
           69374
          ],
          [
           39845
          ],
          [
           28536
          ],
          [
           50465
          ],
          [
           9924
          ],
          [
           28776
          ],
          [
           11779
          ],
          [
           11915
          ],
          [
           26604
          ],
          [
           26338
          ],
          [
           41820
          ],
          [
           51425
          ],
          [
           28962
          ],
          [
           34353
          ],
          [
           14370
          ],
          [
           14934
          ],
          [
           23903
          ],
          [
           39104
          ],
          [
           43321
          ],
          [
           14255
          ],
          [
           14832
          ],
          [
           27924
          ],
          [
           21974
          ],
          [
           15959
          ],
          [
           27807
          ],
          [
           37731
          ],
          [
           28193
          ],
          [
           17547
          ],
          [
           76186
          ],
          [
           86358
          ],
          [
           102343
          ],
          [
           20223
          ],
          [
           20707
          ],
          [
           53765
          ],
          [
           13961
          ],
          [
           12271
          ],
          [
           28426
          ],
          [
           20683
          ],
          [
           61535
          ],
          [
           49596
          ],
          [
           41668
          ],
          [
           12256
          ],
          [
           65707
          ],
          [
           38433
          ],
          [
           11679
          ],
          [
           25779
          ],
          [
           34441
          ],
          [
           35202
          ],
          [
           19948
          ],
          [
           30007
          ],
          [
           39575
          ],
          [
           17603
          ],
          [
           87316
          ],
          [
           24308
          ],
          [
           50265
          ],
          [
           21207
          ],
          [
           14084
          ],
          [
           31259
          ],
          [
           17877
          ],
          [
           35644
          ],
          [
           11729
          ],
          [
           24536
          ],
          [
           21988
          ],
          [
           26248
          ],
          [
           45203
          ],
          [
           39344
          ],
          [
           24906
          ],
          [
           11266
          ],
          [
           41448
          ],
          [
           18419
          ],
          [
           125392
          ],
          [
           62082
          ],
          [
           8061
          ],
          [
           11852
          ],
          [
           29526
          ],
          [
           28511
          ],
          [
           48207
          ],
          [
           99330
          ],
          [
           25459
          ],
          [
           44527
          ],
          [
           64471
          ],
          [
           30267
          ],
          [
           69131
          ],
          [
           39366
          ],
          [
           58425
          ],
          [
           36984
          ],
          [
           107733
          ],
          [
           27166
          ],
          [
           36560
          ],
          [
           57790
          ],
          [
           40560
          ],
          [
           18053
          ],
          [
           17458
          ],
          [
           41967
          ],
          [
           19568
          ],
          [
           66285
          ],
          [
           41764
          ],
          [
           76150
          ],
          [
           20648
          ],
          [
           39722
          ],
          [
           32331
          ],
          [
           36576
          ],
          [
           39828
          ],
          [
           18546
          ],
          [
           21309
          ],
          [
           44005
          ],
          [
           10690
          ],
          [
           17308
          ],
          [
           13690
          ],
          [
           34059
          ],
          [
           38291
          ],
          [
           32250
          ],
          [
           29547
          ],
          [
           34313
          ],
          [
           27386
          ],
          [
           8040
          ],
          [
           25710
          ],
          [
           25200
          ],
          [
           24714
          ],
          [
           18213
          ],
          [
           22479
          ],
          [
           51933
          ],
          [
           59475
          ],
          [
           50316
          ],
          [
           20183
          ],
          [
           49421
          ],
          [
           29037
          ],
          [
           15165
          ],
          [
           27048
          ],
          [
           33015
          ],
          [
           16397
          ],
          [
           73021
          ],
          [
           9362
          ],
          [
           87370
          ],
          [
           53342
          ],
          [
           26801
          ],
          [
           14506
          ],
          [
           32676
          ],
          [
           46169
          ],
          [
           14320
          ],
          [
           19239
          ],
          [
           31074
          ],
          [
           18678
          ],
          [
           16150
          ],
          [
           15959
          ],
          [
           11409
          ],
          [
           57438
          ],
          [
           43548
          ],
          [
           23419
          ],
          [
           18838
          ],
          [
           25785
          ],
          [
           9221
          ],
          [
           99593
          ],
          [
           10238
          ],
          [
           9379
          ],
          [
           19934
          ],
          [
           21364
          ],
          [
           71760
          ],
          [
           30066
          ],
          [
           29282
          ],
          [
           80620
          ],
          [
           26084
          ],
          [
           84432
          ],
          [
           17583
          ],
          [
           12666
          ],
          [
           13815
          ],
          [
           5134
          ],
          [
           47955
          ],
          [
           46489
          ],
          [
           46916
          ],
          [
           82304
          ],
          [
           12060
          ],
          [
           20874
          ],
          [
           25305
          ],
          [
           13700
          ],
          [
           27190
          ],
          [
           47441
          ],
          [
           22171
          ],
          [
           30276
          ],
          [
           8041
          ],
          [
           15074
          ],
          [
           15453
          ],
          [
           52097
          ],
          [
           23431
          ],
          [
           11342
          ],
          [
           11962
          ],
          [
           18965
          ],
          [
           82872
          ],
          [
           23723
          ],
          [
           44852
          ],
          [
           47659
          ],
          [
           47322
          ],
          [
           17472
          ],
          [
           31290
          ],
          [
           27811
          ],
          [
           41538
          ],
          [
           17710
          ],
          [
           79519
          ],
          [
           27896
          ],
          [
           20956
          ],
          [
           16349
          ],
          [
           33786
          ],
          [
           34149
          ],
          [
           27870
          ],
          [
           5744
          ],
          [
           21817
          ],
          [
           43527
          ],
          [
           9488
          ],
          [
           41750
          ],
          [
           20888
          ],
          [
           20806
          ],
          [
           15061
          ],
          [
           31998
          ],
          [
           7339
          ],
          [
           28617
          ],
          [
           18524
          ],
          [
           5746
          ],
          [
           63779
          ],
          [
           11489
          ],
          [
           59971
          ],
          [
           13829
          ],
          [
           27952
          ],
          [
           38993
          ],
          [
           64991
          ],
          [
           14634
          ],
          [
           42584
          ],
          [
           13083
          ],
          [
           16420
          ],
          [
           22181
          ],
          [
           60024
          ],
          [
           70124
          ],
          [
           40623
          ],
          [
           20877
          ],
          [
           76762
          ],
          [
           9435
          ],
          [
           15523
          ],
          [
           11
          ],
          [
           9812
          ],
          [
           9876
          ],
          [
           5360
          ],
          [
           6629
          ],
          [
           9185
          ],
          [
           10863
          ],
          [
           13377
          ],
          [
           1
          ]
         ],
         "hovertemplate": "<b>%{hovertext}</b><br><br>count_retiro=%{marker.color}<br>latitud=%{lat}<br>longitud=%{lon}<extra></extra>",
         "hovertext": [
          "Lago Mayor",
          "Diagonal San Antonio",
          "Melchor Ocampo",
          "Morelia",
          "Campos Eliseos",
          "Moras",
          "Claudio Bernard",
          "Agustin Melgar",
          "Simon Bolivar",
          "Lago Muritz",
          "Jose Maria Roa Barcenas",
          "Luz Savi�on",
          "Minnesota",
          "Hamburgo",
          "Nueva York",
          "Salvador Diaz Miron",
          "Prosperidad",
          "Jose Maria Roa Barcenas",
          "Taine",
          "Doctor Marquez",
          "Bahia  de las Palmas",
          "Alhambra",
          "Real de Mayorazgo",
          "Presa Falcon",
          "La Morena",
          "Abasolo",
          "Doctor Andrade",
          "Taine",
          "Tres Picos",
          "2da cerrada de 5 de mayo",
          "Calzada Santa Cruz",
          "Colegio Salesiano",
          "Jalapa",
          "Avenida Coyoacan",
          "Tuxpan",
          "Colima",
          "Amado Nervo",
          "Prolongacion Uxmal",
          "Yuca",
          "Zempoala",
          "Emerson",
          "Jose Maria Velasco",
          "Rio Guadalquivir",
          "Av. de la Paz",
          "Yacatas",
          "Bufalo",
          "Jaime Torres Bodet",
          "La Morena",
          "San Francisco",
          "Jose Maria Olloqui",
          "Londres",
          "Concepcion Beistegui",
          "Cadiz",
          "Calle 27",
          "Guanajuato",
          "Porfirio Diaz",
          "Campeche",
          "Marconi",
          "Pensilvania",
          "Avenida Miguel Hidalgo",
          "Actipan",
          "Av. Morelos",
          "Tlatilco",
          "Amores",
          "Bernardo Couto",
          "San Borja",
          "Avenida Vito Alessio Robles",
          "Jose Maria Olloqui",
          "Lago Xochimilco",
          "Gante",
          "Nueva York",
          "Volcan",
          "Matias Romero",
          "Avenida Claveria",
          "Indiana",
          "Eligio Ancona",
          "Fernando Montes de Oca",
          "Laguna de Mayran",
          "Enrique Granados",
          "Carrillo Puerto",
          "General Prim",
          "Independencia",
          "Bruno Traven",
          "Xicotencatl",
          "Colima",
          "Santander",
          "13 de Septiembre",
          "Nicolas San Juan",
          "Holbein",
          "Toledo",
          "Felix Parra",
          "Tehuantepec",
          "Tonala",
          "Coahuila",
          "Calle 1",
          "Darwin",
          "Fernando de Alva Ixtlilxochitl",
          "Tintoreto",
          "Malintzin",
          "Alfonso Herrera",
          "Rio Lerma",
          "Circuito Interior",
          "Lago Muritz",
          "Presidente Carranza",
          "General Gomez Pedraza",
          "Alfredo Chavero",
          "Emilio Donde",
          "Tennyson",
          "Hidalgo",
          "Ajusco",
          "Naranjo",
          "Tenayuca",
          "Anatole France",
          "Enrique Rebsamen",
          "Moras",
          "Avenida Mexico",
          "Tolsa",
          "Palma Norte",
          "Hortensia",
          "Diagonal San Antonio",
          "Plaza Tlaxcoaque",
          "Monrovia",
          "Rumania",
          "Goethe",
          "Huetzin",
          "Av. Paseo de la Reforma",
          "Gabino Barreda",
          "Comercio",
          "Guadalajara",
          "Oso",
          "Puente Xoco",
          "General Cano",
          "Michoacan",
          "Mazatlan",
          "Anaxagoras",
          "Gobernador Melchor Muzquiz",
          "Romero de Terreros",
          "Tlatilco",
          "Av. Paseo de la Reforma",
          "Isaac Newton",
          "Doctor Barragan",
          "Xochicalco",
          "Tajin",
          "Av. Paseo de la Reforma",
          "Lago Onega",
          "Montes Urales",
          "Francisco Sosa",
          "Heroes Ferrocarrileros",
          "Av. Paseo de la Reforma",
          "Doctor Valenzuela",
          "Doctor Martinez del Rio",
          "Doctor Roberto Gayol",
          "Doctor Liceaga",
          "San Ildefonso",
          "Ignacio Allende",
          "Platon",
          "Boldo",
          "Hamburgo",
          "Vicente Suarez",
          "Nuevo Leon",
          "Fernando Ramirez",
          "Romero",
          "Ruben Dario",
          "Dakota",
          "Martin Mendalde",
          "Alfonso Reyes",
          "Salonica",
          "Laguna de Mayran",
          "Calderon de la Barca",
          "Georgia",
          "Shakespeare",
          "Enrique Rebsamen",
          "Emilio Castelar",
          "Aguascalientes",
          "Av. Victor Hugo",
          "Providencia",
          "Nextitla",
          "Canarias",
          "Maria Luz Bringas",
          "Liverpool",
          "San Lorenzo",
          "Toluca",
          "Av. Paseo de la Reforma",
          "Rio Panuco",
          "20 de Noviembre",
          "Luis Donaldo Colosio",
          "Lago Garda",
          "Toronjil",
          "Matias Romero",
          "Lago Como",
          "Mitla",
          "Joaquin Garcia Icazbalceta",
          "Kiff",
          "Homero",
          "Comercio",
          "Victor Hugo",
          "Luz Savi�on",
          "Mar Mediterraneo",
          "Pedregal",
          "Av. Paseo de la Reforma",
          "Mar Negro",
          "Hegel",
          "Vito Alessio Robles",
          "Maestro Rural",
          "Lago Iseo",
          "Hegel",
          "Heroes del 47",
          "Vicente Guerrero",
          "Parque Espa�a",
          "Acapulco",
          "Lago Tlahuac",
          "Hermes",
          "Bulgaria",
          "Durango",
          "Torres Adalid",
          "Navarra",
          "Esopo",
          "Progreso",
          "Cumbres de Maltrata",
          "Madrid",
          "Sor Juana Ines de la Cruz",
          "Jalapa",
          "Odesa",
          "Merida",
          "Colima",
          "13 de Septiembre",
          "Campos Eliseos",
          "Lago Cuitzeo",
          "Marsella",
          "Manuel Castro Padilla",
          "Molino del Rey",
          "Molino del Rey",
          "Malvon",
          "Av. Paseo de la Reforma",
          "Eugenia",
          "Doctor Mariano Azuela",
          "Lago Poniente",
          "Miguel Laurent",
          "Londres",
          "Merida",
          "Pitagoras",
          "Av. Jardin",
          "Campos Eliseos",
          "Chimalpopoca",
          "Tenayuca",
          "Bajio",
          "San Lorenzo",
          "Republica de Salvador",
          "Coahuila",
          "Jesus Garcia",
          "Pedregal",
          "Torcuato Tasso",
          "Plaza Madrid",
          "Hesiodo",
          "Avenida 1",
          "Amsterdam",
          "Izcoatl",
          "Plan de Guadalupe /Ferrocarril de Cuernavaca",
          "Boldo",
          "Campos Eliseos",
          "Alvaro Obregon",
          "Fernando Montes de Oca",
          "Socrates",
          "Yosemite",
          "Liverpool",
          "Manuel Maria Conteras",
          "Los Juarez",
          "Poussin",
          "Oaxaca",
          "Ignacio Allende",
          "Rio Amazonas",
          "San Borja",
          "Londres",
          "General Antonio Leon",
          "Calle 13",
          "Lopez",
          "Leibnitz",
          "Edgar Allan Poe",
          "Fresno",
          "Gomez Farias",
          "Av. Paseo de la Reforma",
          "Lope de Vega",
          "Andalucia",
          "Francia",
          "Benjamin Hill",
          "Madrid",
          "Fernandez Leal",
          "San Jeronimo",
          "Parroquia",
          "Leibnitz",
          "Lago Victoria",
          "Carlos Dickens",
          "Chilpancingo",
          "Mazatlan",
          "Circuito Mahatma Gandhi",
          "Doctor Jimenez",
          "Pirineos",
          "Boston",
          "Magdalena",
          "Miguel Laurent",
          "Pensilvania",
          "Mateo Aleman",
          "Orizaba",
          "Amores",
          "Av. Plan de San Luis",
          "Anaxagoras",
          "Echeveste",
          "Patricio Sanz",
          "Bahia  de San Hipolito",
          "Alpes",
          "Colegio Salesiano",
          "Diagonal San Antonio",
          "Sinaloa",
          "Guillermo Prieto",
          "Saratoga",
          "Augusto Rodin",
          "Sadi Carnot",
          "Ignacio Aldama",
          "Huatabampo",
          "Plinio",
          "Presa Falcon",
          "Rodriguez Saro",
          "Inglaterra",
          "Mar Mediterraneo",
          "Sabino",
          "Durango",
          "Alfonso XIII",
          "General Salvador Alvarado",
          "Colima",
          "Parroquia",
          "5 de Mayo",
          "Porfirio Diaz",
          "Joaquin Velazquez de Leon",
          "Sullivan",
          "Durango",
          "Antonio Solis",
          "Andres Bello",
          "Jose Toribio Medina",
          "Republica de Guatemala",
          "Mar Mediterraneo",
          "Panzacola",
          "Pilares",
          "Av. de la Republica",
          "Gobernador Rafael Rebollar",
          "Julio Verne",
          "Adolfo Prieto",
          "Diagonal San Antonio",
          "Alvaro Obregon",
          "Gobernador Ignacio Esteva",
          "11 de Abril",
          "Montecito",
          "Tepic",
          "Nicolas San Juan",
          "Frontera",
          "Norte 67",
          "Jesus Garcia",
          "Roma",
          "Ejercito Nacional",
          "Avenida Coyoacan",
          "Av. Pirineos",
          "Xicotencatl",
          "12 de Octubre",
          "Lago Onega",
          "Juan Sanchez Azcona",
          "Ramos Arizpe",
          "Bahia de Chachalacas",
          "Isaac Newton",
          "Nicolas San Juan",
          "Josefa Ortiz de Dominguez",
          "Jose Maria Vertiz",
          "Mier y Pesado",
          "Tajin",
          "Moras",
          "Plateros",
          "Londres",
          "Doctor Arce",
          "Herschel",
          "Torres Adalid",
          "Parroquia",
          "Lago Xochimilco",
          "5 de Febrero",
          "Pedro Luis Ogazon",
          "San Borja",
          "Pitagoras",
          "Presa Don Martin",
          "Av. Paseo de la Reforma",
          "Doctor Roberto Gayol",
          "Recreo",
          "Rio Panuco",
          "Av. Paseo de la Reforma",
          "Heriberto Frias",
          "Moras",
          "Peten",
          "Holbein",
          "Miguel Nore�a",
          "Cozumel",
          "Fernando Montes de Oca",
          "Temistocles",
          "Moras",
          "Heriberto Frias",
          "Tripoli",
          "Eucalipto",
          "Lucerna",
          "Av. Moliere",
          "Liverpool",
          "Porfirio Diaz",
          "Irlanda",
          "Fernando Montes de Oca",
          "Fresno",
          "Magdalena",
          "Solon",
          "Jose Maria Pino Suarez",
          "Av. Ribera de San Cosme",
          "Cadiz",
          "Olivo",
          "Campeche",
          "Prolongacion Tonala",
          "Parque Mexico",
          "Fernando Montes de Oca",
          "Mazatlan",
          "Toronjil",
          "Adolfo Prieto",
          "Zempoala",
          "Observatorio Oriente",
          "Doctor Jimenez",
          "Londres",
          "Av. Francisco Sosa",
          "Tamaulipas",
          "Av. Paseo de la Reforma",
          "Poniente 58",
          "Manzanillo",
          "Tomas Alva Edison",
          "Euler",
          "Ferrocarril de Cuernavaca",
          "Zacatecas",
          "Mineria",
          "Coahuila",
          "Quintana Roo",
          "Tebas",
          "Lago Filt",
          "Filipinas",
          "Ejercito Nacional",
          "Solon",
          "Rincon del Bosque",
          "Heriberto Frias",
          "Luis Donaldo Colosio",
          "San Francisco",
          "Avenida Mexico-Coyoacan",
          "Avenida Republicas",
          "Cadiz",
          "Montecito",
          "San Jeronimo",
          "Uxmal",
          "Av. Prado Norte",
          "Prolongacion Xochicalco",
          "Doctor Enrique Gonzalez Martinez",
          "Manuel Carpio",
          "Heriberto Frias",
          "Rafael Olivia",
          "Cordoba",
          "Doctor Carmona y Valle",
          "Doctor Martinez del Rio",
          "Tlaloc",
          "Av. Paseo de la Reforma",
          "Av. Paseo de la Reforma",
          "Lago Garda",
          "Pensilvania",
          "Lago Ginebra",
          "General Manuel Rincon",
          "Cuauhtemoc",
          "Claudio Bernard",
          "San Borja",
          "Tamaulipas",
          "Hegel",
          "Lago Iseo",
          "San Francisco",
          "Londres",
          "Division del Norte",
          "Benito Juarez",
          "Luis Spota",
          "Romero de Terreros",
          "Gobernador Gregorio V. Gelati",
          "Nueva York",
          "Avenida Aquiles Serdan",
          "Tlacotalpan",
          "Nicolas San Juan",
          "Alvaro Obregon",
          "Eligio Ancona",
          "Merida",
          "Luz Savi�on",
          "Rumania",
          "Sor Juana Ines de la Cruz",
          "San Jeronimo",
          "Av. Paseo de la Reforma",
          "Diego Becerra",
          "Cumbres de Acultzingo",
          "Doctor  Jimenez",
          "Providencia",
          "Avenida del Parque",
          "Nogal",
          "Bahia  de Santa Barbara",
          "Pitagoras",
          "Av. Paseo de la Reforma",
          "Montes Urales",
          "Sonora",
          "San Luis Potosi",
          "Texcoco",
          "Lic. Primo de Verdad",
          "Manuel M. Flores",
          "Avenida Fernando",
          "Plateros",
          "Rio Sena",
          "Matias Romero",
          "Lago Andromaco",
          "Popocatepetl",
          "La Morena",
          "Mazatlan",
          "Lago de Patzcuaro",
          "Choapan",
          "Puebla",
          "Av. Paseo de la Reforma",
          "Cuernavaca",
          "San Lorenzo",
          "Isaac Newton",
          "Anaxagoras",
          "Azores",
          "Jose F. Gutierrez",
          "Empresa",
          "Maria Luz Bringas",
          "Doctor Velasco",
          "Salvador Diaz Miron",
          "Av. Paseo de la Reforma",
          "Castilla",
          "Bajio",
          "Poussin",
          "Fresno",
          "Nuevo Leon",
          "Europa",
          "Tlacoquemecatl",
          "Jose Rosas Moreno",
          "Cda. Alberto Zamora",
          "San Lorenzo",
          "Augusto Rodin",
          "Dante",
          "Alejandro Dumas",
          "General Francisco Murguia",
          "Fernando Ramirez",
          "Benjamin Franklin",
          "Dakota",
          "Union Postal",
          "Petrarca",
          "Avenida 2",
          "Avenida 2",
          "Antonio Solis",
          "Mina",
          "Avenida de los Maestros",
          "Niza",
          "Puebla",
          "Sevilla",
          "Av. Paseo de la Reforma",
          "Victor Hugo",
          "G. Perez Valenzuela",
          "Eugenio Sue",
          "Alabama",
          "Egipto",
          "Puebla",
          "Pacifico",
          "Alvaro Obregon",
          "Rio  Nilo",
          "Cuicuilco",
          "Enrique Rebsamen",
          "20 de Noviembre",
          "Bartolome R. Salido",
          "Bahia  del Espiritu Santo",
          "5 de Febrero",
          "Cuernavaca",
          "Goya",
          "Av. Mexico",
          "Georgia",
          "Avenida Heliopolis",
          "Claudio Bernard",
          "Saltillo",
          "Martin Mendalde",
          "Edgar Alan Poe",
          "Nezahualcoyotl",
          "Tata Vasco",
          "Av. Paseo de la Reforma",
          "Jose Toribio Medina",
          "Canada",
          "Correspondencia",
          "Shakespeare",
          "Juarez",
          "Alfonso Reyes",
          "Gobernador Rafael Rebollar",
          "Jesus Garcia",
          "Tepic",
          "Progreso",
          "Riff",
          "Libertad",
          "Heroes del 47",
          "Manzano",
          "Mutualismo",
          "Nuevo Leon",
          "Alvaro Obregon",
          "Av. Paseo de la Reforma",
          "Angel del Campo",
          "Bahia De La Concepcion",
          "Quintana Roo",
          "Ajusco",
          "Patricio Sanz",
          "Campeche",
          "Heroes Ferrocarrileros",
          "Lago Chalco",
          "Madrid",
          "California",
          "Atzayacatl",
          "Independencia",
          "Torres Adalid",
          "Boston",
          "Carolina",
          "Palenque",
          "Rio  Elba",
          "Republica de Cuba",
          "Avenida de los Maestros",
          "Av. Paseo de la Reforma",
          "Tonala",
          "Doctor Marquez",
          "Ahorro Postal",
          "Miguel Laurent",
          "Av. Paseo de la Reforma",
          "Macedonio Alcala",
          "Juarez",
          "San Borja",
          "Mier y Pesado",
          "Lago Tanganica",
          "Juan Vazquez de Mella",
          "Alfonso Herrera",
          "Tlacoquemecatl",
          "Hortensia",
          "Avenida Fernando",
          "Jose Rosas Moreno",
          "Gomez Farias",
          "Anaxagoras",
          "Amores",
          "Mar Blanco",
          "Gutierrez Najera",
          "Wallon",
          "Xicotencatl",
          "Luz Savi�on",
          "Miguel Negrete",
          "Irlanda",
          "Parque Espa�a",
          "Biologo Maximino Martinez",
          "Yucatan",
          "Calle 15",
          "Doctor  Enrique Gozalez Martinez",
          "Ernesto Pugibet",
          "Jaime Torres Bodet",
          "Calle 27",
          "Rio Guadalquivir",
          "Manuel J. Othon",
          "Prolongacion Nueces",
          "Alejandro Dumas",
          "Turin",
          "Chilpancingo",
          "Benjamin Hill",
          "Republica de Cuba",
          "Nuevo Leon",
          "San Gregorio",
          "Adolfo Prieto",
          null,
          "Juan Pablo II",
          "Manuel M Ponce",
          "Guty Cardenas",
          "Ricardo Palmerin",
          "Membrillo",
          "Avenida Plan de San Luis",
          "Palestina",
          null
         ],
         "lat": [
          19.440399,
          19.394283,
          19.347283,
          19.424197,
          19.428847,
          19.3614885,
          19.422392,
          19.418879,
          19.402088,
          19.439249,
          19.41175,
          19.390019,
          19.393701,
          19.426384,
          19.3865269,
          19.449773,
          19.403019,
          19.411323,
          19.435525,
          19.411609,
          19.435039,
          19.359093,
          19.359863,
          19.442338,
          19.398692,
          19.350062,
          19.426611,
          19.42894,
          19.42783,
          19.433757,
          19.370586,
          19.443092,
          19.408218,
          19.391456,
          19.406683,
          19.420667,
          19.445528,
          19.363404,
          19.466423,
          19.379521,
          19.437596,
          19.36295,
          19.428184,
          19.347693,
          19.396983,
          19.368403,
          19.450506,
          19.399908,
          19.37099,
          19.363548,
          19.4226672,
          19.388927,
          19.374267,
          19.385751,
          19.417702,
          19.380691,
          19.410073,
          19.436522,
          19.393059,
          19.350776,
          19.370615,
          19.432819,
          19.45883,
          19.36715,
          19.406458,
          19.382115,
          19.352203,
          19.363741,
          19.43726,
          19.432024,
          19.393643,
          19.429243,
          19.381287,
          19.465636,
          19.38542,
          19.45272,
          19.4148233,
          19.440818,
          19.40697,
          19.361245,
          19.430369,
          19.433705,
          19.359583,
          19.354876,
          19.421138,
          19.373438,
          19.398946,
          19.36704,
          19.381123,
          19.423664,
          19.3676,
          19.404907,
          19.416128,
          19.410737,
          19.395322,
          19.428949,
          19.420029,
          19.384146,
          19.352143,
          19.440252,
          19.432223,
          19.4165298,
          19.444433,
          19.349149,
          19.414793,
          19.417595,
          19.430267,
          19.435985,
          19.436208,
          19.367131,
          19.455189,
          19.378281,
          19.437934,
          19.383904,
          19.367816,
          19.413789,
          19.427329,
          19.436741,
          19.3548028,
          19.398858,
          19.423056,
          19.361371,
          19.370133,
          19.429261,
          19.44484,
          19.42916,
          19.437665,
          19.4025195,
          19.4204398,
          19.373384,
          19.361213,
          19.411227,
          19.410797,
          19.414119,
          19.401986,
          19.411711,
          19.394092,
          19.464966,
          19.424941,
          19.431242,
          19.418013,
          19.402277,
          19.376367,
          19.424858,
          19.44269,
          19.428679,
          19.349277,
          19.44174727,
          19.426614,
          19.425126,
          19.417668,
          19.377966,
          19.421599,
          19.436531,
          19.3543111,
          19.434353,
          19.464826,
          19.427937,
          19.411703,
          19.404452,
          19.412853,
          19.384623,
          19.42592,
          19.397693,
          19.361699,
          19.408676,
          19.47072,
          19.44046,
          19.436064,
          19.38885,
          19.43175,
          19.391323,
          19.431799,
          19.407927,
          19.387174,
          19.3932287,
          19.455531,
          19.372175,
          19.36952,
          19.424584,
          19.372101,
          19.405246,
          19.425597,
          19.430963,
          19.428485,
          19.442467,
          19.449367,
          19.47111,
          19.379331,
          19.442127,
          19.384589,
          19.441114,
          19.381277,
          19.436142,
          19.403997,
          19.370891,
          19.393832,
          19.453432,
          19.424842,
          19.429453,
          19.4553348,
          19.431255,
          19.351594,
          19.449039,
          19.440905,
          19.432451,
          19.35072,
          19.355339,
          19.415358,
          19.420281,
          19.445916,
          19.3639778,
          19.364528,
          19.41919,
          19.3893,
          19.395812,
          19.433542,
          19.406069,
          19.395205,
          19.3564861,
          19.4450444,
          19.422288,
          19.367465,
          19.416596,
          19.419579,
          19.399201,
          19.431791,
          19.449125,
          19.425437,
          19.3625527,
          19.4136683,
          19.4168415,
          19.468246,
          19.430907,
          19.388978,
          19.44701,
          19.379458,
          19.372907,
          19.424187,
          19.421576,
          19.376918,
          19.46173,
          19.429332,
          19.4223,
          19.376997,
          19.403204,
          19.375495,
          19.429189,
          19.412182,
          19.443684,
          19.426308,
          19.434861,
          19.41955,
          19.434182,
          19.392721,
          19.411361,
          19.437334,
          19.454257,
          19.468293,
          19.427705,
          19.417715,
          19.381804,
          19.438168,
          19.396333,
          19.427114,
          19.433803,
          19.37075451,
          19.375806,
          19.422379,
          19.465377,
          19.431192,
          19.382889,
          19.35674,
          19.412776,
          19.390306,
          19.430625,
          19.435867,
          19.430098,
          19.457594,
          19.437167,
          19.427338,
          19.437431,
          19.390945,
          19.35886344,
          19.408841,
          19.3574361,
          19.347246,
          19.427059,
          19.369823,
          19.434147,
          19.440508,
          19.430515,
          19.4086886,
          19.411825,
          19.424282,
          19.408649,
          19.363049,
          19.381714,
          19.386985,
          19.373833,
          19.384474,
          19.442421,
          19.422148,
          19.362037,
          19.46047,
          19.4015,
          19.428214,
          19.384447,
          19.438984,
          19.427517,
          19.449405,
          19.391991,
          19.420627,
          19.438197,
          19.358634,
          19.385632,
          19.436274,
          19.353243,
          19.407507,
          19.432655,
          19.440501,
          19.36623,
          19.344271,
          19.460292,
          19.449104,
          19.418141,
          19.39489,
          19.404651,
          19.418031,
          19.368107,
          19.434514,
          19.379941,
          19.441533,
          19.432452,
          19.418749,
          19.409473,
          19.426744,
          19.405358,
          19.434962,
          19.459553,
          19.346975,
          19.377932,
          19.436764,
          19.410036,
          19.429314,
          19.396917,
          19.394412,
          19.419225,
          19.409577,
          19.396359,
          19.394842,
          19.406959,
          19.384242,
          19.415192,
          19.460356,
          19.442717,
          19.429947,
          19.438616,
          19.397923,
          19.361743,
          19.355945,
          19.399763,
          19.438347,
          19.37104,
          19.438228,
          19.436287,
          19.42977,
          19.396513,
          19.3580028,
          19.425502,
          19.397373,
          19.38748,
          19.374756,
          19.364577,
          19.427132,
          19.413469,
          19.432276,
          19.388148,
          19.370221,
          19.444826,
          19.39516,
          19.3503611,
          19.382606,
          19.398532,
          19.440106,
          19.42491,
          19.372474,
          19.371279,
          19.429804,
          19.43163,
          19.379435,
          19.364916,
          19.38483,
          19.380839,
          19.363153,
          19.4208433,
          19.413314,
          19.435882,
          19.3589028,
          19.372469,
          19.36205,
          19.453975,
          19.428989,
          19.440195,
          19.424558,
          19.378423,
          19.346489,
          19.378362,
          19.458881,
          19.397651,
          19.434361,
          19.43144,
          19.44021597,
          19.399664,
          19.354886,
          19.409894,
          19.401807,
          19.41128,
          19.375518,
          19.41689,
          19.466937,
          19.373307,
          19.400943,
          19.404029,
          19.41638,
          19.355942,
          19.349348,
          19.406833,
          19.4267528,
          19.464891,
          19.407468,
          19.437569,
          19.432888,
          19.456546,
          19.415905,
          19.401682,
          19.412829,
          19.404554,
          19.46969,
          19.441123,
          19.362323,
          19.438551,
          19.435478,
          19.430153,
          19.375397,
          19.442707,
          19.391056,
          19.364912,
          19.364001,
          19.39859,
          19.395043,
          19.42649,
          19.370957,
          19.42703,
          19.367209,
          19.44763,
          19.452688,
          19.388528,
          19.354411,
          19.414303,
          19.419509,
          19.417133,
          19.444053,
          19.434944,
          19.428802,
          19.448935,
          19.391431,
          19.445039,
          19.359475,
          19.352052,
          19.42037,
          19.385531,
          19.411771,
          19.433567,
          19.446073,
          19.385039,
          19.428985,
          19.3705556,
          19.45968,
          19.377516,
          19.394601,
          19.412455,
          19.391647,
          19.46961,
          19.409098,
          19.380087,
          19.418304,
          19.453663,
          19.41199,
          19.392195,
          19.36053,
          19.4459583,
          19.426755,
          19.431256,
          19.36672,
          19.392463,
          19.423673,
          19.388178,
          19.394693,
          19.4435806,
          19.437667,
          19.382328,
          19.424784,
          19.425905,
          19.412982,
          19.413232,
          19.46669,
          19.433766,
          19.416221,
          19.401239,
          19.367522,
          19.4335895,
          19.380617,
          19.443228,
          19.415237,
          19.398143,
          19.409859,
          19.438506,
          19.406745,
          19.423318,
          19.42454,
          19.414968,
          19.373112,
          19.433607,
          19.396328,
          19.365125,
          19.470485,
          19.375865,
          19.369782,
          19.419444,
          19.448764,
          19.433431,
          19.394422,
          19.404268,
          19.374912,
          19.44310811,
          19.41299,
          19.34406,
          19.378546,
          19.437118,
          19.344855,
          19.373725,
          19.382109,
          19.4264486,
          19.431417,
          19.4034757,
          19.413235,
          19.404733,
          19.393699,
          19.390924,
          19.431172,
          19.392634,
          19.388748,
          19.409817,
          19.440839,
          19.453197,
          19.424137,
          19.421762,
          19.368109,
          19.42528,
          19.427575,
          19.351426,
          19.434076,
          19.391472,
          19.462152,
          19.41966,
          19.344976,
          19.417102,
          19.428491,
          19.375677,
          19.386212,
          19.430722,
          19.381824,
          19.438143,
          19.41981,
          19.416886,
          19.373198,
          19.35154,
          19.387624,
          19.468315,
          19.424161,
          19.407479,
          19.37165,
          19.43384,
          19.425311,
          19.3459701,
          19.43542,
          19.404654,
          19.347503,
          19.392523,
          19.429877,
          19.4352787,
          19.40655,
          19.40796,
          19.444031,
          19.406236,
          19.40198,
          19.358934,
          19.462421,
          19.351578,
          19.362041,
          19.400767,
          19.407233,
          19.418774,
          19.427553,
          19.408087,
          19.434183,
          19.405533,
          19.36576,
          19.373004,
          19.410529,
          19.440985,
          19.446449,
          19.35675,
          19.382042,
          19.439741,
          19.433344,
          19.389477,
          19.379593,
          19.38213,
          19.3931,
          19.425355,
          19.436931,
          19.455986,
          19.432595,
          19.4206,
          19.410884,
          19.388373,
          19.375865,
          19.424784,
          19.361845,
          19.4351365,
          19.384849,
          19.40071,
          19.438349,
          19.437014,
          19.439347,
          19.378827,
          19.355544,
          19.399172,
          19.434081,
          19.357076,
          19.3856299,
          19.387342,
          19.455343,
          19.415713,
          19.431033,
          19.352531,
          19.393807,
          19.387506,
          19.348076,
          19.416163,
          19.4608519,
          19.41286,
          19.389358,
          19.451838,
          19.429947,
          19.442,
          19.385494,
          19.43062276,
          19.414595,
          19.4705145,
          19.433419,
          19.426785,
          19.406872,
          19.407512,
          19.4374,
          19.410468,
          19.346895,
          19.36473,
          null,
          19.359053,
          19.35355,
          19.355817,
          19.358262,
          19.464564,
          19.465552,
          19.463865,
          null
         ],
         "legendgroup": "",
         "lon": [
          -99.186784,
          -99.158756,
          -99.170834,
          -99.156127,
          -99.201299,
          -99.17743249,
          -99.150358,
          -99.176854,
          -99.142976,
          -99.181065,
          -99.14096,
          -99.15111,
          -99.175834,
          -99.164255,
          -99.1751519,
          -99.163136,
          -99.174934,
          -99.135626,
          -99.184713,
          -99.15314,
          -99.173879,
          -99.145247,
          -99.165065,
          -99.205198,
          -99.161273,
          -99.160024,
          -99.14447,
          -99.185389,
          -99.191539,
          -99.135331,
          -99.142294,
          -99.177612,
          -99.159911,
          -99.166157,
          -99.167962,
          -99.15645,
          -99.166934,
          -99.160395,
          -99.173061,
          -99.150052,
          -99.188785,
          -99.183161,
          -99.170013,
          -99.187026,
          -99.155114,
          -99.177472,
          -99.157375,
          -99.166553,
          -99.176135,
          -99.170766,
          -99.1699751,
          -99.163127,
          -99.180546,
          -99.186297,
          -99.155313,
          -99.175036,
          -99.175542,
          -99.139811,
          -99.179483,
          -99.155379,
          -99.181606,
          -99.151734,
          -99.164513,
          -99.17055,
          -99.138735,
          -99.153988,
          -99.178393,
          -99.171268,
          -99.179624,
          -99.139705,
          -99.178156,
          -99.207267,
          -99.1702,
          -99.186342,
          -99.17823,
          -99.158014,
          -99.1783527,
          -99.176961,
          -99.14383,
          -99.16239,
          -99.154419,
          -99.146665,
          -99.162085,
          -99.153611,
          -99.154725,
          -99.179531,
          -99.183254,
          -99.167387,
          -99.18667,
          -99.172568,
          -99.18499167,
          -99.162485,
          -99.162097,
          -99.165716,
          -99.181667,
          -99.179796,
          -99.140999,
          -99.185491,
          -99.162096,
          -99.163455,
          -99.161686,
          -99.1790435,
          -99.179664,
          -99.169646,
          -99.185083,
          -99.140972,
          -99.14861,
          -99.194832,
          -99.141931,
          -99.142838,
          -99.157644,
          -99.15841,
          -99.197241,
          -99.160875,
          -99.175269,
          -99.169427,
          -99.149971,
          -99.134811,
          -99.17541944,
          -99.151211,
          -99.134941,
          -99.150619,
          -99.145866,
          -99.17538,
          -99.17049,
          -99.162703,
          -99.164018,
          -99.1781595,
          -99.1727208,
          -99.178173,
          -99.16752,
          -99.185514,
          -99.168143,
          -99.177214,
          -99.156366,
          -99.190139,
          -99.162139,
          -99.160413,
          -99.17233,
          -99.191613,
          -99.144598,
          -99.153294,
          -99.155872,
          -99.185181,
          -99.19083,
          -99.206605,
          -99.164921,
          -99.15563897,
          -99.168078,
          -99.143391,
          -99.152775,
          -99.170272,
          -99.143408,
          -99.131497,
          -99.16243611,
          -99.20322,
          -99.163177,
          -99.161245,
          -99.175753,
          -99.171438,
          -99.138723,
          -99.139817,
          -99.190755,
          -99.172981,
          -99.171387,
          -99.176759,
          -99.17835,
          -99.174564,
          -99.198898,
          -99.17772,
          -99.177399,
          -99.15936,
          -99.201565,
          -99.168734,
          -99.143708,
          -99.1684308,
          -99.175222,
          -99.146356,
          -99.179421,
          -99.163688,
          -99.161501,
          -99.15643,
          -99.171409,
          -99.166986,
          -99.1338,
          -99.151658,
          -99.182461,
          -99.1653,
          -99.161163,
          -99.184433,
          -99.150517,
          -99.161636,
          -99.145804,
          -99.200996,
          -99.1776,
          -99.151577,
          -99.171466,
          -99.174636,
          -99.203739,
          -99.16283,
          -99.1814278,
          -99.188065,
          -99.184772,
          -99.170246,
          -99.181743,
          -99.188033,
          -99.146786,
          -99.165613,
          -99.171902,
          -99.174392,
          -99.170401,
          -99.18091389,
          -99.146988,
          -99.169764,
          -99.15633,
          -99.145347,
          -99.207808,
          -99.183549,
          -99.155049,
          -99.16945556,
          -99.15713333,
          -99.162138,
          -99.148786,
          -99.156879,
          -99.161314,
          -99.179943,
          -99.207373,
          -99.173442,
          -99.159458,
          -99.1889526,
          -99.1919528,
          -99.1925204,
          -99.168165,
          -99.160148,
          -99.174811,
          -99.154318,
          -99.140943,
          -99.149207,
          -99.166497,
          -99.158015,
          -99.16108,
          -99.16225,
          -99.202181,
          -99.139872,
          -99.158779,
          -99.16596,
          -99.177819,
          -99.132759,
          -99.158443,
          -99.152465,
          -99.2033,
          -99.183322,
          -99.166214,
          -99.189835,
          -99.184727,
          -99.171271,
          -99.169573,
          -99.172593,
          -99.16557,
          -99.19912,
          -99.162729,
          -99.142997,
          -99.203888,
          -99.172667,
          -99.158251,
          -99.166223,
          -99.18743854,
          -99.185527,
          -99.164137,
          -99.179197,
          -99.163546,
          -99.158352,
          -99.15309,
          -99.182805,
          -99.184812,
          -99.14248,
          -99.179856,
          -99.200074,
          -99.159455,
          -99.158313,
          -99.16672,
          -99.187215,
          -99.142972,
          -99.18292974,
          -99.181692,
          -99.16379444,
          -99.15857,
          -99.137116,
          -99.172164,
          -99.179835,
          -99.193681,
          -99.203331,
          -99.169938,
          -99.178456,
          -99.180334,
          -99.151126,
          -99.158436,
          -99.176664,
          -99.173416,
          -99.157433,
          -99.176084,
          -99.199838,
          -99.160645,
          -99.172683,
          -99.16727,
          -99.156406,
          -99.139494,
          -99.172039,
          -99.177549,
          -99.208412,
          -99.176635,
          -99.162684,
          -99.16821,
          -99.165918,
          -99.152732,
          -99.180848,
          -99.158425,
          -99.163753,
          -99.155541,
          -99.205727,
          -99.205086,
          -99.177904,
          -99.149973,
          -99.188303,
          -99.159931,
          -99.174709,
          -99.1389,
          -99.179375,
          -99.168435,
          -99.164376,
          -99.138068,
          -99.177224,
          -99.165268,
          -99.15924,
          -99.171942,
          -99.135939,
          -99.193986,
          -99.14316,
          -99.133729,
          -99.185111,
          -99.178791,
          -99.166594,
          -99.153865,
          -99.187978,
          -99.196965,
          -99.166264,
          -99.158907,
          -99.155099,
          -99.183818,
          -99.183579,
          -99.173025,
          -99.163021,
          -99.16326,
          -99.154837,
          -99.174283,
          -99.152262,
          -99.159698,
          -99.207577,
          -99.167248,
          -99.143867,
          -99.149258,
          -99.177538,
          -99.190503,
          -99.165653,
          -99.152269,
          -99.174888,
          -99.19349,
          -99.160924,
          -99.17010556,
          -99.146337,
          -99.164598,
          -99.153876,
          -99.173539,
          -99.186288,
          -99.160369,
          -99.14825,
          -99.18064,
          -99.148446,
          -99.173862,
          -99.178393,
          -99.139532,
          -99.1871111,
          -99.156592,
          -99.157308,
          -99.210031,
          -99.172455,
          -99.171639,
          -99.177623,
          -99.169451,
          -99.158547,
          -99.162794,
          -99.175985,
          -99.15363,
          -99.183932,
          -99.186963,
          -99.1713729,
          -99.175225,
          -99.19152,
          -99.17799722,
          -99.164538,
          -99.154976,
          -99.152525,
          -99.153618,
          -99.200715,
          -99.163518,
          -99.181891,
          -99.145828,
          -99.144007,
          -99.159215,
          -99.169946,
          -99.206342,
          -99.132513,
          -99.15616778,
          -99.145136,
          -99.184642,
          -99.164288,
          -99.15909,
          -99.169825,
          -99.144118,
          -99.17562,
          -99.162948,
          -99.172471,
          -99.147989,
          -99.184342,
          -99.1495,
          -99.157461,
          -99.179015,
          -99.180457,
          -99.16861944,
          -99.177242,
          -99.165141,
          -99.15468,
          -99.183605,
          -99.169344,
          -99.15954,
          -99.176398,
          -99.155116,
          -99.169953,
          -99.18405,
          -99.195857,
          -99.148805,
          -99.206298,
          -99.206359,
          -99.181355,
          -99.163778,
          -99.152956,
          -99.1712,
          -99.162968,
          -99.150422,
          -99.137732,
          -99.173821,
          -99.133537,
          -99.158886,
          -99.212845,
          -99.15872,
          -99.1554,
          -99.170157,
          -99.160616,
          -99.147795,
          -99.157542,
          -99.153227,
          -99.145649,
          -99.167429,
          -99.150295,
          -99.164381,
          -99.179295,
          -99.178989,
          -99.194078,
          -99.159437,
          -99.157981,
          -99.146818,
          -99.169673,
          -99.173783,
          -99.188096,
          -99.181654,
          -99.174018,
          -99.15664,
          -99.15666667,
          -99.1818,
          -99.148116,
          -99.165054,
          -99.188489,
          -99.177331,
          -99.18983,
          -99.167181,
          -99.16427,
          -99.15956,
          -99.163756,
          -99.155699,
          -99.163987,
          -99.1475,
          -99.16137222,
          -99.135014,
          -99.158153,
          -99.188409,
          -99.150544,
          -99.147957,
          -99.169689,
          -99.175531,
          -99.16488333,
          -99.17711,
          -99.159877,
          -99.172119,
          -99.204236,
          -99.166936,
          -99.164121,
          -99.180302,
          -99.130918,
          -99.134909,
          -99.137404,
          -99.181727,
          -99.1678193,
          -99.167066,
          -99.202492,
          -99.16659,
          -99.148333,
          -99.179565,
          -99.172696,
          -99.178272,
          -99.15833,
          -99.173247,
          -99.174766,
          -99.166981,
          -99.188528,
          -99.156871,
          -99.155477,
          -99.188509,
          -99.185573,
          -99.179707,
          -99.149776,
          -99.156817,
          -99.155142,
          -99.143291,
          -99.160503,
          -99.185807,
          -99.16245373,
          -99.171675,
          -99.155983,
          -99.174297,
          -99.161862,
          -99.163575,
          -99.169807,
          -99.181056,
          -99.1781433,
          -99.195774,
          -99.1817166,
          -99.143476,
          -99.174461,
          -99.175664,
          -99.13895,
          -99.185612,
          -99.183737,
          -99.183924,
          -99.141643,
          -99.152265,
          -99.16645,
          -99.161317,
          -99.166931,
          -99.151863,
          -99.171099,
          -99.17702,
          -99.175455,
          -99.194091,
          -99.1736,
          -99.178291,
          -99.17588,
          -99.157824,
          -99.165607,
          -99.171693,
          -99.152953,
          -99.160583,
          -99.133698,
          -99.148086,
          -99.17519,
          -99.135941,
          -99.173591,
          -99.184274,
          -99.164523,
          -99.180978,
          -99.177386,
          -99.153117,
          -99.174403,
          -99.17015,
          -99.19968,
          -99.137421,
          -99.17296,
          -99.150317,
          -99.136966,
          -99.15244,
          -99.146194,
          -99.177569,
          -99.1477913,
          -99.172275,
          -99.187901,
          -99.152187,
          -99.166616,
          -99.17132,
          -99.156064,
          -99.183614,
          -99.150941,
          -99.175158,
          -99.172533,
          -99.172131,
          -99.157081,
          -99.167396,
          -99.137763,
          -99.173089,
          -99.164913,
          -99.144413,
          -99.174764,
          -99.160873,
          -99.152935,
          -99.176028,
          -99.171769,
          -99.173336,
          -99.168901,
          -99.14404,
          -99.157513,
          -99.181351,
          -99.178814,
          -99.152012,
          -99.17515,
          -99.133952,
          -99.165966,
          -99.154995,
          -99.163312,
          -99.144975,
          -99.139746,
          -99.168219,
          -99.172119,
          -99.186887,
          -99.1460756,
          -99.16704,
          -99.163831,
          -99.192904,
          -99.207932,
          -99.160074,
          -99.176944,
          -99.178992,
          -99.140625,
          -99.162434,
          -99.160189,
          -99.1582241,
          -99.165629,
          -99.179056,
          -99.141227,
          -99.18222,
          -99.164913,
          -99.171133,
          -99.146338,
          -99.14906,
          -99.170795,
          -99.1711992,
          -99.160661,
          -99.182606,
          -99.154584,
          -99.14591,
          -99.15933333,
          -99.183744,
          -99.17123066,
          -99.135886,
          -99.1700615,
          -99.195746,
          -99.155535,
          -99.169572,
          -99.177361,
          -99.137571,
          -99.172802,
          -99.163868,
          -99.174447,
          null,
          -99.184317,
          -99.189519,
          -99.189142,
          -99.18809,
          -99.169496,
          -99.166851,
          -99.18229,
          null
         ],
         "marker": {
          "color": [
           41316,
           23846,
           12405,
           51450,
           19326,
           8090,
           40828,
           47520,
           22581,
           43770,
           9437,
           29558,
           12862,
           77021,
           30276,
           39804,
           42447,
           8814,
           30110,
           13861,
           27045,
           9021,
           14630,
           19777,
           26895,
           13470,
           39467,
           27764,
           26177,
           22917,
           37830,
           17719,
           48486,
           44015,
           84283,
           39482,
           72392,
           18558,
           11770,
           24377,
           23825,
           24603,
           41298,
           50701,
           37963,
           9301,
           32978,
           18834,
           13888,
           12265,
           68959,
           31872,
           19622,
           32464,
           27638,
           14101,
           44057,
           33711,
           21753,
           12855,
           24709,
           35691,
           11753,
           19547,
           14344,
           25228,
           12461,
           9573,
           26069,
           55480,
           25020,
           30943,
           25464,
           14069,
           19955,
           31984,
           86826,
           22970,
           41104,
           25513,
           41061,
           43538,
           7307,
           18661,
           51382,
           72835,
           23455,
           36243,
           26315,
           95721,
           10688,
           35095,
           66757,
           64072,
           45690,
           36247,
           17543,
           23660,
           16653,
           36966,
           43648,
           40089,
           15654,
           15060,
           31737,
           19076,
           39386,
           15995,
           92409,
           12990,
           29775,
           36706,
           15264,
           16135,
           13982,
           59673,
           112825,
           17568,
           22160,
           30123,
           20694,
           40060,
           15916,
           20530,
           15652,
           129886,
           54908,
           27866,
           70924,
           73436,
           27717,
           27804,
           48401,
           51710,
           30190,
           38069,
           21810,
           13095,
           31529,
           41586,
           26423,
           72018,
           13251,
           59108,
           34379,
           13517,
           14093,
           27353,
           49895,
           32802,
           28028,
           40881,
           58952,
           34715,
           14203,
           19867,
           7512,
           108698,
           38329,
           38015,
           15312,
           13235,
           102451,
           27192,
           26176,
           42285,
           21126,
           25826,
           13165,
           32743,
           26392,
           25169,
           23613,
           38355,
           19308,
           32562,
           14559,
           22319,
           12470,
           54563,
           25391,
           42056,
           63933,
           58000,
           18288,
           29401,
           40738,
           21464,
           34903,
           59651,
           21983,
           73932,
           14812,
           41578,
           27894,
           19445,
           63524,
           31338,
           19611,
           85240,
           29079,
           28305,
           18919,
           26153,
           38152,
           24226,
           14168,
           11713,
           43282,
           65210,
           22470,
           15617,
           14555,
           58322,
           24323,
           17907,
           36002,
           44822,
           40370,
           18976,
           39150,
           35664,
           16102,
           37793,
           54174,
           37038,
           16513,
           55464,
           44569,
           29143,
           21069,
           26666,
           5100,
           70238,
           34005,
           113858,
           46838,
           24218,
           56950,
           42857,
           36625,
           11697,
           49606,
           20553,
           17382,
           43807,
           29477,
           26732,
           37585,
           233423,
           37302,
           31180,
           74673,
           103857,
           26564,
           45228,
           31234,
           20104,
           9699,
           32777,
           61943,
           13949,
           20353,
           31933,
           42513,
           62296,
           27802,
           36944,
           54279,
           12964,
           44772,
           21097,
           15748,
           44498,
           34326,
           61048,
           20714,
           25013,
           14118,
           42448,
           54028,
           20865,
           20073,
           14854,
           22385,
           14271,
           11870,
           21079,
           17812,
           20567,
           19251,
           19319,
           42677,
           56734,
           91159,
           28796,
           14743,
           24291,
           18108,
           31896,
           28896,
           31133,
           47129,
           15117,
           19221,
           39319,
           25049,
           12850,
           52731,
           15606,
           23467,
           23204,
           41191,
           61278,
           17136,
           18735,
           24916,
           7359,
           99207,
           13175,
           61833,
           16023,
           20051,
           29983,
           34631,
           42446,
           14678,
           38553,
           44946,
           33015,
           37610,
           46279,
           30055,
           72052,
           76234,
           22170,
           115681,
           13903,
           22179,
           15609,
           34579,
           18793,
           66654,
           22481,
           31381,
           34743,
           16229,
           52037,
           59183,
           25035,
           32715,
           24626,
           25291,
           36680,
           16310,
           13806,
           64167,
           17247,
           20107,
           28864,
           7085,
           20909,
           19080,
           48389,
           39164,
           21331,
           24975,
           19575,
           20886,
           22854,
           22269,
           22365,
           15031,
           15108,
           64199,
           33364,
           21761,
           21197,
           17202,
           14875,
           13882,
           22353,
           20317,
           34463,
           35265,
           29056,
           26977,
           19296,
           57175,
           43996,
           22042,
           12450,
           15062,
           22636,
           12840,
           92364,
           30499,
           28291,
           6089,
           40656,
           20123,
           23392,
           42095,
           88764,
           43866,
           19825,
           12431,
           16553,
           15963,
           52993,
           12928,
           16198,
           96513,
           20389,
           19639,
           63879,
           34098,
           60363,
           22149,
           52702,
           8153,
           29845,
           37222,
           47874,
           27609,
           12956,
           5512,
           35281,
           68554,
           12215,
           23485,
           34904,
           58419,
           13356,
           69374,
           39845,
           28536,
           50465,
           9924,
           28776,
           11779,
           11915,
           26604,
           26338,
           41820,
           51425,
           28962,
           34353,
           14370,
           14934,
           23903,
           39104,
           43321,
           14255,
           14832,
           27924,
           21974,
           15959,
           27807,
           37731,
           28193,
           17547,
           76186,
           86358,
           102343,
           20223,
           20707,
           53765,
           13961,
           12271,
           28426,
           20683,
           61535,
           49596,
           41668,
           12256,
           65707,
           38433,
           11679,
           25779,
           34441,
           35202,
           19948,
           30007,
           39575,
           17603,
           87316,
           24308,
           50265,
           21207,
           14084,
           31259,
           17877,
           35644,
           11729,
           24536,
           21988,
           26248,
           45203,
           39344,
           24906,
           11266,
           41448,
           18419,
           125392,
           62082,
           8061,
           11852,
           29526,
           28511,
           48207,
           99330,
           25459,
           44527,
           64471,
           30267,
           69131,
           39366,
           58425,
           36984,
           107733,
           27166,
           36560,
           57790,
           40560,
           18053,
           17458,
           41967,
           19568,
           66285,
           41764,
           76150,
           20648,
           39722,
           32331,
           36576,
           39828,
           18546,
           21309,
           44005,
           10690,
           17308,
           13690,
           34059,
           38291,
           32250,
           29547,
           34313,
           27386,
           8040,
           25710,
           25200,
           24714,
           18213,
           22479,
           51933,
           59475,
           50316,
           20183,
           49421,
           29037,
           15165,
           27048,
           33015,
           16397,
           73021,
           9362,
           87370,
           53342,
           26801,
           14506,
           32676,
           46169,
           14320,
           19239,
           31074,
           18678,
           16150,
           15959,
           11409,
           57438,
           43548,
           23419,
           18838,
           25785,
           9221,
           99593,
           10238,
           9379,
           19934,
           21364,
           71760,
           30066,
           29282,
           80620,
           26084,
           84432,
           17583,
           12666,
           13815,
           5134,
           47955,
           46489,
           46916,
           82304,
           12060,
           20874,
           25305,
           13700,
           27190,
           47441,
           22171,
           30276,
           8041,
           15074,
           15453,
           52097,
           23431,
           11342,
           11962,
           18965,
           82872,
           23723,
           44852,
           47659,
           47322,
           17472,
           31290,
           27811,
           41538,
           17710,
           79519,
           27896,
           20956,
           16349,
           33786,
           34149,
           27870,
           5744,
           21817,
           43527,
           9488,
           41750,
           20888,
           20806,
           15061,
           31998,
           7339,
           28617,
           18524,
           5746,
           63779,
           11489,
           59971,
           13829,
           27952,
           38993,
           64991,
           14634,
           42584,
           13083,
           16420,
           22181,
           60024,
           70124,
           40623,
           20877,
           76762,
           9435,
           15523,
           11,
           9812,
           9876,
           5360,
           6629,
           9185,
           10863,
           13377,
           1
          ],
          "coloraxis": "coloraxis",
          "size": [
           41316,
           23846,
           12405,
           51450,
           19326,
           8090,
           40828,
           47520,
           22581,
           43770,
           9437,
           29558,
           12862,
           77021,
           30276,
           39804,
           42447,
           8814,
           30110,
           13861,
           27045,
           9021,
           14630,
           19777,
           26895,
           13470,
           39467,
           27764,
           26177,
           22917,
           37830,
           17719,
           48486,
           44015,
           84283,
           39482,
           72392,
           18558,
           11770,
           24377,
           23825,
           24603,
           41298,
           50701,
           37963,
           9301,
           32978,
           18834,
           13888,
           12265,
           68959,
           31872,
           19622,
           32464,
           27638,
           14101,
           44057,
           33711,
           21753,
           12855,
           24709,
           35691,
           11753,
           19547,
           14344,
           25228,
           12461,
           9573,
           26069,
           55480,
           25020,
           30943,
           25464,
           14069,
           19955,
           31984,
           86826,
           22970,
           41104,
           25513,
           41061,
           43538,
           7307,
           18661,
           51382,
           72835,
           23455,
           36243,
           26315,
           95721,
           10688,
           35095,
           66757,
           64072,
           45690,
           36247,
           17543,
           23660,
           16653,
           36966,
           43648,
           40089,
           15654,
           15060,
           31737,
           19076,
           39386,
           15995,
           92409,
           12990,
           29775,
           36706,
           15264,
           16135,
           13982,
           59673,
           112825,
           17568,
           22160,
           30123,
           20694,
           40060,
           15916,
           20530,
           15652,
           129886,
           54908,
           27866,
           70924,
           73436,
           27717,
           27804,
           48401,
           51710,
           30190,
           38069,
           21810,
           13095,
           31529,
           41586,
           26423,
           72018,
           13251,
           59108,
           34379,
           13517,
           14093,
           27353,
           49895,
           32802,
           28028,
           40881,
           58952,
           34715,
           14203,
           19867,
           7512,
           108698,
           38329,
           38015,
           15312,
           13235,
           102451,
           27192,
           26176,
           42285,
           21126,
           25826,
           13165,
           32743,
           26392,
           25169,
           23613,
           38355,
           19308,
           32562,
           14559,
           22319,
           12470,
           54563,
           25391,
           42056,
           63933,
           58000,
           18288,
           29401,
           40738,
           21464,
           34903,
           59651,
           21983,
           73932,
           14812,
           41578,
           27894,
           19445,
           63524,
           31338,
           19611,
           85240,
           29079,
           28305,
           18919,
           26153,
           38152,
           24226,
           14168,
           11713,
           43282,
           65210,
           22470,
           15617,
           14555,
           58322,
           24323,
           17907,
           36002,
           44822,
           40370,
           18976,
           39150,
           35664,
           16102,
           37793,
           54174,
           37038,
           16513,
           55464,
           44569,
           29143,
           21069,
           26666,
           5100,
           70238,
           34005,
           113858,
           46838,
           24218,
           56950,
           42857,
           36625,
           11697,
           49606,
           20553,
           17382,
           43807,
           29477,
           26732,
           37585,
           233423,
           37302,
           31180,
           74673,
           103857,
           26564,
           45228,
           31234,
           20104,
           9699,
           32777,
           61943,
           13949,
           20353,
           31933,
           42513,
           62296,
           27802,
           36944,
           54279,
           12964,
           44772,
           21097,
           15748,
           44498,
           34326,
           61048,
           20714,
           25013,
           14118,
           42448,
           54028,
           20865,
           20073,
           14854,
           22385,
           14271,
           11870,
           21079,
           17812,
           20567,
           19251,
           19319,
           42677,
           56734,
           91159,
           28796,
           14743,
           24291,
           18108,
           31896,
           28896,
           31133,
           47129,
           15117,
           19221,
           39319,
           25049,
           12850,
           52731,
           15606,
           23467,
           23204,
           41191,
           61278,
           17136,
           18735,
           24916,
           7359,
           99207,
           13175,
           61833,
           16023,
           20051,
           29983,
           34631,
           42446,
           14678,
           38553,
           44946,
           33015,
           37610,
           46279,
           30055,
           72052,
           76234,
           22170,
           115681,
           13903,
           22179,
           15609,
           34579,
           18793,
           66654,
           22481,
           31381,
           34743,
           16229,
           52037,
           59183,
           25035,
           32715,
           24626,
           25291,
           36680,
           16310,
           13806,
           64167,
           17247,
           20107,
           28864,
           7085,
           20909,
           19080,
           48389,
           39164,
           21331,
           24975,
           19575,
           20886,
           22854,
           22269,
           22365,
           15031,
           15108,
           64199,
           33364,
           21761,
           21197,
           17202,
           14875,
           13882,
           22353,
           20317,
           34463,
           35265,
           29056,
           26977,
           19296,
           57175,
           43996,
           22042,
           12450,
           15062,
           22636,
           12840,
           92364,
           30499,
           28291,
           6089,
           40656,
           20123,
           23392,
           42095,
           88764,
           43866,
           19825,
           12431,
           16553,
           15963,
           52993,
           12928,
           16198,
           96513,
           20389,
           19639,
           63879,
           34098,
           60363,
           22149,
           52702,
           8153,
           29845,
           37222,
           47874,
           27609,
           12956,
           5512,
           35281,
           68554,
           12215,
           23485,
           34904,
           58419,
           13356,
           69374,
           39845,
           28536,
           50465,
           9924,
           28776,
           11779,
           11915,
           26604,
           26338,
           41820,
           51425,
           28962,
           34353,
           14370,
           14934,
           23903,
           39104,
           43321,
           14255,
           14832,
           27924,
           21974,
           15959,
           27807,
           37731,
           28193,
           17547,
           76186,
           86358,
           102343,
           20223,
           20707,
           53765,
           13961,
           12271,
           28426,
           20683,
           61535,
           49596,
           41668,
           12256,
           65707,
           38433,
           11679,
           25779,
           34441,
           35202,
           19948,
           30007,
           39575,
           17603,
           87316,
           24308,
           50265,
           21207,
           14084,
           31259,
           17877,
           35644,
           11729,
           24536,
           21988,
           26248,
           45203,
           39344,
           24906,
           11266,
           41448,
           18419,
           125392,
           62082,
           8061,
           11852,
           29526,
           28511,
           48207,
           99330,
           25459,
           44527,
           64471,
           30267,
           69131,
           39366,
           58425,
           36984,
           107733,
           27166,
           36560,
           57790,
           40560,
           18053,
           17458,
           41967,
           19568,
           66285,
           41764,
           76150,
           20648,
           39722,
           32331,
           36576,
           39828,
           18546,
           21309,
           44005,
           10690,
           17308,
           13690,
           34059,
           38291,
           32250,
           29547,
           34313,
           27386,
           8040,
           25710,
           25200,
           24714,
           18213,
           22479,
           51933,
           59475,
           50316,
           20183,
           49421,
           29037,
           15165,
           27048,
           33015,
           16397,
           73021,
           9362,
           87370,
           53342,
           26801,
           14506,
           32676,
           46169,
           14320,
           19239,
           31074,
           18678,
           16150,
           15959,
           11409,
           57438,
           43548,
           23419,
           18838,
           25785,
           9221,
           99593,
           10238,
           9379,
           19934,
           21364,
           71760,
           30066,
           29282,
           80620,
           26084,
           84432,
           17583,
           12666,
           13815,
           5134,
           47955,
           46489,
           46916,
           82304,
           12060,
           20874,
           25305,
           13700,
           27190,
           47441,
           22171,
           30276,
           8041,
           15074,
           15453,
           52097,
           23431,
           11342,
           11962,
           18965,
           82872,
           23723,
           44852,
           47659,
           47322,
           17472,
           31290,
           27811,
           41538,
           17710,
           79519,
           27896,
           20956,
           16349,
           33786,
           34149,
           27870,
           5744,
           21817,
           43527,
           9488,
           41750,
           20888,
           20806,
           15061,
           31998,
           7339,
           28617,
           18524,
           5746,
           63779,
           11489,
           59971,
           13829,
           27952,
           38993,
           64991,
           14634,
           42584,
           13083,
           16420,
           22181,
           60024,
           70124,
           40623,
           20877,
           76762,
           9435,
           15523,
           11,
           9812,
           9876,
           5360,
           6629,
           9185,
           10863,
           13377,
           1
          ],
          "sizemode": "area",
          "sizeref": 583.5575
         },
         "mode": "markers",
         "name": "",
         "showlegend": false,
         "subplot": "mapbox",
         "type": "scattermapbox"
        }
       ],
       "layout": {
        "coloraxis": {
         "colorbar": {
          "title": {
           "text": "count_retiro"
          }
         },
         "colorscale": [
          [
           0,
           "#0d0887"
          ],
          [
           0.1111111111111111,
           "#46039f"
          ],
          [
           0.2222222222222222,
           "#7201a8"
          ],
          [
           0.3333333333333333,
           "#9c179e"
          ],
          [
           0.4444444444444444,
           "#bd3786"
          ],
          [
           0.5555555555555556,
           "#d8576b"
          ],
          [
           0.6666666666666666,
           "#ed7953"
          ],
          [
           0.7777777777777778,
           "#fb9f3a"
          ],
          [
           0.8888888888888888,
           "#fdca26"
          ],
          [
           1,
           "#f0f921"
          ]
         ]
        },
        "height": 300,
        "legend": {
         "itemsizing": "constant",
         "tracegroupgap": 0
        },
        "mapbox": {
         "center": {
          "lat": 19.408341546026588,
          "lon": -99.16756680785821
         },
         "domain": {
          "x": [
           0,
           1
          ],
          "y": [
           0,
           1
          ]
         },
         "style": "carto-positron",
         "zoom": 10
        },
        "margin": {
         "b": 0,
         "l": 0,
         "r": 0,
         "t": 0
        },
        "template": {
         "data": {
          "bar": [
           {
            "error_x": {
             "color": "#2a3f5f"
            },
            "error_y": {
             "color": "#2a3f5f"
            },
            "marker": {
             "line": {
              "color": "#E5ECF6",
              "width": 0.5
             },
             "pattern": {
              "fillmode": "overlay",
              "size": 10,
              "solidity": 0.2
             }
            },
            "type": "bar"
           }
          ],
          "barpolar": [
           {
            "marker": {
             "line": {
              "color": "#E5ECF6",
              "width": 0.5
             },
             "pattern": {
              "fillmode": "overlay",
              "size": 10,
              "solidity": 0.2
             }
            },
            "type": "barpolar"
           }
          ],
          "carpet": [
           {
            "aaxis": {
             "endlinecolor": "#2a3f5f",
             "gridcolor": "white",
             "linecolor": "white",
             "minorgridcolor": "white",
             "startlinecolor": "#2a3f5f"
            },
            "baxis": {
             "endlinecolor": "#2a3f5f",
             "gridcolor": "white",
             "linecolor": "white",
             "minorgridcolor": "white",
             "startlinecolor": "#2a3f5f"
            },
            "type": "carpet"
           }
          ],
          "choropleth": [
           {
            "colorbar": {
             "outlinewidth": 0,
             "ticks": ""
            },
            "type": "choropleth"
           }
          ],
          "contour": [
           {
            "colorbar": {
             "outlinewidth": 0,
             "ticks": ""
            },
            "colorscale": [
             [
              0,
              "#0d0887"
             ],
             [
              0.1111111111111111,
              "#46039f"
             ],
             [
              0.2222222222222222,
              "#7201a8"
             ],
             [
              0.3333333333333333,
              "#9c179e"
             ],
             [
              0.4444444444444444,
              "#bd3786"
             ],
             [
              0.5555555555555556,
              "#d8576b"
             ],
             [
              0.6666666666666666,
              "#ed7953"
             ],
             [
              0.7777777777777778,
              "#fb9f3a"
             ],
             [
              0.8888888888888888,
              "#fdca26"
             ],
             [
              1,
              "#f0f921"
             ]
            ],
            "type": "contour"
           }
          ],
          "contourcarpet": [
           {
            "colorbar": {
             "outlinewidth": 0,
             "ticks": ""
            },
            "type": "contourcarpet"
           }
          ],
          "heatmap": [
           {
            "colorbar": {
             "outlinewidth": 0,
             "ticks": ""
            },
            "colorscale": [
             [
              0,
              "#0d0887"
             ],
             [
              0.1111111111111111,
              "#46039f"
             ],
             [
              0.2222222222222222,
              "#7201a8"
             ],
             [
              0.3333333333333333,
              "#9c179e"
             ],
             [
              0.4444444444444444,
              "#bd3786"
             ],
             [
              0.5555555555555556,
              "#d8576b"
             ],
             [
              0.6666666666666666,
              "#ed7953"
             ],
             [
              0.7777777777777778,
              "#fb9f3a"
             ],
             [
              0.8888888888888888,
              "#fdca26"
             ],
             [
              1,
              "#f0f921"
             ]
            ],
            "type": "heatmap"
           }
          ],
          "heatmapgl": [
           {
            "colorbar": {
             "outlinewidth": 0,
             "ticks": ""
            },
            "colorscale": [
             [
              0,
              "#0d0887"
             ],
             [
              0.1111111111111111,
              "#46039f"
             ],
             [
              0.2222222222222222,
              "#7201a8"
             ],
             [
              0.3333333333333333,
              "#9c179e"
             ],
             [
              0.4444444444444444,
              "#bd3786"
             ],
             [
              0.5555555555555556,
              "#d8576b"
             ],
             [
              0.6666666666666666,
              "#ed7953"
             ],
             [
              0.7777777777777778,
              "#fb9f3a"
             ],
             [
              0.8888888888888888,
              "#fdca26"
             ],
             [
              1,
              "#f0f921"
             ]
            ],
            "type": "heatmapgl"
           }
          ],
          "histogram": [
           {
            "marker": {
             "pattern": {
              "fillmode": "overlay",
              "size": 10,
              "solidity": 0.2
             }
            },
            "type": "histogram"
           }
          ],
          "histogram2d": [
           {
            "colorbar": {
             "outlinewidth": 0,
             "ticks": ""
            },
            "colorscale": [
             [
              0,
              "#0d0887"
             ],
             [
              0.1111111111111111,
              "#46039f"
             ],
             [
              0.2222222222222222,
              "#7201a8"
             ],
             [
              0.3333333333333333,
              "#9c179e"
             ],
             [
              0.4444444444444444,
              "#bd3786"
             ],
             [
              0.5555555555555556,
              "#d8576b"
             ],
             [
              0.6666666666666666,
              "#ed7953"
             ],
             [
              0.7777777777777778,
              "#fb9f3a"
             ],
             [
              0.8888888888888888,
              "#fdca26"
             ],
             [
              1,
              "#f0f921"
             ]
            ],
            "type": "histogram2d"
           }
          ],
          "histogram2dcontour": [
           {
            "colorbar": {
             "outlinewidth": 0,
             "ticks": ""
            },
            "colorscale": [
             [
              0,
              "#0d0887"
             ],
             [
              0.1111111111111111,
              "#46039f"
             ],
             [
              0.2222222222222222,
              "#7201a8"
             ],
             [
              0.3333333333333333,
              "#9c179e"
             ],
             [
              0.4444444444444444,
              "#bd3786"
             ],
             [
              0.5555555555555556,
              "#d8576b"
             ],
             [
              0.6666666666666666,
              "#ed7953"
             ],
             [
              0.7777777777777778,
              "#fb9f3a"
             ],
             [
              0.8888888888888888,
              "#fdca26"
             ],
             [
              1,
              "#f0f921"
             ]
            ],
            "type": "histogram2dcontour"
           }
          ],
          "mesh3d": [
           {
            "colorbar": {
             "outlinewidth": 0,
             "ticks": ""
            },
            "type": "mesh3d"
           }
          ],
          "parcoords": [
           {
            "line": {
             "colorbar": {
              "outlinewidth": 0,
              "ticks": ""
             }
            },
            "type": "parcoords"
           }
          ],
          "pie": [
           {
            "automargin": true,
            "type": "pie"
           }
          ],
          "scatter": [
           {
            "fillpattern": {
             "fillmode": "overlay",
             "size": 10,
             "solidity": 0.2
            },
            "type": "scatter"
           }
          ],
          "scatter3d": [
           {
            "line": {
             "colorbar": {
              "outlinewidth": 0,
              "ticks": ""
             }
            },
            "marker": {
             "colorbar": {
              "outlinewidth": 0,
              "ticks": ""
             }
            },
            "type": "scatter3d"
           }
          ],
          "scattercarpet": [
           {
            "marker": {
             "colorbar": {
              "outlinewidth": 0,
              "ticks": ""
             }
            },
            "type": "scattercarpet"
           }
          ],
          "scattergeo": [
           {
            "marker": {
             "colorbar": {
              "outlinewidth": 0,
              "ticks": ""
             }
            },
            "type": "scattergeo"
           }
          ],
          "scattergl": [
           {
            "marker": {
             "colorbar": {
              "outlinewidth": 0,
              "ticks": ""
             }
            },
            "type": "scattergl"
           }
          ],
          "scattermapbox": [
           {
            "marker": {
             "colorbar": {
              "outlinewidth": 0,
              "ticks": ""
             }
            },
            "type": "scattermapbox"
           }
          ],
          "scatterpolar": [
           {
            "marker": {
             "colorbar": {
              "outlinewidth": 0,
              "ticks": ""
             }
            },
            "type": "scatterpolar"
           }
          ],
          "scatterpolargl": [
           {
            "marker": {
             "colorbar": {
              "outlinewidth": 0,
              "ticks": ""
             }
            },
            "type": "scatterpolargl"
           }
          ],
          "scatterternary": [
           {
            "marker": {
             "colorbar": {
              "outlinewidth": 0,
              "ticks": ""
             }
            },
            "type": "scatterternary"
           }
          ],
          "surface": [
           {
            "colorbar": {
             "outlinewidth": 0,
             "ticks": ""
            },
            "colorscale": [
             [
              0,
              "#0d0887"
             ],
             [
              0.1111111111111111,
              "#46039f"
             ],
             [
              0.2222222222222222,
              "#7201a8"
             ],
             [
              0.3333333333333333,
              "#9c179e"
             ],
             [
              0.4444444444444444,
              "#bd3786"
             ],
             [
              0.5555555555555556,
              "#d8576b"
             ],
             [
              0.6666666666666666,
              "#ed7953"
             ],
             [
              0.7777777777777778,
              "#fb9f3a"
             ],
             [
              0.8888888888888888,
              "#fdca26"
             ],
             [
              1,
              "#f0f921"
             ]
            ],
            "type": "surface"
           }
          ],
          "table": [
           {
            "cells": {
             "fill": {
              "color": "#EBF0F8"
             },
             "line": {
              "color": "white"
             }
            },
            "header": {
             "fill": {
              "color": "#C8D4E3"
             },
             "line": {
              "color": "white"
             }
            },
            "type": "table"
           }
          ]
         },
         "layout": {
          "annotationdefaults": {
           "arrowcolor": "#2a3f5f",
           "arrowhead": 0,
           "arrowwidth": 1
          },
          "autotypenumbers": "strict",
          "coloraxis": {
           "colorbar": {
            "outlinewidth": 0,
            "ticks": ""
           }
          },
          "colorscale": {
           "diverging": [
            [
             0,
             "#8e0152"
            ],
            [
             0.1,
             "#c51b7d"
            ],
            [
             0.2,
             "#de77ae"
            ],
            [
             0.3,
             "#f1b6da"
            ],
            [
             0.4,
             "#fde0ef"
            ],
            [
             0.5,
             "#f7f7f7"
            ],
            [
             0.6,
             "#e6f5d0"
            ],
            [
             0.7,
             "#b8e186"
            ],
            [
             0.8,
             "#7fbc41"
            ],
            [
             0.9,
             "#4d9221"
            ],
            [
             1,
             "#276419"
            ]
           ],
           "sequential": [
            [
             0,
             "#0d0887"
            ],
            [
             0.1111111111111111,
             "#46039f"
            ],
            [
             0.2222222222222222,
             "#7201a8"
            ],
            [
             0.3333333333333333,
             "#9c179e"
            ],
            [
             0.4444444444444444,
             "#bd3786"
            ],
            [
             0.5555555555555556,
             "#d8576b"
            ],
            [
             0.6666666666666666,
             "#ed7953"
            ],
            [
             0.7777777777777778,
             "#fb9f3a"
            ],
            [
             0.8888888888888888,
             "#fdca26"
            ],
            [
             1,
             "#f0f921"
            ]
           ],
           "sequentialminus": [
            [
             0,
             "#0d0887"
            ],
            [
             0.1111111111111111,
             "#46039f"
            ],
            [
             0.2222222222222222,
             "#7201a8"
            ],
            [
             0.3333333333333333,
             "#9c179e"
            ],
            [
             0.4444444444444444,
             "#bd3786"
            ],
            [
             0.5555555555555556,
             "#d8576b"
            ],
            [
             0.6666666666666666,
             "#ed7953"
            ],
            [
             0.7777777777777778,
             "#fb9f3a"
            ],
            [
             0.8888888888888888,
             "#fdca26"
            ],
            [
             1,
             "#f0f921"
            ]
           ]
          },
          "colorway": [
           "#636efa",
           "#EF553B",
           "#00cc96",
           "#ab63fa",
           "#FFA15A",
           "#19d3f3",
           "#FF6692",
           "#B6E880",
           "#FF97FF",
           "#FECB52"
          ],
          "font": {
           "color": "#2a3f5f"
          },
          "geo": {
           "bgcolor": "white",
           "lakecolor": "white",
           "landcolor": "#E5ECF6",
           "showlakes": true,
           "showland": true,
           "subunitcolor": "white"
          },
          "hoverlabel": {
           "align": "left"
          },
          "hovermode": "closest",
          "mapbox": {
           "style": "light"
          },
          "paper_bgcolor": "white",
          "plot_bgcolor": "#E5ECF6",
          "polar": {
           "angularaxis": {
            "gridcolor": "white",
            "linecolor": "white",
            "ticks": ""
           },
           "bgcolor": "#E5ECF6",
           "radialaxis": {
            "gridcolor": "white",
            "linecolor": "white",
            "ticks": ""
           }
          },
          "scene": {
           "xaxis": {
            "backgroundcolor": "#E5ECF6",
            "gridcolor": "white",
            "gridwidth": 2,
            "linecolor": "white",
            "showbackground": true,
            "ticks": "",
            "zerolinecolor": "white"
           },
           "yaxis": {
            "backgroundcolor": "#E5ECF6",
            "gridcolor": "white",
            "gridwidth": 2,
            "linecolor": "white",
            "showbackground": true,
            "ticks": "",
            "zerolinecolor": "white"
           },
           "zaxis": {
            "backgroundcolor": "#E5ECF6",
            "gridcolor": "white",
            "gridwidth": 2,
            "linecolor": "white",
            "showbackground": true,
            "ticks": "",
            "zerolinecolor": "white"
           }
          },
          "shapedefaults": {
           "line": {
            "color": "#2a3f5f"
           }
          },
          "ternary": {
           "aaxis": {
            "gridcolor": "white",
            "linecolor": "white",
            "ticks": ""
           },
           "baxis": {
            "gridcolor": "white",
            "linecolor": "white",
            "ticks": ""
           },
           "bgcolor": "#E5ECF6",
           "caxis": {
            "gridcolor": "white",
            "linecolor": "white",
            "ticks": ""
           }
          },
          "title": {
           "x": 0.05
          },
          "xaxis": {
           "automargin": true,
           "gridcolor": "white",
           "linecolor": "white",
           "ticks": "",
           "title": {
            "standoff": 15
           },
           "zerolinecolor": "white",
           "zerolinewidth": 2
          },
          "yaxis": {
           "automargin": true,
           "gridcolor": "white",
           "linecolor": "white",
           "ticks": "",
           "title": {
            "standoff": 15
           },
           "zerolinecolor": "white",
           "zerolinewidth": 2
          }
         }
        }
       }
      }
     },
     "metadata": {},
     "output_type": "display_data"
    }
   ],
   "source": [
    "fig = px.scatter_mapbox(station_count.toPandas(), lat='latitud', lon='longitud', size='count_retiro',color='count_retiro',\n",
    "                       hover_name='station_name', hover_data=['count_retiro'],\n",
    "                       color_discrete_sequence=[\"fuchsia\"], zoom=10, height=300,color_continuous_scale=px.colors.sequential.Plasma)\n",
    "fig.update_layout(mapbox_style=\"carto-positron\",)\n",
    "fig.update_layout(margin={\"r\":0,\"t\":0,\"l\":0,\"b\":0})\n",
    "fig.show()"
   ]
  },
  {
   "cell_type": "code",
   "execution_count": 26,
   "id": "cbff247b",
   "metadata": {},
   "outputs": [
    {
     "data": {
      "application/vnd.plotly.v1+json": {
       "config": {
        "plotlyServerURL": "https://plot.ly"
       },
       "data": [
        {
         "customdata": [
          [
           39738
          ],
          [
           23114
          ],
          [
           12641
          ],
          [
           46716
          ],
          [
           15469
          ],
          [
           7886
          ],
          [
           37768
          ],
          [
           47930
          ],
          [
           24703
          ],
          [
           45130
          ],
          [
           9558
          ],
          [
           30567
          ],
          [
           12137
          ],
          [
           85198
          ],
          [
           30193
          ],
          [
           38315
          ],
          [
           42217
          ],
          [
           10105
          ],
          [
           32007
          ],
          [
           14686
          ],
          [
           25803
          ],
          [
           9771
          ],
          [
           14182
          ],
          [
           19224
          ],
          [
           26600
          ],
          [
           14927
          ],
          [
           33880
          ],
          [
           30144
          ],
          [
           22985
          ],
          [
           26008
          ],
          [
           38581
          ],
          [
           14577
          ],
          [
           50147
          ],
          [
           43480
          ],
          [
           81062
          ],
          [
           41392
          ],
          [
           60534
          ],
          [
           19551
          ],
          [
           12735
          ],
          [
           25685
          ],
          [
           22849
          ],
          [
           24358
          ],
          [
           40821
          ],
          [
           50489
          ],
          [
           38250
          ],
          [
           7809
          ],
          [
           31190
          ],
          [
           18254
          ],
          [
           13010
          ],
          [
           10188
          ],
          [
           72642
          ],
          [
           31542
          ],
          [
           16253
          ],
          [
           31362
          ],
          [
           28901
          ],
          [
           11951
          ],
          [
           43985
          ],
          [
           36918
          ],
          [
           19012
          ],
          [
           13173
          ],
          [
           26356
          ],
          [
           38261
          ],
          [
           11829
          ],
          [
           19255
          ],
          [
           15082
          ],
          [
           24433
          ],
          [
           11115
          ],
          [
           7634
          ],
          [
           21885
          ],
          [
           59414
          ],
          [
           23012
          ],
          [
           23947
          ],
          [
           25447
          ],
          [
           14436
          ],
          [
           17318
          ],
          [
           31851
          ],
          [
           87120
          ],
          [
           19221
          ],
          [
           44247
          ],
          [
           27001
          ],
          [
           40637
          ],
          [
           43702
          ],
          [
           6940
          ],
          [
           19205
          ],
          [
           56331
          ],
          [
           66113
          ],
          [
           20509
          ],
          [
           39867
          ],
          [
           26744
          ],
          [
           104917
          ],
          [
           6994
          ],
          [
           36375
          ],
          [
           71417
          ],
          [
           65433
          ],
          [
           44647
          ],
          [
           38667
          ],
          [
           18753
          ],
          [
           22950
          ],
          [
           16428
          ],
          [
           32373
          ],
          [
           43046
          ],
          [
           39460
          ],
          [
           10965
          ],
          [
           16023
          ],
          [
           30243
          ],
          [
           21006
          ],
          [
           41632
          ],
          [
           14750
          ],
          [
           91227
          ],
          [
           13937
          ],
          [
           28427
          ],
          [
           36442
          ],
          [
           14537
          ],
          [
           15408
          ],
          [
           13323
          ],
          [
           62790
          ],
          [
           110387
          ],
          [
           21229
          ],
          [
           21797
          ],
          [
           31510
          ],
          [
           25768
          ],
          [
           40748
          ],
          [
           17519
          ],
          [
           19408
          ],
          [
           14530
          ],
          [
           136885
          ],
          [
           50493
          ],
          [
           26367
          ],
          [
           70089
          ],
          [
           63665
          ],
          [
           29236
          ],
          [
           24170
          ],
          [
           48499
          ],
          [
           52417
          ],
          [
           29781
          ],
          [
           33420
          ],
          [
           21452
          ],
          [
           14120
          ],
          [
           34134
          ],
          [
           38799
          ],
          [
           27193
          ],
          [
           77436
          ],
          [
           12843
          ],
          [
           57334
          ],
          [
           28982
          ],
          [
           9055
          ],
          [
           18465
          ],
          [
           27578
          ],
          [
           45575
          ],
          [
           32690
          ],
          [
           27670
          ],
          [
           41661
          ],
          [
           59727
          ],
          [
           36798
          ],
          [
           15107
          ],
          [
           19177
          ],
          [
           8024
          ],
          [
           106276
          ],
          [
           38146
          ],
          [
           36871
          ],
          [
           16513
          ],
          [
           15831
          ],
          [
           81377
          ],
          [
           28569
          ],
          [
           22769
          ],
          [
           41292
          ],
          [
           25690
          ],
          [
           24854
          ],
          [
           12777
          ],
          [
           31141
          ],
          [
           26612
          ],
          [
           23381
          ],
          [
           22734
          ],
          [
           35629
          ],
          [
           22229
          ],
          [
           31606
          ],
          [
           14639
          ],
          [
           23646
          ],
          [
           12452
          ],
          [
           57589
          ],
          [
           25345
          ],
          [
           45789
          ],
          [
           66606
          ],
          [
           59448
          ],
          [
           20214
          ],
          [
           29290
          ],
          [
           40270
          ],
          [
           23431
          ],
          [
           33336
          ],
          [
           60155
          ],
          [
           23509
          ],
          [
           69911
          ],
          [
           15830
          ],
          [
           40473
          ],
          [
           26937
          ],
          [
           19921
          ],
          [
           56772
          ],
          [
           30651
          ],
          [
           13711
          ],
          [
           74451
          ],
          [
           26799
          ],
          [
           28225
          ],
          [
           19645
          ],
          [
           24748
          ],
          [
           35542
          ],
          [
           26384
          ],
          [
           13471
          ],
          [
           11842
          ],
          [
           43120
          ],
          [
           68299
          ],
          [
           21811
          ],
          [
           15523
          ],
          [
           15615
          ],
          [
           62656
          ],
          [
           24010
          ],
          [
           19777
          ],
          [
           29699
          ],
          [
           42753
          ],
          [
           40524
          ],
          [
           18776
          ],
          [
           41828
          ],
          [
           43563
          ],
          [
           16989
          ],
          [
           38223
          ],
          [
           59197
          ],
          [
           33321
          ],
          [
           15003
          ],
          [
           49887
          ],
          [
           45852
          ],
          [
           21700
          ],
          [
           12752
          ],
          [
           21446
          ],
          [
           5252
          ],
          [
           63681
          ],
          [
           36228
          ],
          [
           121762
          ],
          [
           46965
          ],
          [
           25293
          ],
          [
           58915
          ],
          [
           46094
          ],
          [
           36548
          ],
          [
           12228
          ],
          [
           35180
          ],
          [
           20824
          ],
          [
           16610
          ],
          [
           45849
          ],
          [
           24397
          ],
          [
           28711
          ],
          [
           39018
          ],
          [
           362817
          ],
          [
           27659
          ],
          [
           34795
          ],
          [
           77043
          ],
          [
           87082
          ],
          [
           24036
          ],
          [
           45734
          ],
          [
           29374
          ],
          [
           19486
          ],
          [
           10010
          ],
          [
           26791
          ],
          [
           67135
          ],
          [
           15613
          ],
          [
           21063
          ],
          [
           34969
          ],
          [
           44245
          ],
          [
           61064
          ],
          [
           22900
          ],
          [
           32737
          ],
          [
           55781
          ],
          [
           12728
          ],
          [
           44388
          ],
          [
           18678
          ],
          [
           16541
          ],
          [
           43048
          ],
          [
           30131
          ],
          [
           66064
          ],
          [
           19812
          ],
          [
           24160
          ],
          [
           13294
          ],
          [
           39074
          ],
          [
           56950
          ],
          [
           20535
          ],
          [
           22536
          ],
          [
           14741
          ],
          [
           18336
          ],
          [
           14581
          ],
          [
           13127
          ],
          [
           19718
          ],
          [
           17094
          ],
          [
           20269
          ],
          [
           18387
          ],
          [
           17444
          ],
          [
           41146
          ],
          [
           56453
          ],
          [
           90976
          ],
          [
           30628
          ],
          [
           14978
          ],
          [
           23862
          ],
          [
           19328
          ],
          [
           28673
          ],
          [
           28188
          ],
          [
           31935
          ],
          [
           50951
          ],
          [
           13810
          ],
          [
           19996
          ],
          [
           45515
          ],
          [
           25046
          ],
          [
           11984
          ],
          [
           59257
          ],
          [
           10345
          ],
          [
           21210
          ],
          [
           21470
          ],
          [
           41257
          ],
          [
           59615
          ],
          [
           16938
          ],
          [
           15456
          ],
          [
           20378
          ],
          [
           7233
          ],
          [
           96427
          ],
          [
           11936
          ],
          [
           61221
          ],
          [
           16252
          ],
          [
           23506
          ],
          [
           30149
          ],
          [
           33135
          ],
          [
           42796
          ],
          [
           15921
          ],
          [
           36327
          ],
          [
           48056
          ],
          [
           34622
          ],
          [
           41437
          ],
          [
           46765
          ],
          [
           23831
          ],
          [
           70644
          ],
          [
           78502
          ],
          [
           23061
          ],
          [
           83413
          ],
          [
           15272
          ],
          [
           22353
          ],
          [
           14675
          ],
          [
           34073
          ],
          [
           18458
          ],
          [
           67351
          ],
          [
           17748
          ],
          [
           30845
          ],
          [
           34860
          ],
          [
           14066
          ],
          [
           52021
          ],
          [
           54729
          ],
          [
           22819
          ],
          [
           36192
          ],
          [
           23668
          ],
          [
           25397
          ],
          [
           39438
          ],
          [
           15953
          ],
          [
           17674
          ],
          [
           56893
          ],
          [
           14552
          ],
          [
           19198
          ],
          [
           29061
          ],
          [
           8928
          ],
          [
           18303
          ],
          [
           17476
          ],
          [
           48098
          ],
          [
           41786
          ],
          [
           20343
          ],
          [
           24803
          ],
          [
           19116
          ],
          [
           20280
          ],
          [
           22275
          ],
          [
           21598
          ],
          [
           22553
          ],
          [
           13858
          ],
          [
           11180
          ],
          [
           64940
          ],
          [
           36698
          ],
          [
           26603
          ],
          [
           23973
          ],
          [
           16362
          ],
          [
           11617
          ],
          [
           16139
          ],
          [
           21563
          ],
          [
           19812
          ],
          [
           35152
          ],
          [
           28202
          ],
          [
           33932
          ],
          [
           22856
          ],
          [
           16215
          ],
          [
           58086
          ],
          [
           40005
          ],
          [
           20619
          ],
          [
           12343
          ],
          [
           14711
          ],
          [
           21956
          ],
          [
           8597
          ],
          [
           87406
          ],
          [
           30222
          ],
          [
           21781
          ],
          [
           5080
          ],
          [
           38438
          ],
          [
           21688
          ],
          [
           22703
          ],
          [
           42640
          ],
          [
           94720
          ],
          [
           50639
          ],
          [
           18626
          ],
          [
           15296
          ],
          [
           18268
          ],
          [
           14337
          ],
          [
           53269
          ],
          [
           11179
          ],
          [
           16399
          ],
          [
           96901
          ],
          [
           21965
          ],
          [
           21131
          ],
          [
           66357
          ],
          [
           36106
          ],
          [
           62325
          ],
          [
           24917
          ],
          [
           53093
          ],
          [
           8629
          ],
          [
           26422
          ],
          [
           39496
          ],
          [
           48013
          ],
          [
           28458
          ],
          [
           12907
          ],
          [
           3745
          ],
          [
           32598
          ],
          [
           63592
          ],
          [
           12754
          ],
          [
           22460
          ],
          [
           36928
          ],
          [
           69732
          ],
          [
           13516
          ],
          [
           75325
          ],
          [
           37693
          ],
          [
           27529
          ],
          [
           49894
          ],
          [
           10372
          ],
          [
           28174
          ],
          [
           12313
          ],
          [
           10639
          ],
          [
           25441
          ],
          [
           30178
          ],
          [
           44259
          ],
          [
           62863
          ],
          [
           27586
          ],
          [
           35331
          ],
          [
           14465
          ],
          [
           15549
          ],
          [
           25396
          ],
          [
           39436
          ],
          [
           39708
          ],
          [
           9246
          ],
          [
           14796
          ],
          [
           32565
          ],
          [
           24620
          ],
          [
           15277
          ],
          [
           31914
          ],
          [
           39457
          ],
          [
           28262
          ],
          [
           16951
          ],
          [
           71121
          ],
          [
           97810
          ],
          [
           103027
          ],
          [
           19669
          ],
          [
           17888
          ],
          [
           45665
          ],
          [
           13942
          ],
          [
           13007
          ],
          [
           28585
          ],
          [
           20450
          ],
          [
           62706
          ],
          [
           47765
          ],
          [
           40712
          ],
          [
           12804
          ],
          [
           67846
          ],
          [
           35027
          ],
          [
           10735
          ],
          [
           28504
          ],
          [
           34471
          ],
          [
           32384
          ],
          [
           18022
          ],
          [
           29211
          ],
          [
           38458
          ],
          [
           16600
          ],
          [
           96871
          ],
          [
           23133
          ],
          [
           49798
          ],
          [
           20099
          ],
          [
           15773
          ],
          [
           29080
          ],
          [
           16758
          ],
          [
           35709
          ],
          [
           7818
          ],
          [
           24680
          ],
          [
           22334
          ],
          [
           25338
          ],
          [
           46013
          ],
          [
           37831
          ],
          [
           25905
          ],
          [
           9893
          ],
          [
           32031
          ],
          [
           11382
          ],
          [
           129047
          ],
          [
           67511
          ],
          [
           8095
          ],
          [
           11949
          ],
          [
           30616
          ],
          [
           30710
          ],
          [
           47091
          ],
          [
           102829
          ],
          [
           25470
          ],
          [
           43241
          ],
          [
           69050
          ],
          [
           32602
          ],
          [
           68311
          ],
          [
           38227
          ],
          [
           56251
          ],
          [
           38680
          ],
          [
           176147
          ],
          [
           26986
          ],
          [
           36481
          ],
          [
           41950
          ],
          [
           39672
          ],
          [
           18989
          ],
          [
           19060
          ],
          [
           37730
          ],
          [
           20223
          ],
          [
           66311
          ],
          [
           39964
          ],
          [
           72065
          ],
          [
           22722
          ],
          [
           40828
          ],
          [
           24484
          ],
          [
           33180
          ],
          [
           40188
          ],
          [
           20736
          ],
          [
           20538
          ],
          [
           40029
          ],
          [
           10780
          ],
          [
           17369
          ],
          [
           11611
          ],
          [
           37215
          ],
          [
           38288
          ],
          [
           33549
          ],
          [
           34472
          ],
          [
           33227
          ],
          [
           28018
          ],
          [
           8122
          ],
          [
           26894
          ],
          [
           22515
          ],
          [
           19291
          ],
          [
           18849
          ],
          [
           22647
          ],
          [
           55661
          ],
          [
           60700
          ],
          [
           47658
          ],
          [
           20835
          ],
          [
           50762
          ],
          [
           30590
          ],
          [
           14412
          ],
          [
           20409
          ],
          [
           35702
          ],
          [
           15894
          ],
          [
           78120
          ],
          [
           11564
          ],
          [
           85645
          ],
          [
           56215
          ],
          [
           27792
          ],
          [
           13281
          ],
          [
           35055
          ],
          [
           47027
          ],
          [
           12097
          ],
          [
           21739
          ],
          [
           31191
          ],
          [
           16222
          ],
          [
           18318
          ],
          [
           12198
          ],
          [
           11933
          ],
          [
           53196
          ],
          [
           42864
          ],
          [
           20669
          ],
          [
           17433
          ],
          [
           25540
          ],
          [
           8681
          ],
          [
           100012
          ],
          [
           10308
          ],
          [
           10564
          ],
          [
           20794
          ],
          [
           21676
          ],
          [
           81489
          ],
          [
           28580
          ],
          [
           24718
          ],
          [
           95774
          ],
          [
           22348
          ],
          [
           83265
          ],
          [
           17835
          ],
          [
           13294
          ],
          [
           12945
          ],
          [
           4592
          ],
          [
           47549
          ],
          [
           45345
          ],
          [
           48073
          ],
          [
           86503
          ],
          [
           14113
          ],
          [
           21073
          ],
          [
           24373
          ],
          [
           14010
          ],
          [
           26389
          ],
          [
           50442
          ],
          [
           22184
          ],
          [
           30046
          ],
          [
           7460
          ],
          [
           14810
          ],
          [
           15127
          ],
          [
           52231
          ],
          [
           23397
          ],
          [
           9493
          ],
          [
           10115
          ],
          [
           18572
          ],
          [
           81493
          ],
          [
           26795
          ],
          [
           47080
          ],
          [
           47096
          ],
          [
           51436
          ],
          [
           19420
          ],
          [
           33905
          ],
          [
           28537
          ],
          [
           32698
          ],
          [
           14020
          ],
          [
           96526
          ],
          [
           27628
          ],
          [
           21024
          ],
          [
           15356
          ],
          [
           26350
          ],
          [
           32238
          ],
          [
           25863
          ],
          [
           3111
          ],
          [
           24175
          ],
          [
           41707
          ],
          [
           10180
          ],
          [
           39563
          ],
          [
           20193
          ],
          [
           18645
          ],
          [
           15173
          ],
          [
           34786
          ],
          [
           7333
          ],
          [
           26213
          ],
          [
           20901
          ],
          [
           5766
          ],
          [
           67793
          ],
          [
           11090
          ],
          [
           63219
          ],
          [
           9704
          ],
          [
           26318
          ],
          [
           41123
          ],
          [
           63006
          ],
          [
           12208
          ],
          [
           42756
          ],
          [
           14328
          ],
          [
           18954
          ],
          [
           21966
          ],
          [
           62548
          ],
          [
           65953
          ],
          [
           36145
          ],
          [
           22653
          ],
          [
           77379
          ],
          [
           9472
          ],
          [
           14313
          ],
          [
           459
          ],
          [
           7855
          ],
          [
           8841
          ],
          [
           4383
          ],
          [
           5157
          ],
          [
           10002
          ],
          [
           11197
          ],
          [
           13798
          ],
          [
           1
          ]
         ],
         "hovertemplate": "<b>%{hovertext}</b><br><br>count_arribo=%{marker.color}<br>latitud=%{lat}<br>longitud=%{lon}<extra></extra>",
         "hovertext": [
          "Lago Mayor",
          "Diagonal San Antonio",
          "Melchor Ocampo",
          "Morelia",
          "Campos Eliseos",
          "Moras",
          "Claudio Bernard",
          "Agustin Melgar",
          "Simon Bolivar",
          "Lago Muritz",
          "Jose Maria Roa Barcenas",
          "Luz Savi�on",
          "Minnesota",
          "Hamburgo",
          "Nueva York",
          "Salvador Diaz Miron",
          "Prosperidad",
          "Jose Maria Roa Barcenas",
          "Taine",
          "Doctor Marquez",
          "Bahia  de las Palmas",
          "Alhambra",
          "Real de Mayorazgo",
          "Presa Falcon",
          "La Morena",
          "Abasolo",
          "Doctor Andrade",
          "Taine",
          "Tres Picos",
          "2da cerrada de 5 de mayo",
          "Calzada Santa Cruz",
          "Colegio Salesiano",
          "Jalapa",
          "Avenida Coyoacan",
          "Tuxpan",
          "Colima",
          "Amado Nervo",
          "Prolongacion Uxmal",
          "Yuca",
          "Zempoala",
          "Emerson",
          "Jose Maria Velasco",
          "Rio Guadalquivir",
          "Av. de la Paz",
          "Yacatas",
          "Bufalo",
          "Jaime Torres Bodet",
          "La Morena",
          "San Francisco",
          "Jose Maria Olloqui",
          "Londres",
          "Concepcion Beistegui",
          "Cadiz",
          "Calle 27",
          "Guanajuato",
          "Porfirio Diaz",
          "Campeche",
          "Marconi",
          "Pensilvania",
          "Avenida Miguel Hidalgo",
          "Actipan",
          "Av. Morelos",
          "Tlatilco",
          "Amores",
          "Bernardo Couto",
          "San Borja",
          "Avenida Vito Alessio Robles",
          "Jose Maria Olloqui",
          "Lago Xochimilco",
          "Gante",
          "Nueva York",
          "Volcan",
          "Matias Romero",
          "Avenida Claveria",
          "Indiana",
          "Eligio Ancona",
          "Fernando Montes de Oca",
          "Laguna de Mayran",
          "Enrique Granados",
          "Carrillo Puerto",
          "General Prim",
          "Independencia",
          "Bruno Traven",
          "Xicotencatl",
          "Colima",
          "Santander",
          "13 de Septiembre",
          "Nicolas San Juan",
          "Holbein",
          "Toledo",
          "Felix Parra",
          "Tehuantepec",
          "Tonala",
          "Coahuila",
          "Calle 1",
          "Darwin",
          "Fernando de Alva Ixtlilxochitl",
          "Tintoreto",
          "Malintzin",
          "Alfonso Herrera",
          "Rio Lerma",
          "Circuito Interior",
          "Lago Muritz",
          "Presidente Carranza",
          "General Gomez Pedraza",
          "Alfredo Chavero",
          "Emilio Donde",
          "Tennyson",
          "Hidalgo",
          "Ajusco",
          "Naranjo",
          "Tenayuca",
          "Anatole France",
          "Enrique Rebsamen",
          "Moras",
          "Avenida Mexico",
          "Tolsa",
          "Palma Norte",
          "Hortensia",
          "Diagonal San Antonio",
          "Plaza Tlaxcoaque",
          "Monrovia",
          "Rumania",
          "Goethe",
          "Huetzin",
          "Av. Paseo de la Reforma",
          "Gabino Barreda",
          "Comercio",
          "Guadalajara",
          "Oso",
          "Puente Xoco",
          "General Cano",
          "Michoacan",
          "Mazatlan",
          "Anaxagoras",
          "Gobernador Melchor Muzquiz",
          "Romero de Terreros",
          "Tlatilco",
          "Av. Paseo de la Reforma",
          "Isaac Newton",
          "Doctor Barragan",
          "Xochicalco",
          "Tajin",
          "Av. Paseo de la Reforma",
          "Lago Onega",
          "Montes Urales",
          "Francisco Sosa",
          "Heroes Ferrocarrileros",
          "Av. Paseo de la Reforma",
          "Doctor Valenzuela",
          "Doctor Martinez del Rio",
          "Doctor Roberto Gayol",
          "Doctor Liceaga",
          "San Ildefonso",
          "Ignacio Allende",
          "Platon",
          "Boldo",
          "Hamburgo",
          "Vicente Suarez",
          "Nuevo Leon",
          "Fernando Ramirez",
          "Romero",
          "Ruben Dario",
          "Dakota",
          "Martin Mendalde",
          "Alfonso Reyes",
          "Salonica",
          "Laguna de Mayran",
          "Calderon de la Barca",
          "Georgia",
          "Shakespeare",
          "Enrique Rebsamen",
          "Emilio Castelar",
          "Aguascalientes",
          "Av. Victor Hugo",
          "Providencia",
          "Nextitla",
          "Canarias",
          "Maria Luz Bringas",
          "Liverpool",
          "San Lorenzo",
          "Toluca",
          "Av. Paseo de la Reforma",
          "Rio Panuco",
          "20 de Noviembre",
          "Luis Donaldo Colosio",
          "Lago Garda",
          "Toronjil",
          "Matias Romero",
          "Lago Como",
          "Mitla",
          "Joaquin Garcia Icazbalceta",
          "Kiff",
          "Homero",
          "Comercio",
          "Victor Hugo",
          "Luz Savi�on",
          "Mar Mediterraneo",
          "Pedregal",
          "Av. Paseo de la Reforma",
          "Mar Negro",
          "Hegel",
          "Vito Alessio Robles",
          "Maestro Rural",
          "Lago Iseo",
          "Hegel",
          "Heroes del 47",
          "Vicente Guerrero",
          "Parque Espa�a",
          "Acapulco",
          "Lago Tlahuac",
          "Hermes",
          "Bulgaria",
          "Durango",
          "Torres Adalid",
          "Navarra",
          "Esopo",
          "Progreso",
          "Cumbres de Maltrata",
          "Madrid",
          "Sor Juana Ines de la Cruz",
          "Jalapa",
          "Odesa",
          "Merida",
          "Colima",
          "13 de Septiembre",
          "Campos Eliseos",
          "Lago Cuitzeo",
          "Marsella",
          "Manuel Castro Padilla",
          "Molino del Rey",
          "Molino del Rey",
          "Malvon",
          "Av. Paseo de la Reforma",
          "Eugenia",
          "Doctor Mariano Azuela",
          "Lago Poniente",
          "Miguel Laurent",
          "Londres",
          "Merida",
          "Pitagoras",
          "Av. Jardin",
          "Campos Eliseos",
          "Chimalpopoca",
          "Tenayuca",
          "Bajio",
          "San Lorenzo",
          "Republica de Salvador",
          "Coahuila",
          "Jesus Garcia",
          "Pedregal",
          "Torcuato Tasso",
          "Plaza Madrid",
          "Hesiodo",
          "Avenida 1",
          "Amsterdam",
          "Izcoatl",
          "Plan de Guadalupe /Ferrocarril de Cuernavaca",
          "Boldo",
          "Campos Eliseos",
          "Alvaro Obregon",
          "Fernando Montes de Oca",
          "Socrates",
          "Yosemite",
          "Liverpool",
          "Manuel Maria Conteras",
          "Los Juarez",
          "Poussin",
          "Oaxaca",
          "Ignacio Allende",
          "Rio Amazonas",
          "San Borja",
          "Londres",
          "General Antonio Leon",
          "Calle 13",
          "Lopez",
          "Leibnitz",
          "Edgar Allan Poe",
          "Fresno",
          "Gomez Farias",
          "Av. Paseo de la Reforma",
          "Lope de Vega",
          "Andalucia",
          "Francia",
          "Benjamin Hill",
          "Madrid",
          "Fernandez Leal",
          "San Jeronimo",
          "Parroquia",
          "Leibnitz",
          "Lago Victoria",
          "Carlos Dickens",
          "Chilpancingo",
          "Mazatlan",
          "Circuito Mahatma Gandhi",
          "Doctor Jimenez",
          "Pirineos",
          "Boston",
          "Magdalena",
          "Miguel Laurent",
          "Pensilvania",
          "Mateo Aleman",
          "Orizaba",
          "Amores",
          "Av. Plan de San Luis",
          "Anaxagoras",
          "Echeveste",
          "Patricio Sanz",
          "Bahia  de San Hipolito",
          "Alpes",
          "Colegio Salesiano",
          "Diagonal San Antonio",
          "Sinaloa",
          "Guillermo Prieto",
          "Saratoga",
          "Augusto Rodin",
          "Sadi Carnot",
          "Ignacio Aldama",
          "Huatabampo",
          "Plinio",
          "Presa Falcon",
          "Rodriguez Saro",
          "Inglaterra",
          "Mar Mediterraneo",
          "Sabino",
          "Durango",
          "Alfonso XIII",
          "General Salvador Alvarado",
          "Colima",
          "Parroquia",
          "5 de Mayo",
          "Porfirio Diaz",
          "Joaquin Velazquez de Leon",
          "Sullivan",
          "Durango",
          "Antonio Solis",
          "Andres Bello",
          "Jose Toribio Medina",
          "Republica de Guatemala",
          "Mar Mediterraneo",
          "Panzacola",
          "Pilares",
          "Av. de la Republica",
          "Gobernador Rafael Rebollar",
          "Julio Verne",
          "Adolfo Prieto",
          "Diagonal San Antonio",
          "Alvaro Obregon",
          "Gobernador Ignacio Esteva",
          "11 de Abril",
          "Montecito",
          "Tepic",
          "Nicolas San Juan",
          "Frontera",
          "Norte 67",
          "Jesus Garcia",
          "Roma",
          "Ejercito Nacional",
          "Avenida Coyoacan",
          "Av. Pirineos",
          "Xicotencatl",
          "12 de Octubre",
          "Lago Onega",
          "Juan Sanchez Azcona",
          "Ramos Arizpe",
          "Bahia de Chachalacas",
          "Isaac Newton",
          "Nicolas San Juan",
          "Josefa Ortiz de Dominguez",
          "Jose Maria Vertiz",
          "Mier y Pesado",
          "Tajin",
          "Moras",
          "Plateros",
          "Londres",
          "Doctor Arce",
          "Herschel",
          "Torres Adalid",
          "Parroquia",
          "Lago Xochimilco",
          "5 de Febrero",
          "Pedro Luis Ogazon",
          "San Borja",
          "Pitagoras",
          "Presa Don Martin",
          "Av. Paseo de la Reforma",
          "Doctor Roberto Gayol",
          "Recreo",
          "Rio Panuco",
          "Av. Paseo de la Reforma",
          "Heriberto Frias",
          "Moras",
          "Peten",
          "Holbein",
          "Miguel Nore�a",
          "Cozumel",
          "Fernando Montes de Oca",
          "Temistocles",
          "Moras",
          "Heriberto Frias",
          "Tripoli",
          "Eucalipto",
          "Lucerna",
          "Av. Moliere",
          "Liverpool",
          "Porfirio Diaz",
          "Irlanda",
          "Fernando Montes de Oca",
          "Fresno",
          "Magdalena",
          "Solon",
          "Jose Maria Pino Suarez",
          "Av. Ribera de San Cosme",
          "Cadiz",
          "Olivo",
          "Campeche",
          "Prolongacion Tonala",
          "Parque Mexico",
          "Fernando Montes de Oca",
          "Mazatlan",
          "Toronjil",
          "Adolfo Prieto",
          "Zempoala",
          "Observatorio Oriente",
          "Doctor Jimenez",
          "Londres",
          "Av. Francisco Sosa",
          "Tamaulipas",
          "Av. Paseo de la Reforma",
          "Poniente 58",
          "Manzanillo",
          "Tomas Alva Edison",
          "Euler",
          "Ferrocarril de Cuernavaca",
          "Zacatecas",
          "Mineria",
          "Coahuila",
          "Quintana Roo",
          "Tebas",
          "Lago Filt",
          "Filipinas",
          "Ejercito Nacional",
          "Solon",
          "Rincon del Bosque",
          "Heriberto Frias",
          "Luis Donaldo Colosio",
          "San Francisco",
          "Avenida Mexico-Coyoacan",
          "Avenida Republicas",
          "Cadiz",
          "Montecito",
          "San Jeronimo",
          "Uxmal",
          "Av. Prado Norte",
          "Prolongacion Xochicalco",
          "Doctor Enrique Gonzalez Martinez",
          "Manuel Carpio",
          "Heriberto Frias",
          "Rafael Olivia",
          "Cordoba",
          "Doctor Carmona y Valle",
          "Doctor Martinez del Rio",
          "Tlaloc",
          "Av. Paseo de la Reforma",
          "Av. Paseo de la Reforma",
          "Lago Garda",
          "Pensilvania",
          "Lago Ginebra",
          "General Manuel Rincon",
          "Cuauhtemoc",
          "Claudio Bernard",
          "San Borja",
          "Tamaulipas",
          "Hegel",
          "Lago Iseo",
          "San Francisco",
          "Londres",
          "Division del Norte",
          "Benito Juarez",
          "Luis Spota",
          "Romero de Terreros",
          "Gobernador Gregorio V. Gelati",
          "Nueva York",
          "Avenida Aquiles Serdan",
          "Tlacotalpan",
          "Nicolas San Juan",
          "Alvaro Obregon",
          "Eligio Ancona",
          "Merida",
          "Luz Savi�on",
          "Rumania",
          "Sor Juana Ines de la Cruz",
          "San Jeronimo",
          "Av. Paseo de la Reforma",
          "Diego Becerra",
          "Cumbres de Acultzingo",
          "Doctor  Jimenez",
          "Providencia",
          "Avenida del Parque",
          "Nogal",
          "Bahia  de Santa Barbara",
          "Pitagoras",
          "Av. Paseo de la Reforma",
          "Montes Urales",
          "Sonora",
          "San Luis Potosi",
          "Texcoco",
          "Lic. Primo de Verdad",
          "Manuel M. Flores",
          "Avenida Fernando",
          "Plateros",
          "Rio Sena",
          "Matias Romero",
          "Lago Andromaco",
          "Popocatepetl",
          "La Morena",
          "Mazatlan",
          "Lago de Patzcuaro",
          "Choapan",
          "Puebla",
          "Av. Paseo de la Reforma",
          "Cuernavaca",
          "San Lorenzo",
          "Isaac Newton",
          "Anaxagoras",
          "Azores",
          "Jose F. Gutierrez",
          "Empresa",
          "Maria Luz Bringas",
          "Doctor Velasco",
          "Salvador Diaz Miron",
          "Av. Paseo de la Reforma",
          "Castilla",
          "Bajio",
          "Poussin",
          "Fresno",
          "Nuevo Leon",
          "Europa",
          "Tlacoquemecatl",
          "Jose Rosas Moreno",
          "Cda. Alberto Zamora",
          "San Lorenzo",
          "Augusto Rodin",
          "Dante",
          "Alejandro Dumas",
          "General Francisco Murguia",
          "Fernando Ramirez",
          "Benjamin Franklin",
          "Dakota",
          "Union Postal",
          "Petrarca",
          "Avenida 2",
          "Avenida 2",
          "Antonio Solis",
          "Mina",
          "Avenida de los Maestros",
          "Niza",
          "Puebla",
          "Sevilla",
          "Av. Paseo de la Reforma",
          "Victor Hugo",
          "G. Perez Valenzuela",
          "Eugenio Sue",
          "Alabama",
          "Egipto",
          "Puebla",
          "Pacifico",
          "Alvaro Obregon",
          "Rio  Nilo",
          "Cuicuilco",
          "Enrique Rebsamen",
          "20 de Noviembre",
          "Bartolome R. Salido",
          "Bahia  del Espiritu Santo",
          "5 de Febrero",
          "Cuernavaca",
          "Goya",
          "Av. Mexico",
          "Georgia",
          "Avenida Heliopolis",
          "Claudio Bernard",
          "Saltillo",
          "Martin Mendalde",
          "Edgar Alan Poe",
          "Nezahualcoyotl",
          "Tata Vasco",
          "Av. Paseo de la Reforma",
          "Jose Toribio Medina",
          "Canada",
          "Correspondencia",
          "Shakespeare",
          "Juarez",
          "Alfonso Reyes",
          "Gobernador Rafael Rebollar",
          "Jesus Garcia",
          "Tepic",
          "Progreso",
          "Riff",
          "Libertad",
          "Heroes del 47",
          "Manzano",
          "Mutualismo",
          "Nuevo Leon",
          "Alvaro Obregon",
          "Av. Paseo de la Reforma",
          "Angel del Campo",
          "Bahia De La Concepcion",
          "Quintana Roo",
          "Ajusco",
          "Patricio Sanz",
          "Campeche",
          "Heroes Ferrocarrileros",
          "Lago Chalco",
          "Madrid",
          "California",
          "Atzayacatl",
          "Independencia",
          "Torres Adalid",
          "Boston",
          "Carolina",
          "Palenque",
          "Rio  Elba",
          "Republica de Cuba",
          "Avenida de los Maestros",
          "Av. Paseo de la Reforma",
          "Tonala",
          "Doctor Marquez",
          "Ahorro Postal",
          "Miguel Laurent",
          "Av. Paseo de la Reforma",
          "Macedonio Alcala",
          "Juarez",
          "San Borja",
          "Mier y Pesado",
          "Lago Tanganica",
          "Juan Vazquez de Mella",
          "Alfonso Herrera",
          "Tlacoquemecatl",
          "Hortensia",
          "Avenida Fernando",
          "Jose Rosas Moreno",
          "Gomez Farias",
          "Anaxagoras",
          "Amores",
          "Mar Blanco",
          "Gutierrez Najera",
          "Wallon",
          "Xicotencatl",
          "Luz Savi�on",
          "Miguel Negrete",
          "Irlanda",
          "Parque Espa�a",
          "Biologo Maximino Martinez",
          "Yucatan",
          "Calle 15",
          "Doctor  Enrique Gozalez Martinez",
          "Ernesto Pugibet",
          "Jaime Torres Bodet",
          "Calle 27",
          "Rio Guadalquivir",
          "Manuel J. Othon",
          "Prolongacion Nueces",
          "Alejandro Dumas",
          "Turin",
          "Chilpancingo",
          "Benjamin Hill",
          "Republica de Cuba",
          "Nuevo Leon",
          "San Gregorio",
          "Adolfo Prieto",
          null,
          "Juan Pablo II",
          "Manuel M Ponce",
          "Guty Cardenas",
          "Ricardo Palmerin",
          "Membrillo",
          "Avenida Plan de San Luis",
          "Palestina",
          null
         ],
         "lat": [
          19.440399,
          19.394283,
          19.347283,
          19.424197,
          19.428847,
          19.3614885,
          19.422392,
          19.418879,
          19.402088,
          19.439249,
          19.41175,
          19.390019,
          19.393701,
          19.426384,
          19.3865269,
          19.449773,
          19.403019,
          19.411323,
          19.435525,
          19.411609,
          19.435039,
          19.359093,
          19.359863,
          19.442338,
          19.398692,
          19.350062,
          19.426611,
          19.42894,
          19.42783,
          19.433757,
          19.370586,
          19.443092,
          19.408218,
          19.391456,
          19.406683,
          19.420667,
          19.445528,
          19.363404,
          19.466423,
          19.379521,
          19.437596,
          19.36295,
          19.428184,
          19.347693,
          19.396983,
          19.368403,
          19.450506,
          19.399908,
          19.37099,
          19.363548,
          19.4226672,
          19.388927,
          19.374267,
          19.385751,
          19.417702,
          19.380691,
          19.410073,
          19.436522,
          19.393059,
          19.350776,
          19.370615,
          19.432819,
          19.45883,
          19.36715,
          19.406458,
          19.382115,
          19.352203,
          19.363741,
          19.43726,
          19.432024,
          19.393643,
          19.429243,
          19.381287,
          19.465636,
          19.38542,
          19.45272,
          19.4148233,
          19.440818,
          19.40697,
          19.361245,
          19.430369,
          19.433705,
          19.359583,
          19.354876,
          19.421138,
          19.373438,
          19.398946,
          19.36704,
          19.381123,
          19.423664,
          19.3676,
          19.404907,
          19.416128,
          19.410737,
          19.395322,
          19.428949,
          19.420029,
          19.384146,
          19.352143,
          19.440252,
          19.432223,
          19.4165298,
          19.444433,
          19.349149,
          19.414793,
          19.417595,
          19.430267,
          19.435985,
          19.436208,
          19.367131,
          19.455189,
          19.378281,
          19.437934,
          19.383904,
          19.367816,
          19.413789,
          19.427329,
          19.436741,
          19.3548028,
          19.398858,
          19.423056,
          19.361371,
          19.370133,
          19.429261,
          19.44484,
          19.42916,
          19.437665,
          19.4025195,
          19.4204398,
          19.373384,
          19.361213,
          19.411227,
          19.410797,
          19.414119,
          19.401986,
          19.411711,
          19.394092,
          19.464966,
          19.424941,
          19.431242,
          19.418013,
          19.402277,
          19.376367,
          19.424858,
          19.44269,
          19.428679,
          19.349277,
          19.44174727,
          19.426614,
          19.425126,
          19.417668,
          19.377966,
          19.421599,
          19.436531,
          19.3543111,
          19.434353,
          19.464826,
          19.427937,
          19.411703,
          19.404452,
          19.412853,
          19.384623,
          19.42592,
          19.397693,
          19.361699,
          19.408676,
          19.47072,
          19.44046,
          19.436064,
          19.38885,
          19.43175,
          19.391323,
          19.431799,
          19.407927,
          19.387174,
          19.3932287,
          19.455531,
          19.372175,
          19.36952,
          19.424584,
          19.372101,
          19.405246,
          19.425597,
          19.430963,
          19.428485,
          19.442467,
          19.449367,
          19.47111,
          19.379331,
          19.442127,
          19.384589,
          19.441114,
          19.381277,
          19.436142,
          19.403997,
          19.370891,
          19.393832,
          19.453432,
          19.424842,
          19.429453,
          19.4553348,
          19.431255,
          19.351594,
          19.449039,
          19.440905,
          19.432451,
          19.35072,
          19.355339,
          19.415358,
          19.420281,
          19.445916,
          19.3639778,
          19.364528,
          19.41919,
          19.3893,
          19.395812,
          19.433542,
          19.406069,
          19.395205,
          19.3564861,
          19.4450444,
          19.422288,
          19.367465,
          19.416596,
          19.419579,
          19.399201,
          19.431791,
          19.449125,
          19.425437,
          19.3625527,
          19.4136683,
          19.4168415,
          19.468246,
          19.430907,
          19.388978,
          19.44701,
          19.379458,
          19.372907,
          19.424187,
          19.421576,
          19.376918,
          19.46173,
          19.429332,
          19.4223,
          19.376997,
          19.403204,
          19.375495,
          19.429189,
          19.412182,
          19.443684,
          19.426308,
          19.434861,
          19.41955,
          19.434182,
          19.392721,
          19.411361,
          19.437334,
          19.454257,
          19.468293,
          19.427705,
          19.417715,
          19.381804,
          19.438168,
          19.396333,
          19.427114,
          19.433803,
          19.37075451,
          19.375806,
          19.422379,
          19.465377,
          19.431192,
          19.382889,
          19.35674,
          19.412776,
          19.390306,
          19.430625,
          19.435867,
          19.430098,
          19.457594,
          19.437167,
          19.427338,
          19.437431,
          19.390945,
          19.35886344,
          19.408841,
          19.3574361,
          19.347246,
          19.427059,
          19.369823,
          19.434147,
          19.440508,
          19.430515,
          19.4086886,
          19.411825,
          19.424282,
          19.408649,
          19.363049,
          19.381714,
          19.386985,
          19.373833,
          19.384474,
          19.442421,
          19.422148,
          19.362037,
          19.46047,
          19.4015,
          19.428214,
          19.384447,
          19.438984,
          19.427517,
          19.449405,
          19.391991,
          19.420627,
          19.438197,
          19.358634,
          19.385632,
          19.436274,
          19.353243,
          19.407507,
          19.432655,
          19.440501,
          19.36623,
          19.344271,
          19.460292,
          19.449104,
          19.418141,
          19.39489,
          19.404651,
          19.418031,
          19.368107,
          19.434514,
          19.379941,
          19.441533,
          19.432452,
          19.418749,
          19.409473,
          19.426744,
          19.405358,
          19.434962,
          19.459553,
          19.346975,
          19.377932,
          19.436764,
          19.410036,
          19.429314,
          19.396917,
          19.394412,
          19.419225,
          19.409577,
          19.396359,
          19.394842,
          19.406959,
          19.384242,
          19.415192,
          19.460356,
          19.442717,
          19.429947,
          19.438616,
          19.397923,
          19.361743,
          19.355945,
          19.399763,
          19.438347,
          19.37104,
          19.438228,
          19.436287,
          19.42977,
          19.396513,
          19.3580028,
          19.425502,
          19.397373,
          19.38748,
          19.374756,
          19.364577,
          19.427132,
          19.413469,
          19.432276,
          19.388148,
          19.370221,
          19.444826,
          19.39516,
          19.3503611,
          19.382606,
          19.398532,
          19.440106,
          19.42491,
          19.372474,
          19.371279,
          19.429804,
          19.43163,
          19.379435,
          19.364916,
          19.38483,
          19.380839,
          19.363153,
          19.4208433,
          19.413314,
          19.435882,
          19.3589028,
          19.372469,
          19.36205,
          19.453975,
          19.428989,
          19.440195,
          19.424558,
          19.378423,
          19.346489,
          19.378362,
          19.458881,
          19.397651,
          19.434361,
          19.43144,
          19.44021597,
          19.399664,
          19.354886,
          19.409894,
          19.401807,
          19.41128,
          19.375518,
          19.41689,
          19.466937,
          19.373307,
          19.400943,
          19.404029,
          19.41638,
          19.355942,
          19.349348,
          19.406833,
          19.4267528,
          19.464891,
          19.407468,
          19.437569,
          19.432888,
          19.456546,
          19.415905,
          19.401682,
          19.412829,
          19.404554,
          19.46969,
          19.441123,
          19.362323,
          19.438551,
          19.435478,
          19.430153,
          19.375397,
          19.442707,
          19.391056,
          19.364912,
          19.364001,
          19.39859,
          19.395043,
          19.42649,
          19.370957,
          19.42703,
          19.367209,
          19.44763,
          19.452688,
          19.388528,
          19.354411,
          19.414303,
          19.419509,
          19.417133,
          19.444053,
          19.434944,
          19.428802,
          19.448935,
          19.391431,
          19.445039,
          19.359475,
          19.352052,
          19.42037,
          19.385531,
          19.411771,
          19.433567,
          19.446073,
          19.385039,
          19.428985,
          19.3705556,
          19.45968,
          19.377516,
          19.394601,
          19.412455,
          19.391647,
          19.46961,
          19.409098,
          19.380087,
          19.418304,
          19.453663,
          19.41199,
          19.392195,
          19.36053,
          19.4459583,
          19.426755,
          19.431256,
          19.36672,
          19.392463,
          19.423673,
          19.388178,
          19.394693,
          19.4435806,
          19.437667,
          19.382328,
          19.424784,
          19.425905,
          19.412982,
          19.413232,
          19.46669,
          19.433766,
          19.416221,
          19.401239,
          19.367522,
          19.4335895,
          19.380617,
          19.443228,
          19.415237,
          19.398143,
          19.409859,
          19.438506,
          19.406745,
          19.423318,
          19.42454,
          19.414968,
          19.373112,
          19.433607,
          19.396328,
          19.365125,
          19.470485,
          19.375865,
          19.369782,
          19.419444,
          19.448764,
          19.433431,
          19.394422,
          19.404268,
          19.374912,
          19.44310811,
          19.41299,
          19.34406,
          19.378546,
          19.437118,
          19.344855,
          19.373725,
          19.382109,
          19.4264486,
          19.431417,
          19.4034757,
          19.413235,
          19.404733,
          19.393699,
          19.390924,
          19.431172,
          19.392634,
          19.388748,
          19.409817,
          19.440839,
          19.453197,
          19.424137,
          19.421762,
          19.368109,
          19.42528,
          19.427575,
          19.351426,
          19.434076,
          19.391472,
          19.462152,
          19.41966,
          19.344976,
          19.417102,
          19.428491,
          19.375677,
          19.386212,
          19.430722,
          19.381824,
          19.438143,
          19.41981,
          19.416886,
          19.373198,
          19.35154,
          19.387624,
          19.468315,
          19.424161,
          19.407479,
          19.37165,
          19.43384,
          19.425311,
          19.3459701,
          19.43542,
          19.404654,
          19.347503,
          19.392523,
          19.429877,
          19.4352787,
          19.40655,
          19.40796,
          19.444031,
          19.406236,
          19.40198,
          19.358934,
          19.462421,
          19.351578,
          19.362041,
          19.400767,
          19.407233,
          19.418774,
          19.427553,
          19.408087,
          19.434183,
          19.405533,
          19.36576,
          19.373004,
          19.410529,
          19.440985,
          19.446449,
          19.35675,
          19.382042,
          19.439741,
          19.433344,
          19.389477,
          19.379593,
          19.38213,
          19.3931,
          19.425355,
          19.436931,
          19.455986,
          19.432595,
          19.4206,
          19.410884,
          19.388373,
          19.375865,
          19.424784,
          19.361845,
          19.4351365,
          19.384849,
          19.40071,
          19.438349,
          19.437014,
          19.439347,
          19.378827,
          19.355544,
          19.399172,
          19.434081,
          19.357076,
          19.3856299,
          19.387342,
          19.455343,
          19.415713,
          19.431033,
          19.352531,
          19.393807,
          19.387506,
          19.348076,
          19.416163,
          19.4608519,
          19.41286,
          19.389358,
          19.451838,
          19.429947,
          19.442,
          19.385494,
          19.43062276,
          19.414595,
          19.4705145,
          19.433419,
          19.426785,
          19.406872,
          19.407512,
          19.4374,
          19.410468,
          19.346895,
          19.36473,
          null,
          19.359053,
          19.35355,
          19.355817,
          19.358262,
          19.464564,
          19.465552,
          19.463865,
          null
         ],
         "legendgroup": "",
         "lon": [
          -99.186784,
          -99.158756,
          -99.170834,
          -99.156127,
          -99.201299,
          -99.17743249,
          -99.150358,
          -99.176854,
          -99.142976,
          -99.181065,
          -99.14096,
          -99.15111,
          -99.175834,
          -99.164255,
          -99.1751519,
          -99.163136,
          -99.174934,
          -99.135626,
          -99.184713,
          -99.15314,
          -99.173879,
          -99.145247,
          -99.165065,
          -99.205198,
          -99.161273,
          -99.160024,
          -99.14447,
          -99.185389,
          -99.191539,
          -99.135331,
          -99.142294,
          -99.177612,
          -99.159911,
          -99.166157,
          -99.167962,
          -99.15645,
          -99.166934,
          -99.160395,
          -99.173061,
          -99.150052,
          -99.188785,
          -99.183161,
          -99.170013,
          -99.187026,
          -99.155114,
          -99.177472,
          -99.157375,
          -99.166553,
          -99.176135,
          -99.170766,
          -99.1699751,
          -99.163127,
          -99.180546,
          -99.186297,
          -99.155313,
          -99.175036,
          -99.175542,
          -99.139811,
          -99.179483,
          -99.155379,
          -99.181606,
          -99.151734,
          -99.164513,
          -99.17055,
          -99.138735,
          -99.153988,
          -99.178393,
          -99.171268,
          -99.179624,
          -99.139705,
          -99.178156,
          -99.207267,
          -99.1702,
          -99.186342,
          -99.17823,
          -99.158014,
          -99.1783527,
          -99.176961,
          -99.14383,
          -99.16239,
          -99.154419,
          -99.146665,
          -99.162085,
          -99.153611,
          -99.154725,
          -99.179531,
          -99.183254,
          -99.167387,
          -99.18667,
          -99.172568,
          -99.18499167,
          -99.162485,
          -99.162097,
          -99.165716,
          -99.181667,
          -99.179796,
          -99.140999,
          -99.185491,
          -99.162096,
          -99.163455,
          -99.161686,
          -99.1790435,
          -99.179664,
          -99.169646,
          -99.185083,
          -99.140972,
          -99.14861,
          -99.194832,
          -99.141931,
          -99.142838,
          -99.157644,
          -99.15841,
          -99.197241,
          -99.160875,
          -99.175269,
          -99.169427,
          -99.149971,
          -99.134811,
          -99.17541944,
          -99.151211,
          -99.134941,
          -99.150619,
          -99.145866,
          -99.17538,
          -99.17049,
          -99.162703,
          -99.164018,
          -99.1781595,
          -99.1727208,
          -99.178173,
          -99.16752,
          -99.185514,
          -99.168143,
          -99.177214,
          -99.156366,
          -99.190139,
          -99.162139,
          -99.160413,
          -99.17233,
          -99.191613,
          -99.144598,
          -99.153294,
          -99.155872,
          -99.185181,
          -99.19083,
          -99.206605,
          -99.164921,
          -99.15563897,
          -99.168078,
          -99.143391,
          -99.152775,
          -99.170272,
          -99.143408,
          -99.131497,
          -99.16243611,
          -99.20322,
          -99.163177,
          -99.161245,
          -99.175753,
          -99.171438,
          -99.138723,
          -99.139817,
          -99.190755,
          -99.172981,
          -99.171387,
          -99.176759,
          -99.17835,
          -99.174564,
          -99.198898,
          -99.17772,
          -99.177399,
          -99.15936,
          -99.201565,
          -99.168734,
          -99.143708,
          -99.1684308,
          -99.175222,
          -99.146356,
          -99.179421,
          -99.163688,
          -99.161501,
          -99.15643,
          -99.171409,
          -99.166986,
          -99.1338,
          -99.151658,
          -99.182461,
          -99.1653,
          -99.161163,
          -99.184433,
          -99.150517,
          -99.161636,
          -99.145804,
          -99.200996,
          -99.1776,
          -99.151577,
          -99.171466,
          -99.174636,
          -99.203739,
          -99.16283,
          -99.1814278,
          -99.188065,
          -99.184772,
          -99.170246,
          -99.181743,
          -99.188033,
          -99.146786,
          -99.165613,
          -99.171902,
          -99.174392,
          -99.170401,
          -99.18091389,
          -99.146988,
          -99.169764,
          -99.15633,
          -99.145347,
          -99.207808,
          -99.183549,
          -99.155049,
          -99.16945556,
          -99.15713333,
          -99.162138,
          -99.148786,
          -99.156879,
          -99.161314,
          -99.179943,
          -99.207373,
          -99.173442,
          -99.159458,
          -99.1889526,
          -99.1919528,
          -99.1925204,
          -99.168165,
          -99.160148,
          -99.174811,
          -99.154318,
          -99.140943,
          -99.149207,
          -99.166497,
          -99.158015,
          -99.16108,
          -99.16225,
          -99.202181,
          -99.139872,
          -99.158779,
          -99.16596,
          -99.177819,
          -99.132759,
          -99.158443,
          -99.152465,
          -99.2033,
          -99.183322,
          -99.166214,
          -99.189835,
          -99.184727,
          -99.171271,
          -99.169573,
          -99.172593,
          -99.16557,
          -99.19912,
          -99.162729,
          -99.142997,
          -99.203888,
          -99.172667,
          -99.158251,
          -99.166223,
          -99.18743854,
          -99.185527,
          -99.164137,
          -99.179197,
          -99.163546,
          -99.158352,
          -99.15309,
          -99.182805,
          -99.184812,
          -99.14248,
          -99.179856,
          -99.200074,
          -99.159455,
          -99.158313,
          -99.16672,
          -99.187215,
          -99.142972,
          -99.18292974,
          -99.181692,
          -99.16379444,
          -99.15857,
          -99.137116,
          -99.172164,
          -99.179835,
          -99.193681,
          -99.203331,
          -99.169938,
          -99.178456,
          -99.180334,
          -99.151126,
          -99.158436,
          -99.176664,
          -99.173416,
          -99.157433,
          -99.176084,
          -99.199838,
          -99.160645,
          -99.172683,
          -99.16727,
          -99.156406,
          -99.139494,
          -99.172039,
          -99.177549,
          -99.208412,
          -99.176635,
          -99.162684,
          -99.16821,
          -99.165918,
          -99.152732,
          -99.180848,
          -99.158425,
          -99.163753,
          -99.155541,
          -99.205727,
          -99.205086,
          -99.177904,
          -99.149973,
          -99.188303,
          -99.159931,
          -99.174709,
          -99.1389,
          -99.179375,
          -99.168435,
          -99.164376,
          -99.138068,
          -99.177224,
          -99.165268,
          -99.15924,
          -99.171942,
          -99.135939,
          -99.193986,
          -99.14316,
          -99.133729,
          -99.185111,
          -99.178791,
          -99.166594,
          -99.153865,
          -99.187978,
          -99.196965,
          -99.166264,
          -99.158907,
          -99.155099,
          -99.183818,
          -99.183579,
          -99.173025,
          -99.163021,
          -99.16326,
          -99.154837,
          -99.174283,
          -99.152262,
          -99.159698,
          -99.207577,
          -99.167248,
          -99.143867,
          -99.149258,
          -99.177538,
          -99.190503,
          -99.165653,
          -99.152269,
          -99.174888,
          -99.19349,
          -99.160924,
          -99.17010556,
          -99.146337,
          -99.164598,
          -99.153876,
          -99.173539,
          -99.186288,
          -99.160369,
          -99.14825,
          -99.18064,
          -99.148446,
          -99.173862,
          -99.178393,
          -99.139532,
          -99.1871111,
          -99.156592,
          -99.157308,
          -99.210031,
          -99.172455,
          -99.171639,
          -99.177623,
          -99.169451,
          -99.158547,
          -99.162794,
          -99.175985,
          -99.15363,
          -99.183932,
          -99.186963,
          -99.1713729,
          -99.175225,
          -99.19152,
          -99.17799722,
          -99.164538,
          -99.154976,
          -99.152525,
          -99.153618,
          -99.200715,
          -99.163518,
          -99.181891,
          -99.145828,
          -99.144007,
          -99.159215,
          -99.169946,
          -99.206342,
          -99.132513,
          -99.15616778,
          -99.145136,
          -99.184642,
          -99.164288,
          -99.15909,
          -99.169825,
          -99.144118,
          -99.17562,
          -99.162948,
          -99.172471,
          -99.147989,
          -99.184342,
          -99.1495,
          -99.157461,
          -99.179015,
          -99.180457,
          -99.16861944,
          -99.177242,
          -99.165141,
          -99.15468,
          -99.183605,
          -99.169344,
          -99.15954,
          -99.176398,
          -99.155116,
          -99.169953,
          -99.18405,
          -99.195857,
          -99.148805,
          -99.206298,
          -99.206359,
          -99.181355,
          -99.163778,
          -99.152956,
          -99.1712,
          -99.162968,
          -99.150422,
          -99.137732,
          -99.173821,
          -99.133537,
          -99.158886,
          -99.212845,
          -99.15872,
          -99.1554,
          -99.170157,
          -99.160616,
          -99.147795,
          -99.157542,
          -99.153227,
          -99.145649,
          -99.167429,
          -99.150295,
          -99.164381,
          -99.179295,
          -99.178989,
          -99.194078,
          -99.159437,
          -99.157981,
          -99.146818,
          -99.169673,
          -99.173783,
          -99.188096,
          -99.181654,
          -99.174018,
          -99.15664,
          -99.15666667,
          -99.1818,
          -99.148116,
          -99.165054,
          -99.188489,
          -99.177331,
          -99.18983,
          -99.167181,
          -99.16427,
          -99.15956,
          -99.163756,
          -99.155699,
          -99.163987,
          -99.1475,
          -99.16137222,
          -99.135014,
          -99.158153,
          -99.188409,
          -99.150544,
          -99.147957,
          -99.169689,
          -99.175531,
          -99.16488333,
          -99.17711,
          -99.159877,
          -99.172119,
          -99.204236,
          -99.166936,
          -99.164121,
          -99.180302,
          -99.130918,
          -99.134909,
          -99.137404,
          -99.181727,
          -99.1678193,
          -99.167066,
          -99.202492,
          -99.16659,
          -99.148333,
          -99.179565,
          -99.172696,
          -99.178272,
          -99.15833,
          -99.173247,
          -99.174766,
          -99.166981,
          -99.188528,
          -99.156871,
          -99.155477,
          -99.188509,
          -99.185573,
          -99.179707,
          -99.149776,
          -99.156817,
          -99.155142,
          -99.143291,
          -99.160503,
          -99.185807,
          -99.16245373,
          -99.171675,
          -99.155983,
          -99.174297,
          -99.161862,
          -99.163575,
          -99.169807,
          -99.181056,
          -99.1781433,
          -99.195774,
          -99.1817166,
          -99.143476,
          -99.174461,
          -99.175664,
          -99.13895,
          -99.185612,
          -99.183737,
          -99.183924,
          -99.141643,
          -99.152265,
          -99.16645,
          -99.161317,
          -99.166931,
          -99.151863,
          -99.171099,
          -99.17702,
          -99.175455,
          -99.194091,
          -99.1736,
          -99.178291,
          -99.17588,
          -99.157824,
          -99.165607,
          -99.171693,
          -99.152953,
          -99.160583,
          -99.133698,
          -99.148086,
          -99.17519,
          -99.135941,
          -99.173591,
          -99.184274,
          -99.164523,
          -99.180978,
          -99.177386,
          -99.153117,
          -99.174403,
          -99.17015,
          -99.19968,
          -99.137421,
          -99.17296,
          -99.150317,
          -99.136966,
          -99.15244,
          -99.146194,
          -99.177569,
          -99.1477913,
          -99.172275,
          -99.187901,
          -99.152187,
          -99.166616,
          -99.17132,
          -99.156064,
          -99.183614,
          -99.150941,
          -99.175158,
          -99.172533,
          -99.172131,
          -99.157081,
          -99.167396,
          -99.137763,
          -99.173089,
          -99.164913,
          -99.144413,
          -99.174764,
          -99.160873,
          -99.152935,
          -99.176028,
          -99.171769,
          -99.173336,
          -99.168901,
          -99.14404,
          -99.157513,
          -99.181351,
          -99.178814,
          -99.152012,
          -99.17515,
          -99.133952,
          -99.165966,
          -99.154995,
          -99.163312,
          -99.144975,
          -99.139746,
          -99.168219,
          -99.172119,
          -99.186887,
          -99.1460756,
          -99.16704,
          -99.163831,
          -99.192904,
          -99.207932,
          -99.160074,
          -99.176944,
          -99.178992,
          -99.140625,
          -99.162434,
          -99.160189,
          -99.1582241,
          -99.165629,
          -99.179056,
          -99.141227,
          -99.18222,
          -99.164913,
          -99.171133,
          -99.146338,
          -99.14906,
          -99.170795,
          -99.1711992,
          -99.160661,
          -99.182606,
          -99.154584,
          -99.14591,
          -99.15933333,
          -99.183744,
          -99.17123066,
          -99.135886,
          -99.1700615,
          -99.195746,
          -99.155535,
          -99.169572,
          -99.177361,
          -99.137571,
          -99.172802,
          -99.163868,
          -99.174447,
          null,
          -99.184317,
          -99.189519,
          -99.189142,
          -99.18809,
          -99.169496,
          -99.166851,
          -99.18229,
          null
         ],
         "marker": {
          "color": [
           39738,
           23114,
           12641,
           46716,
           15469,
           7886,
           37768,
           47930,
           24703,
           45130,
           9558,
           30567,
           12137,
           85198,
           30193,
           38315,
           42217,
           10105,
           32007,
           14686,
           25803,
           9771,
           14182,
           19224,
           26600,
           14927,
           33880,
           30144,
           22985,
           26008,
           38581,
           14577,
           50147,
           43480,
           81062,
           41392,
           60534,
           19551,
           12735,
           25685,
           22849,
           24358,
           40821,
           50489,
           38250,
           7809,
           31190,
           18254,
           13010,
           10188,
           72642,
           31542,
           16253,
           31362,
           28901,
           11951,
           43985,
           36918,
           19012,
           13173,
           26356,
           38261,
           11829,
           19255,
           15082,
           24433,
           11115,
           7634,
           21885,
           59414,
           23012,
           23947,
           25447,
           14436,
           17318,
           31851,
           87120,
           19221,
           44247,
           27001,
           40637,
           43702,
           6940,
           19205,
           56331,
           66113,
           20509,
           39867,
           26744,
           104917,
           6994,
           36375,
           71417,
           65433,
           44647,
           38667,
           18753,
           22950,
           16428,
           32373,
           43046,
           39460,
           10965,
           16023,
           30243,
           21006,
           41632,
           14750,
           91227,
           13937,
           28427,
           36442,
           14537,
           15408,
           13323,
           62790,
           110387,
           21229,
           21797,
           31510,
           25768,
           40748,
           17519,
           19408,
           14530,
           136885,
           50493,
           26367,
           70089,
           63665,
           29236,
           24170,
           48499,
           52417,
           29781,
           33420,
           21452,
           14120,
           34134,
           38799,
           27193,
           77436,
           12843,
           57334,
           28982,
           9055,
           18465,
           27578,
           45575,
           32690,
           27670,
           41661,
           59727,
           36798,
           15107,
           19177,
           8024,
           106276,
           38146,
           36871,
           16513,
           15831,
           81377,
           28569,
           22769,
           41292,
           25690,
           24854,
           12777,
           31141,
           26612,
           23381,
           22734,
           35629,
           22229,
           31606,
           14639,
           23646,
           12452,
           57589,
           25345,
           45789,
           66606,
           59448,
           20214,
           29290,
           40270,
           23431,
           33336,
           60155,
           23509,
           69911,
           15830,
           40473,
           26937,
           19921,
           56772,
           30651,
           13711,
           74451,
           26799,
           28225,
           19645,
           24748,
           35542,
           26384,
           13471,
           11842,
           43120,
           68299,
           21811,
           15523,
           15615,
           62656,
           24010,
           19777,
           29699,
           42753,
           40524,
           18776,
           41828,
           43563,
           16989,
           38223,
           59197,
           33321,
           15003,
           49887,
           45852,
           21700,
           12752,
           21446,
           5252,
           63681,
           36228,
           121762,
           46965,
           25293,
           58915,
           46094,
           36548,
           12228,
           35180,
           20824,
           16610,
           45849,
           24397,
           28711,
           39018,
           362817,
           27659,
           34795,
           77043,
           87082,
           24036,
           45734,
           29374,
           19486,
           10010,
           26791,
           67135,
           15613,
           21063,
           34969,
           44245,
           61064,
           22900,
           32737,
           55781,
           12728,
           44388,
           18678,
           16541,
           43048,
           30131,
           66064,
           19812,
           24160,
           13294,
           39074,
           56950,
           20535,
           22536,
           14741,
           18336,
           14581,
           13127,
           19718,
           17094,
           20269,
           18387,
           17444,
           41146,
           56453,
           90976,
           30628,
           14978,
           23862,
           19328,
           28673,
           28188,
           31935,
           50951,
           13810,
           19996,
           45515,
           25046,
           11984,
           59257,
           10345,
           21210,
           21470,
           41257,
           59615,
           16938,
           15456,
           20378,
           7233,
           96427,
           11936,
           61221,
           16252,
           23506,
           30149,
           33135,
           42796,
           15921,
           36327,
           48056,
           34622,
           41437,
           46765,
           23831,
           70644,
           78502,
           23061,
           83413,
           15272,
           22353,
           14675,
           34073,
           18458,
           67351,
           17748,
           30845,
           34860,
           14066,
           52021,
           54729,
           22819,
           36192,
           23668,
           25397,
           39438,
           15953,
           17674,
           56893,
           14552,
           19198,
           29061,
           8928,
           18303,
           17476,
           48098,
           41786,
           20343,
           24803,
           19116,
           20280,
           22275,
           21598,
           22553,
           13858,
           11180,
           64940,
           36698,
           26603,
           23973,
           16362,
           11617,
           16139,
           21563,
           19812,
           35152,
           28202,
           33932,
           22856,
           16215,
           58086,
           40005,
           20619,
           12343,
           14711,
           21956,
           8597,
           87406,
           30222,
           21781,
           5080,
           38438,
           21688,
           22703,
           42640,
           94720,
           50639,
           18626,
           15296,
           18268,
           14337,
           53269,
           11179,
           16399,
           96901,
           21965,
           21131,
           66357,
           36106,
           62325,
           24917,
           53093,
           8629,
           26422,
           39496,
           48013,
           28458,
           12907,
           3745,
           32598,
           63592,
           12754,
           22460,
           36928,
           69732,
           13516,
           75325,
           37693,
           27529,
           49894,
           10372,
           28174,
           12313,
           10639,
           25441,
           30178,
           44259,
           62863,
           27586,
           35331,
           14465,
           15549,
           25396,
           39436,
           39708,
           9246,
           14796,
           32565,
           24620,
           15277,
           31914,
           39457,
           28262,
           16951,
           71121,
           97810,
           103027,
           19669,
           17888,
           45665,
           13942,
           13007,
           28585,
           20450,
           62706,
           47765,
           40712,
           12804,
           67846,
           35027,
           10735,
           28504,
           34471,
           32384,
           18022,
           29211,
           38458,
           16600,
           96871,
           23133,
           49798,
           20099,
           15773,
           29080,
           16758,
           35709,
           7818,
           24680,
           22334,
           25338,
           46013,
           37831,
           25905,
           9893,
           32031,
           11382,
           129047,
           67511,
           8095,
           11949,
           30616,
           30710,
           47091,
           102829,
           25470,
           43241,
           69050,
           32602,
           68311,
           38227,
           56251,
           38680,
           176147,
           26986,
           36481,
           41950,
           39672,
           18989,
           19060,
           37730,
           20223,
           66311,
           39964,
           72065,
           22722,
           40828,
           24484,
           33180,
           40188,
           20736,
           20538,
           40029,
           10780,
           17369,
           11611,
           37215,
           38288,
           33549,
           34472,
           33227,
           28018,
           8122,
           26894,
           22515,
           19291,
           18849,
           22647,
           55661,
           60700,
           47658,
           20835,
           50762,
           30590,
           14412,
           20409,
           35702,
           15894,
           78120,
           11564,
           85645,
           56215,
           27792,
           13281,
           35055,
           47027,
           12097,
           21739,
           31191,
           16222,
           18318,
           12198,
           11933,
           53196,
           42864,
           20669,
           17433,
           25540,
           8681,
           100012,
           10308,
           10564,
           20794,
           21676,
           81489,
           28580,
           24718,
           95774,
           22348,
           83265,
           17835,
           13294,
           12945,
           4592,
           47549,
           45345,
           48073,
           86503,
           14113,
           21073,
           24373,
           14010,
           26389,
           50442,
           22184,
           30046,
           7460,
           14810,
           15127,
           52231,
           23397,
           9493,
           10115,
           18572,
           81493,
           26795,
           47080,
           47096,
           51436,
           19420,
           33905,
           28537,
           32698,
           14020,
           96526,
           27628,
           21024,
           15356,
           26350,
           32238,
           25863,
           3111,
           24175,
           41707,
           10180,
           39563,
           20193,
           18645,
           15173,
           34786,
           7333,
           26213,
           20901,
           5766,
           67793,
           11090,
           63219,
           9704,
           26318,
           41123,
           63006,
           12208,
           42756,
           14328,
           18954,
           21966,
           62548,
           65953,
           36145,
           22653,
           77379,
           9472,
           14313,
           459,
           7855,
           8841,
           4383,
           5157,
           10002,
           11197,
           13798,
           1
          ],
          "coloraxis": "coloraxis",
          "size": [
           39738,
           23114,
           12641,
           46716,
           15469,
           7886,
           37768,
           47930,
           24703,
           45130,
           9558,
           30567,
           12137,
           85198,
           30193,
           38315,
           42217,
           10105,
           32007,
           14686,
           25803,
           9771,
           14182,
           19224,
           26600,
           14927,
           33880,
           30144,
           22985,
           26008,
           38581,
           14577,
           50147,
           43480,
           81062,
           41392,
           60534,
           19551,
           12735,
           25685,
           22849,
           24358,
           40821,
           50489,
           38250,
           7809,
           31190,
           18254,
           13010,
           10188,
           72642,
           31542,
           16253,
           31362,
           28901,
           11951,
           43985,
           36918,
           19012,
           13173,
           26356,
           38261,
           11829,
           19255,
           15082,
           24433,
           11115,
           7634,
           21885,
           59414,
           23012,
           23947,
           25447,
           14436,
           17318,
           31851,
           87120,
           19221,
           44247,
           27001,
           40637,
           43702,
           6940,
           19205,
           56331,
           66113,
           20509,
           39867,
           26744,
           104917,
           6994,
           36375,
           71417,
           65433,
           44647,
           38667,
           18753,
           22950,
           16428,
           32373,
           43046,
           39460,
           10965,
           16023,
           30243,
           21006,
           41632,
           14750,
           91227,
           13937,
           28427,
           36442,
           14537,
           15408,
           13323,
           62790,
           110387,
           21229,
           21797,
           31510,
           25768,
           40748,
           17519,
           19408,
           14530,
           136885,
           50493,
           26367,
           70089,
           63665,
           29236,
           24170,
           48499,
           52417,
           29781,
           33420,
           21452,
           14120,
           34134,
           38799,
           27193,
           77436,
           12843,
           57334,
           28982,
           9055,
           18465,
           27578,
           45575,
           32690,
           27670,
           41661,
           59727,
           36798,
           15107,
           19177,
           8024,
           106276,
           38146,
           36871,
           16513,
           15831,
           81377,
           28569,
           22769,
           41292,
           25690,
           24854,
           12777,
           31141,
           26612,
           23381,
           22734,
           35629,
           22229,
           31606,
           14639,
           23646,
           12452,
           57589,
           25345,
           45789,
           66606,
           59448,
           20214,
           29290,
           40270,
           23431,
           33336,
           60155,
           23509,
           69911,
           15830,
           40473,
           26937,
           19921,
           56772,
           30651,
           13711,
           74451,
           26799,
           28225,
           19645,
           24748,
           35542,
           26384,
           13471,
           11842,
           43120,
           68299,
           21811,
           15523,
           15615,
           62656,
           24010,
           19777,
           29699,
           42753,
           40524,
           18776,
           41828,
           43563,
           16989,
           38223,
           59197,
           33321,
           15003,
           49887,
           45852,
           21700,
           12752,
           21446,
           5252,
           63681,
           36228,
           121762,
           46965,
           25293,
           58915,
           46094,
           36548,
           12228,
           35180,
           20824,
           16610,
           45849,
           24397,
           28711,
           39018,
           362817,
           27659,
           34795,
           77043,
           87082,
           24036,
           45734,
           29374,
           19486,
           10010,
           26791,
           67135,
           15613,
           21063,
           34969,
           44245,
           61064,
           22900,
           32737,
           55781,
           12728,
           44388,
           18678,
           16541,
           43048,
           30131,
           66064,
           19812,
           24160,
           13294,
           39074,
           56950,
           20535,
           22536,
           14741,
           18336,
           14581,
           13127,
           19718,
           17094,
           20269,
           18387,
           17444,
           41146,
           56453,
           90976,
           30628,
           14978,
           23862,
           19328,
           28673,
           28188,
           31935,
           50951,
           13810,
           19996,
           45515,
           25046,
           11984,
           59257,
           10345,
           21210,
           21470,
           41257,
           59615,
           16938,
           15456,
           20378,
           7233,
           96427,
           11936,
           61221,
           16252,
           23506,
           30149,
           33135,
           42796,
           15921,
           36327,
           48056,
           34622,
           41437,
           46765,
           23831,
           70644,
           78502,
           23061,
           83413,
           15272,
           22353,
           14675,
           34073,
           18458,
           67351,
           17748,
           30845,
           34860,
           14066,
           52021,
           54729,
           22819,
           36192,
           23668,
           25397,
           39438,
           15953,
           17674,
           56893,
           14552,
           19198,
           29061,
           8928,
           18303,
           17476,
           48098,
           41786,
           20343,
           24803,
           19116,
           20280,
           22275,
           21598,
           22553,
           13858,
           11180,
           64940,
           36698,
           26603,
           23973,
           16362,
           11617,
           16139,
           21563,
           19812,
           35152,
           28202,
           33932,
           22856,
           16215,
           58086,
           40005,
           20619,
           12343,
           14711,
           21956,
           8597,
           87406,
           30222,
           21781,
           5080,
           38438,
           21688,
           22703,
           42640,
           94720,
           50639,
           18626,
           15296,
           18268,
           14337,
           53269,
           11179,
           16399,
           96901,
           21965,
           21131,
           66357,
           36106,
           62325,
           24917,
           53093,
           8629,
           26422,
           39496,
           48013,
           28458,
           12907,
           3745,
           32598,
           63592,
           12754,
           22460,
           36928,
           69732,
           13516,
           75325,
           37693,
           27529,
           49894,
           10372,
           28174,
           12313,
           10639,
           25441,
           30178,
           44259,
           62863,
           27586,
           35331,
           14465,
           15549,
           25396,
           39436,
           39708,
           9246,
           14796,
           32565,
           24620,
           15277,
           31914,
           39457,
           28262,
           16951,
           71121,
           97810,
           103027,
           19669,
           17888,
           45665,
           13942,
           13007,
           28585,
           20450,
           62706,
           47765,
           40712,
           12804,
           67846,
           35027,
           10735,
           28504,
           34471,
           32384,
           18022,
           29211,
           38458,
           16600,
           96871,
           23133,
           49798,
           20099,
           15773,
           29080,
           16758,
           35709,
           7818,
           24680,
           22334,
           25338,
           46013,
           37831,
           25905,
           9893,
           32031,
           11382,
           129047,
           67511,
           8095,
           11949,
           30616,
           30710,
           47091,
           102829,
           25470,
           43241,
           69050,
           32602,
           68311,
           38227,
           56251,
           38680,
           176147,
           26986,
           36481,
           41950,
           39672,
           18989,
           19060,
           37730,
           20223,
           66311,
           39964,
           72065,
           22722,
           40828,
           24484,
           33180,
           40188,
           20736,
           20538,
           40029,
           10780,
           17369,
           11611,
           37215,
           38288,
           33549,
           34472,
           33227,
           28018,
           8122,
           26894,
           22515,
           19291,
           18849,
           22647,
           55661,
           60700,
           47658,
           20835,
           50762,
           30590,
           14412,
           20409,
           35702,
           15894,
           78120,
           11564,
           85645,
           56215,
           27792,
           13281,
           35055,
           47027,
           12097,
           21739,
           31191,
           16222,
           18318,
           12198,
           11933,
           53196,
           42864,
           20669,
           17433,
           25540,
           8681,
           100012,
           10308,
           10564,
           20794,
           21676,
           81489,
           28580,
           24718,
           95774,
           22348,
           83265,
           17835,
           13294,
           12945,
           4592,
           47549,
           45345,
           48073,
           86503,
           14113,
           21073,
           24373,
           14010,
           26389,
           50442,
           22184,
           30046,
           7460,
           14810,
           15127,
           52231,
           23397,
           9493,
           10115,
           18572,
           81493,
           26795,
           47080,
           47096,
           51436,
           19420,
           33905,
           28537,
           32698,
           14020,
           96526,
           27628,
           21024,
           15356,
           26350,
           32238,
           25863,
           3111,
           24175,
           41707,
           10180,
           39563,
           20193,
           18645,
           15173,
           34786,
           7333,
           26213,
           20901,
           5766,
           67793,
           11090,
           63219,
           9704,
           26318,
           41123,
           63006,
           12208,
           42756,
           14328,
           18954,
           21966,
           62548,
           65953,
           36145,
           22653,
           77379,
           9472,
           14313,
           459,
           7855,
           8841,
           4383,
           5157,
           10002,
           11197,
           13798,
           1
          ],
          "sizemode": "area",
          "sizeref": 907.0425
         },
         "mode": "markers",
         "name": "",
         "showlegend": false,
         "subplot": "mapbox",
         "type": "scattermapbox"
        }
       ],
       "layout": {
        "coloraxis": {
         "colorbar": {
          "title": {
           "text": "count_arribo"
          }
         },
         "colorscale": [
          [
           0,
           "#0d0887"
          ],
          [
           0.1111111111111111,
           "#46039f"
          ],
          [
           0.2222222222222222,
           "#7201a8"
          ],
          [
           0.3333333333333333,
           "#9c179e"
          ],
          [
           0.4444444444444444,
           "#bd3786"
          ],
          [
           0.5555555555555556,
           "#d8576b"
          ],
          [
           0.6666666666666666,
           "#ed7953"
          ],
          [
           0.7777777777777778,
           "#fb9f3a"
          ],
          [
           0.8888888888888888,
           "#fdca26"
          ],
          [
           1,
           "#f0f921"
          ]
         ]
        },
        "height": 300,
        "legend": {
         "itemsizing": "constant",
         "tracegroupgap": 0
        },
        "mapbox": {
         "center": {
          "lat": 19.408341546026588,
          "lon": -99.16756680785821
         },
         "domain": {
          "x": [
           0,
           1
          ],
          "y": [
           0,
           1
          ]
         },
         "style": "carto-positron",
         "zoom": 10
        },
        "margin": {
         "b": 0,
         "l": 0,
         "r": 0,
         "t": 0
        },
        "template": {
         "data": {
          "bar": [
           {
            "error_x": {
             "color": "#2a3f5f"
            },
            "error_y": {
             "color": "#2a3f5f"
            },
            "marker": {
             "line": {
              "color": "#E5ECF6",
              "width": 0.5
             },
             "pattern": {
              "fillmode": "overlay",
              "size": 10,
              "solidity": 0.2
             }
            },
            "type": "bar"
           }
          ],
          "barpolar": [
           {
            "marker": {
             "line": {
              "color": "#E5ECF6",
              "width": 0.5
             },
             "pattern": {
              "fillmode": "overlay",
              "size": 10,
              "solidity": 0.2
             }
            },
            "type": "barpolar"
           }
          ],
          "carpet": [
           {
            "aaxis": {
             "endlinecolor": "#2a3f5f",
             "gridcolor": "white",
             "linecolor": "white",
             "minorgridcolor": "white",
             "startlinecolor": "#2a3f5f"
            },
            "baxis": {
             "endlinecolor": "#2a3f5f",
             "gridcolor": "white",
             "linecolor": "white",
             "minorgridcolor": "white",
             "startlinecolor": "#2a3f5f"
            },
            "type": "carpet"
           }
          ],
          "choropleth": [
           {
            "colorbar": {
             "outlinewidth": 0,
             "ticks": ""
            },
            "type": "choropleth"
           }
          ],
          "contour": [
           {
            "colorbar": {
             "outlinewidth": 0,
             "ticks": ""
            },
            "colorscale": [
             [
              0,
              "#0d0887"
             ],
             [
              0.1111111111111111,
              "#46039f"
             ],
             [
              0.2222222222222222,
              "#7201a8"
             ],
             [
              0.3333333333333333,
              "#9c179e"
             ],
             [
              0.4444444444444444,
              "#bd3786"
             ],
             [
              0.5555555555555556,
              "#d8576b"
             ],
             [
              0.6666666666666666,
              "#ed7953"
             ],
             [
              0.7777777777777778,
              "#fb9f3a"
             ],
             [
              0.8888888888888888,
              "#fdca26"
             ],
             [
              1,
              "#f0f921"
             ]
            ],
            "type": "contour"
           }
          ],
          "contourcarpet": [
           {
            "colorbar": {
             "outlinewidth": 0,
             "ticks": ""
            },
            "type": "contourcarpet"
           }
          ],
          "heatmap": [
           {
            "colorbar": {
             "outlinewidth": 0,
             "ticks": ""
            },
            "colorscale": [
             [
              0,
              "#0d0887"
             ],
             [
              0.1111111111111111,
              "#46039f"
             ],
             [
              0.2222222222222222,
              "#7201a8"
             ],
             [
              0.3333333333333333,
              "#9c179e"
             ],
             [
              0.4444444444444444,
              "#bd3786"
             ],
             [
              0.5555555555555556,
              "#d8576b"
             ],
             [
              0.6666666666666666,
              "#ed7953"
             ],
             [
              0.7777777777777778,
              "#fb9f3a"
             ],
             [
              0.8888888888888888,
              "#fdca26"
             ],
             [
              1,
              "#f0f921"
             ]
            ],
            "type": "heatmap"
           }
          ],
          "heatmapgl": [
           {
            "colorbar": {
             "outlinewidth": 0,
             "ticks": ""
            },
            "colorscale": [
             [
              0,
              "#0d0887"
             ],
             [
              0.1111111111111111,
              "#46039f"
             ],
             [
              0.2222222222222222,
              "#7201a8"
             ],
             [
              0.3333333333333333,
              "#9c179e"
             ],
             [
              0.4444444444444444,
              "#bd3786"
             ],
             [
              0.5555555555555556,
              "#d8576b"
             ],
             [
              0.6666666666666666,
              "#ed7953"
             ],
             [
              0.7777777777777778,
              "#fb9f3a"
             ],
             [
              0.8888888888888888,
              "#fdca26"
             ],
             [
              1,
              "#f0f921"
             ]
            ],
            "type": "heatmapgl"
           }
          ],
          "histogram": [
           {
            "marker": {
             "pattern": {
              "fillmode": "overlay",
              "size": 10,
              "solidity": 0.2
             }
            },
            "type": "histogram"
           }
          ],
          "histogram2d": [
           {
            "colorbar": {
             "outlinewidth": 0,
             "ticks": ""
            },
            "colorscale": [
             [
              0,
              "#0d0887"
             ],
             [
              0.1111111111111111,
              "#46039f"
             ],
             [
              0.2222222222222222,
              "#7201a8"
             ],
             [
              0.3333333333333333,
              "#9c179e"
             ],
             [
              0.4444444444444444,
              "#bd3786"
             ],
             [
              0.5555555555555556,
              "#d8576b"
             ],
             [
              0.6666666666666666,
              "#ed7953"
             ],
             [
              0.7777777777777778,
              "#fb9f3a"
             ],
             [
              0.8888888888888888,
              "#fdca26"
             ],
             [
              1,
              "#f0f921"
             ]
            ],
            "type": "histogram2d"
           }
          ],
          "histogram2dcontour": [
           {
            "colorbar": {
             "outlinewidth": 0,
             "ticks": ""
            },
            "colorscale": [
             [
              0,
              "#0d0887"
             ],
             [
              0.1111111111111111,
              "#46039f"
             ],
             [
              0.2222222222222222,
              "#7201a8"
             ],
             [
              0.3333333333333333,
              "#9c179e"
             ],
             [
              0.4444444444444444,
              "#bd3786"
             ],
             [
              0.5555555555555556,
              "#d8576b"
             ],
             [
              0.6666666666666666,
              "#ed7953"
             ],
             [
              0.7777777777777778,
              "#fb9f3a"
             ],
             [
              0.8888888888888888,
              "#fdca26"
             ],
             [
              1,
              "#f0f921"
             ]
            ],
            "type": "histogram2dcontour"
           }
          ],
          "mesh3d": [
           {
            "colorbar": {
             "outlinewidth": 0,
             "ticks": ""
            },
            "type": "mesh3d"
           }
          ],
          "parcoords": [
           {
            "line": {
             "colorbar": {
              "outlinewidth": 0,
              "ticks": ""
             }
            },
            "type": "parcoords"
           }
          ],
          "pie": [
           {
            "automargin": true,
            "type": "pie"
           }
          ],
          "scatter": [
           {
            "fillpattern": {
             "fillmode": "overlay",
             "size": 10,
             "solidity": 0.2
            },
            "type": "scatter"
           }
          ],
          "scatter3d": [
           {
            "line": {
             "colorbar": {
              "outlinewidth": 0,
              "ticks": ""
             }
            },
            "marker": {
             "colorbar": {
              "outlinewidth": 0,
              "ticks": ""
             }
            },
            "type": "scatter3d"
           }
          ],
          "scattercarpet": [
           {
            "marker": {
             "colorbar": {
              "outlinewidth": 0,
              "ticks": ""
             }
            },
            "type": "scattercarpet"
           }
          ],
          "scattergeo": [
           {
            "marker": {
             "colorbar": {
              "outlinewidth": 0,
              "ticks": ""
             }
            },
            "type": "scattergeo"
           }
          ],
          "scattergl": [
           {
            "marker": {
             "colorbar": {
              "outlinewidth": 0,
              "ticks": ""
             }
            },
            "type": "scattergl"
           }
          ],
          "scattermapbox": [
           {
            "marker": {
             "colorbar": {
              "outlinewidth": 0,
              "ticks": ""
             }
            },
            "type": "scattermapbox"
           }
          ],
          "scatterpolar": [
           {
            "marker": {
             "colorbar": {
              "outlinewidth": 0,
              "ticks": ""
             }
            },
            "type": "scatterpolar"
           }
          ],
          "scatterpolargl": [
           {
            "marker": {
             "colorbar": {
              "outlinewidth": 0,
              "ticks": ""
             }
            },
            "type": "scatterpolargl"
           }
          ],
          "scatterternary": [
           {
            "marker": {
             "colorbar": {
              "outlinewidth": 0,
              "ticks": ""
             }
            },
            "type": "scatterternary"
           }
          ],
          "surface": [
           {
            "colorbar": {
             "outlinewidth": 0,
             "ticks": ""
            },
            "colorscale": [
             [
              0,
              "#0d0887"
             ],
             [
              0.1111111111111111,
              "#46039f"
             ],
             [
              0.2222222222222222,
              "#7201a8"
             ],
             [
              0.3333333333333333,
              "#9c179e"
             ],
             [
              0.4444444444444444,
              "#bd3786"
             ],
             [
              0.5555555555555556,
              "#d8576b"
             ],
             [
              0.6666666666666666,
              "#ed7953"
             ],
             [
              0.7777777777777778,
              "#fb9f3a"
             ],
             [
              0.8888888888888888,
              "#fdca26"
             ],
             [
              1,
              "#f0f921"
             ]
            ],
            "type": "surface"
           }
          ],
          "table": [
           {
            "cells": {
             "fill": {
              "color": "#EBF0F8"
             },
             "line": {
              "color": "white"
             }
            },
            "header": {
             "fill": {
              "color": "#C8D4E3"
             },
             "line": {
              "color": "white"
             }
            },
            "type": "table"
           }
          ]
         },
         "layout": {
          "annotationdefaults": {
           "arrowcolor": "#2a3f5f",
           "arrowhead": 0,
           "arrowwidth": 1
          },
          "autotypenumbers": "strict",
          "coloraxis": {
           "colorbar": {
            "outlinewidth": 0,
            "ticks": ""
           }
          },
          "colorscale": {
           "diverging": [
            [
             0,
             "#8e0152"
            ],
            [
             0.1,
             "#c51b7d"
            ],
            [
             0.2,
             "#de77ae"
            ],
            [
             0.3,
             "#f1b6da"
            ],
            [
             0.4,
             "#fde0ef"
            ],
            [
             0.5,
             "#f7f7f7"
            ],
            [
             0.6,
             "#e6f5d0"
            ],
            [
             0.7,
             "#b8e186"
            ],
            [
             0.8,
             "#7fbc41"
            ],
            [
             0.9,
             "#4d9221"
            ],
            [
             1,
             "#276419"
            ]
           ],
           "sequential": [
            [
             0,
             "#0d0887"
            ],
            [
             0.1111111111111111,
             "#46039f"
            ],
            [
             0.2222222222222222,
             "#7201a8"
            ],
            [
             0.3333333333333333,
             "#9c179e"
            ],
            [
             0.4444444444444444,
             "#bd3786"
            ],
            [
             0.5555555555555556,
             "#d8576b"
            ],
            [
             0.6666666666666666,
             "#ed7953"
            ],
            [
             0.7777777777777778,
             "#fb9f3a"
            ],
            [
             0.8888888888888888,
             "#fdca26"
            ],
            [
             1,
             "#f0f921"
            ]
           ],
           "sequentialminus": [
            [
             0,
             "#0d0887"
            ],
            [
             0.1111111111111111,
             "#46039f"
            ],
            [
             0.2222222222222222,
             "#7201a8"
            ],
            [
             0.3333333333333333,
             "#9c179e"
            ],
            [
             0.4444444444444444,
             "#bd3786"
            ],
            [
             0.5555555555555556,
             "#d8576b"
            ],
            [
             0.6666666666666666,
             "#ed7953"
            ],
            [
             0.7777777777777778,
             "#fb9f3a"
            ],
            [
             0.8888888888888888,
             "#fdca26"
            ],
            [
             1,
             "#f0f921"
            ]
           ]
          },
          "colorway": [
           "#636efa",
           "#EF553B",
           "#00cc96",
           "#ab63fa",
           "#FFA15A",
           "#19d3f3",
           "#FF6692",
           "#B6E880",
           "#FF97FF",
           "#FECB52"
          ],
          "font": {
           "color": "#2a3f5f"
          },
          "geo": {
           "bgcolor": "white",
           "lakecolor": "white",
           "landcolor": "#E5ECF6",
           "showlakes": true,
           "showland": true,
           "subunitcolor": "white"
          },
          "hoverlabel": {
           "align": "left"
          },
          "hovermode": "closest",
          "mapbox": {
           "style": "light"
          },
          "paper_bgcolor": "white",
          "plot_bgcolor": "#E5ECF6",
          "polar": {
           "angularaxis": {
            "gridcolor": "white",
            "linecolor": "white",
            "ticks": ""
           },
           "bgcolor": "#E5ECF6",
           "radialaxis": {
            "gridcolor": "white",
            "linecolor": "white",
            "ticks": ""
           }
          },
          "scene": {
           "xaxis": {
            "backgroundcolor": "#E5ECF6",
            "gridcolor": "white",
            "gridwidth": 2,
            "linecolor": "white",
            "showbackground": true,
            "ticks": "",
            "zerolinecolor": "white"
           },
           "yaxis": {
            "backgroundcolor": "#E5ECF6",
            "gridcolor": "white",
            "gridwidth": 2,
            "linecolor": "white",
            "showbackground": true,
            "ticks": "",
            "zerolinecolor": "white"
           },
           "zaxis": {
            "backgroundcolor": "#E5ECF6",
            "gridcolor": "white",
            "gridwidth": 2,
            "linecolor": "white",
            "showbackground": true,
            "ticks": "",
            "zerolinecolor": "white"
           }
          },
          "shapedefaults": {
           "line": {
            "color": "#2a3f5f"
           }
          },
          "ternary": {
           "aaxis": {
            "gridcolor": "white",
            "linecolor": "white",
            "ticks": ""
           },
           "baxis": {
            "gridcolor": "white",
            "linecolor": "white",
            "ticks": ""
           },
           "bgcolor": "#E5ECF6",
           "caxis": {
            "gridcolor": "white",
            "linecolor": "white",
            "ticks": ""
           }
          },
          "title": {
           "x": 0.05
          },
          "xaxis": {
           "automargin": true,
           "gridcolor": "white",
           "linecolor": "white",
           "ticks": "",
           "title": {
            "standoff": 15
           },
           "zerolinecolor": "white",
           "zerolinewidth": 2
          },
          "yaxis": {
           "automargin": true,
           "gridcolor": "white",
           "linecolor": "white",
           "ticks": "",
           "title": {
            "standoff": 15
           },
           "zerolinecolor": "white",
           "zerolinewidth": 2
          }
         }
        }
       }
      }
     },
     "metadata": {},
     "output_type": "display_data"
    }
   ],
   "source": [
    "fig = px.scatter_mapbox(station_count.toPandas(), lat='latitud', lon='longitud', size='count_arribo',color='count_arribo',\n",
    "                     hover_name='station_name', hover_data=['count_arribo'],\n",
    "                     color_discrete_sequence=[\"fuchsia\"], zoom=10, height=300,color_continuous_scale=px.colors.sequential.Plasma)\n",
    "fig.update_layout(mapbox_style=\"carto-positron\",)\n",
    "fig.update_layout(margin={\"r\":0,\"t\":0,\"l\":0,\"b\":0})\n",
    "fig.show()"
   ]
  },
  {
   "cell_type": "code",
   "execution_count": 33,
   "id": "783dbcb5",
   "metadata": {},
   "outputs": [
    {
     "name": "stdout",
     "output_type": "stream",
     "text": [
      "Horas de mayor retiro:\n",
      "+-----------+-------+\n",
      "|hora_retiro|  count|\n",
      "+-----------+-------+\n",
      "|         18|1930160|\n",
      "|         17|1744477|\n",
      "|          8|1676469|\n",
      "|         15|1612575|\n",
      "|         14|1597790|\n",
      "|         19|1527055|\n",
      "|         16|1487428|\n",
      "|         13|1374636|\n",
      "|          9|1291342|\n",
      "|          7|1270711|\n",
      "|         12|1174321|\n",
      "|         20|1104068|\n",
      "|         10|1102236|\n",
      "|         11|1089443|\n",
      "|         21| 821176|\n",
      "|          6| 607452|\n",
      "|         22| 549241|\n",
      "|         23| 324100|\n",
      "|          5| 167548|\n",
      "|          0|  91351|\n",
      "+-----------+-------+\n",
      "\n"
     ]
    }
   ],
   "source": [
    "from pyspark.sql import functions as F\n",
    "\n",
    "df_with_hour = df.withColumn(\"hora_retiro\", F.hour(F.to_timestamp(F.col(\"Hora_Retiro\"), \"HH:mm:ss\")))\n",
    "\n",
    "hourly_traffic = df_with_hour.groupBy(\"hora_retiro\").count().orderBy(\"count\", ascending=False)\n",
    "\n",
    "print(\"Horas de mayor retiro:\")\n",
    "hourly_traffic.show()\n",
    "from pyspark.sql.window import Window"
   ]
  },
  {
   "cell_type": "code",
   "execution_count": 34,
   "id": "d02e70e0",
   "metadata": {},
   "outputs": [
    {
     "data": {
      "application/vnd.plotly.v1+json": {
       "config": {
        "plotlyServerURL": "https://plot.ly"
       },
       "data": [
        {
         "alignmentgroup": "True",
         "hovertemplate": "Hour of Day=%{x}<br>Count=%{y}<extra></extra>",
         "legendgroup": "",
         "marker": {
          "color": "#636efa",
          "pattern": {
           "shape": ""
          }
         },
         "name": "",
         "offsetgroup": "",
         "orientation": "v",
         "showlegend": false,
         "textposition": "auto",
         "type": "bar",
         "x": [
          18,
          17,
          8,
          15,
          14,
          19,
          16,
          13,
          9,
          7,
          12,
          20,
          10,
          11,
          21,
          6,
          22,
          23,
          5,
          0
         ],
         "xaxis": "x",
         "y": [
          1930160,
          1744477,
          1676469,
          1612575,
          1597790,
          1527055,
          1487428,
          1374636,
          1291342,
          1270711,
          1174321,
          1104068,
          1102236,
          1089443,
          821176,
          607452,
          549241,
          324100,
          167548,
          91351
         ],
         "yaxis": "y"
        }
       ],
       "layout": {
        "barmode": "relative",
        "legend": {
         "tracegroupgap": 0
        },
        "template": {
         "data": {
          "bar": [
           {
            "error_x": {
             "color": "#2a3f5f"
            },
            "error_y": {
             "color": "#2a3f5f"
            },
            "marker": {
             "line": {
              "color": "#E5ECF6",
              "width": 0.5
             },
             "pattern": {
              "fillmode": "overlay",
              "size": 10,
              "solidity": 0.2
             }
            },
            "type": "bar"
           }
          ],
          "barpolar": [
           {
            "marker": {
             "line": {
              "color": "#E5ECF6",
              "width": 0.5
             },
             "pattern": {
              "fillmode": "overlay",
              "size": 10,
              "solidity": 0.2
             }
            },
            "type": "barpolar"
           }
          ],
          "carpet": [
           {
            "aaxis": {
             "endlinecolor": "#2a3f5f",
             "gridcolor": "white",
             "linecolor": "white",
             "minorgridcolor": "white",
             "startlinecolor": "#2a3f5f"
            },
            "baxis": {
             "endlinecolor": "#2a3f5f",
             "gridcolor": "white",
             "linecolor": "white",
             "minorgridcolor": "white",
             "startlinecolor": "#2a3f5f"
            },
            "type": "carpet"
           }
          ],
          "choropleth": [
           {
            "colorbar": {
             "outlinewidth": 0,
             "ticks": ""
            },
            "type": "choropleth"
           }
          ],
          "contour": [
           {
            "colorbar": {
             "outlinewidth": 0,
             "ticks": ""
            },
            "colorscale": [
             [
              0,
              "#0d0887"
             ],
             [
              0.1111111111111111,
              "#46039f"
             ],
             [
              0.2222222222222222,
              "#7201a8"
             ],
             [
              0.3333333333333333,
              "#9c179e"
             ],
             [
              0.4444444444444444,
              "#bd3786"
             ],
             [
              0.5555555555555556,
              "#d8576b"
             ],
             [
              0.6666666666666666,
              "#ed7953"
             ],
             [
              0.7777777777777778,
              "#fb9f3a"
             ],
             [
              0.8888888888888888,
              "#fdca26"
             ],
             [
              1,
              "#f0f921"
             ]
            ],
            "type": "contour"
           }
          ],
          "contourcarpet": [
           {
            "colorbar": {
             "outlinewidth": 0,
             "ticks": ""
            },
            "type": "contourcarpet"
           }
          ],
          "heatmap": [
           {
            "colorbar": {
             "outlinewidth": 0,
             "ticks": ""
            },
            "colorscale": [
             [
              0,
              "#0d0887"
             ],
             [
              0.1111111111111111,
              "#46039f"
             ],
             [
              0.2222222222222222,
              "#7201a8"
             ],
             [
              0.3333333333333333,
              "#9c179e"
             ],
             [
              0.4444444444444444,
              "#bd3786"
             ],
             [
              0.5555555555555556,
              "#d8576b"
             ],
             [
              0.6666666666666666,
              "#ed7953"
             ],
             [
              0.7777777777777778,
              "#fb9f3a"
             ],
             [
              0.8888888888888888,
              "#fdca26"
             ],
             [
              1,
              "#f0f921"
             ]
            ],
            "type": "heatmap"
           }
          ],
          "heatmapgl": [
           {
            "colorbar": {
             "outlinewidth": 0,
             "ticks": ""
            },
            "colorscale": [
             [
              0,
              "#0d0887"
             ],
             [
              0.1111111111111111,
              "#46039f"
             ],
             [
              0.2222222222222222,
              "#7201a8"
             ],
             [
              0.3333333333333333,
              "#9c179e"
             ],
             [
              0.4444444444444444,
              "#bd3786"
             ],
             [
              0.5555555555555556,
              "#d8576b"
             ],
             [
              0.6666666666666666,
              "#ed7953"
             ],
             [
              0.7777777777777778,
              "#fb9f3a"
             ],
             [
              0.8888888888888888,
              "#fdca26"
             ],
             [
              1,
              "#f0f921"
             ]
            ],
            "type": "heatmapgl"
           }
          ],
          "histogram": [
           {
            "marker": {
             "pattern": {
              "fillmode": "overlay",
              "size": 10,
              "solidity": 0.2
             }
            },
            "type": "histogram"
           }
          ],
          "histogram2d": [
           {
            "colorbar": {
             "outlinewidth": 0,
             "ticks": ""
            },
            "colorscale": [
             [
              0,
              "#0d0887"
             ],
             [
              0.1111111111111111,
              "#46039f"
             ],
             [
              0.2222222222222222,
              "#7201a8"
             ],
             [
              0.3333333333333333,
              "#9c179e"
             ],
             [
              0.4444444444444444,
              "#bd3786"
             ],
             [
              0.5555555555555556,
              "#d8576b"
             ],
             [
              0.6666666666666666,
              "#ed7953"
             ],
             [
              0.7777777777777778,
              "#fb9f3a"
             ],
             [
              0.8888888888888888,
              "#fdca26"
             ],
             [
              1,
              "#f0f921"
             ]
            ],
            "type": "histogram2d"
           }
          ],
          "histogram2dcontour": [
           {
            "colorbar": {
             "outlinewidth": 0,
             "ticks": ""
            },
            "colorscale": [
             [
              0,
              "#0d0887"
             ],
             [
              0.1111111111111111,
              "#46039f"
             ],
             [
              0.2222222222222222,
              "#7201a8"
             ],
             [
              0.3333333333333333,
              "#9c179e"
             ],
             [
              0.4444444444444444,
              "#bd3786"
             ],
             [
              0.5555555555555556,
              "#d8576b"
             ],
             [
              0.6666666666666666,
              "#ed7953"
             ],
             [
              0.7777777777777778,
              "#fb9f3a"
             ],
             [
              0.8888888888888888,
              "#fdca26"
             ],
             [
              1,
              "#f0f921"
             ]
            ],
            "type": "histogram2dcontour"
           }
          ],
          "mesh3d": [
           {
            "colorbar": {
             "outlinewidth": 0,
             "ticks": ""
            },
            "type": "mesh3d"
           }
          ],
          "parcoords": [
           {
            "line": {
             "colorbar": {
              "outlinewidth": 0,
              "ticks": ""
             }
            },
            "type": "parcoords"
           }
          ],
          "pie": [
           {
            "automargin": true,
            "type": "pie"
           }
          ],
          "scatter": [
           {
            "fillpattern": {
             "fillmode": "overlay",
             "size": 10,
             "solidity": 0.2
            },
            "type": "scatter"
           }
          ],
          "scatter3d": [
           {
            "line": {
             "colorbar": {
              "outlinewidth": 0,
              "ticks": ""
             }
            },
            "marker": {
             "colorbar": {
              "outlinewidth": 0,
              "ticks": ""
             }
            },
            "type": "scatter3d"
           }
          ],
          "scattercarpet": [
           {
            "marker": {
             "colorbar": {
              "outlinewidth": 0,
              "ticks": ""
             }
            },
            "type": "scattercarpet"
           }
          ],
          "scattergeo": [
           {
            "marker": {
             "colorbar": {
              "outlinewidth": 0,
              "ticks": ""
             }
            },
            "type": "scattergeo"
           }
          ],
          "scattergl": [
           {
            "marker": {
             "colorbar": {
              "outlinewidth": 0,
              "ticks": ""
             }
            },
            "type": "scattergl"
           }
          ],
          "scattermapbox": [
           {
            "marker": {
             "colorbar": {
              "outlinewidth": 0,
              "ticks": ""
             }
            },
            "type": "scattermapbox"
           }
          ],
          "scatterpolar": [
           {
            "marker": {
             "colorbar": {
              "outlinewidth": 0,
              "ticks": ""
             }
            },
            "type": "scatterpolar"
           }
          ],
          "scatterpolargl": [
           {
            "marker": {
             "colorbar": {
              "outlinewidth": 0,
              "ticks": ""
             }
            },
            "type": "scatterpolargl"
           }
          ],
          "scatterternary": [
           {
            "marker": {
             "colorbar": {
              "outlinewidth": 0,
              "ticks": ""
             }
            },
            "type": "scatterternary"
           }
          ],
          "surface": [
           {
            "colorbar": {
             "outlinewidth": 0,
             "ticks": ""
            },
            "colorscale": [
             [
              0,
              "#0d0887"
             ],
             [
              0.1111111111111111,
              "#46039f"
             ],
             [
              0.2222222222222222,
              "#7201a8"
             ],
             [
              0.3333333333333333,
              "#9c179e"
             ],
             [
              0.4444444444444444,
              "#bd3786"
             ],
             [
              0.5555555555555556,
              "#d8576b"
             ],
             [
              0.6666666666666666,
              "#ed7953"
             ],
             [
              0.7777777777777778,
              "#fb9f3a"
             ],
             [
              0.8888888888888888,
              "#fdca26"
             ],
             [
              1,
              "#f0f921"
             ]
            ],
            "type": "surface"
           }
          ],
          "table": [
           {
            "cells": {
             "fill": {
              "color": "#EBF0F8"
             },
             "line": {
              "color": "white"
             }
            },
            "header": {
             "fill": {
              "color": "#C8D4E3"
             },
             "line": {
              "color": "white"
             }
            },
            "type": "table"
           }
          ]
         },
         "layout": {
          "annotationdefaults": {
           "arrowcolor": "#2a3f5f",
           "arrowhead": 0,
           "arrowwidth": 1
          },
          "autotypenumbers": "strict",
          "coloraxis": {
           "colorbar": {
            "outlinewidth": 0,
            "ticks": ""
           }
          },
          "colorscale": {
           "diverging": [
            [
             0,
             "#8e0152"
            ],
            [
             0.1,
             "#c51b7d"
            ],
            [
             0.2,
             "#de77ae"
            ],
            [
             0.3,
             "#f1b6da"
            ],
            [
             0.4,
             "#fde0ef"
            ],
            [
             0.5,
             "#f7f7f7"
            ],
            [
             0.6,
             "#e6f5d0"
            ],
            [
             0.7,
             "#b8e186"
            ],
            [
             0.8,
             "#7fbc41"
            ],
            [
             0.9,
             "#4d9221"
            ],
            [
             1,
             "#276419"
            ]
           ],
           "sequential": [
            [
             0,
             "#0d0887"
            ],
            [
             0.1111111111111111,
             "#46039f"
            ],
            [
             0.2222222222222222,
             "#7201a8"
            ],
            [
             0.3333333333333333,
             "#9c179e"
            ],
            [
             0.4444444444444444,
             "#bd3786"
            ],
            [
             0.5555555555555556,
             "#d8576b"
            ],
            [
             0.6666666666666666,
             "#ed7953"
            ],
            [
             0.7777777777777778,
             "#fb9f3a"
            ],
            [
             0.8888888888888888,
             "#fdca26"
            ],
            [
             1,
             "#f0f921"
            ]
           ],
           "sequentialminus": [
            [
             0,
             "#0d0887"
            ],
            [
             0.1111111111111111,
             "#46039f"
            ],
            [
             0.2222222222222222,
             "#7201a8"
            ],
            [
             0.3333333333333333,
             "#9c179e"
            ],
            [
             0.4444444444444444,
             "#bd3786"
            ],
            [
             0.5555555555555556,
             "#d8576b"
            ],
            [
             0.6666666666666666,
             "#ed7953"
            ],
            [
             0.7777777777777778,
             "#fb9f3a"
            ],
            [
             0.8888888888888888,
             "#fdca26"
            ],
            [
             1,
             "#f0f921"
            ]
           ]
          },
          "colorway": [
           "#636efa",
           "#EF553B",
           "#00cc96",
           "#ab63fa",
           "#FFA15A",
           "#19d3f3",
           "#FF6692",
           "#B6E880",
           "#FF97FF",
           "#FECB52"
          ],
          "font": {
           "color": "#2a3f5f"
          },
          "geo": {
           "bgcolor": "white",
           "lakecolor": "white",
           "landcolor": "#E5ECF6",
           "showlakes": true,
           "showland": true,
           "subunitcolor": "white"
          },
          "hoverlabel": {
           "align": "left"
          },
          "hovermode": "closest",
          "mapbox": {
           "style": "light"
          },
          "paper_bgcolor": "white",
          "plot_bgcolor": "#E5ECF6",
          "polar": {
           "angularaxis": {
            "gridcolor": "white",
            "linecolor": "white",
            "ticks": ""
           },
           "bgcolor": "#E5ECF6",
           "radialaxis": {
            "gridcolor": "white",
            "linecolor": "white",
            "ticks": ""
           }
          },
          "scene": {
           "xaxis": {
            "backgroundcolor": "#E5ECF6",
            "gridcolor": "white",
            "gridwidth": 2,
            "linecolor": "white",
            "showbackground": true,
            "ticks": "",
            "zerolinecolor": "white"
           },
           "yaxis": {
            "backgroundcolor": "#E5ECF6",
            "gridcolor": "white",
            "gridwidth": 2,
            "linecolor": "white",
            "showbackground": true,
            "ticks": "",
            "zerolinecolor": "white"
           },
           "zaxis": {
            "backgroundcolor": "#E5ECF6",
            "gridcolor": "white",
            "gridwidth": 2,
            "linecolor": "white",
            "showbackground": true,
            "ticks": "",
            "zerolinecolor": "white"
           }
          },
          "shapedefaults": {
           "line": {
            "color": "#2a3f5f"
           }
          },
          "ternary": {
           "aaxis": {
            "gridcolor": "white",
            "linecolor": "white",
            "ticks": ""
           },
           "baxis": {
            "gridcolor": "white",
            "linecolor": "white",
            "ticks": ""
           },
           "bgcolor": "#E5ECF6",
           "caxis": {
            "gridcolor": "white",
            "linecolor": "white",
            "ticks": ""
           }
          },
          "title": {
           "x": 0.05
          },
          "xaxis": {
           "automargin": true,
           "gridcolor": "white",
           "linecolor": "white",
           "ticks": "",
           "title": {
            "standoff": 15
           },
           "zerolinecolor": "white",
           "zerolinewidth": 2
          },
          "yaxis": {
           "automargin": true,
           "gridcolor": "white",
           "linecolor": "white",
           "ticks": "",
           "title": {
            "standoff": 15
           },
           "zerolinecolor": "white",
           "zerolinewidth": 2
          }
         }
        },
        "title": {
         "text": "Retiro por hora"
        },
        "xaxis": {
         "anchor": "y",
         "domain": [
          0,
          1
         ],
         "title": {
          "text": "Hora del día"
         }
        },
        "yaxis": {
         "anchor": "x",
         "domain": [
          0,
          1
         ],
         "title": {
          "text": "Cantidad de retiros"
         }
        }
       }
      }
     },
     "metadata": {},
     "output_type": "display_data"
    }
   ],
   "source": [
    "# Plot the hourly traffic\n",
    "hourly_traffic_pd = hourly_traffic.toPandas()\n",
    "fig =px.bar(hourly_traffic_pd, x='hora_retiro', y='count', title=\"Retiro por hora\", labels={'hora_retiro': 'Hour of Day', 'count': 'Count'})\n",
    "fig.update_layout(xaxis_title=\"Hora del día\", yaxis_title=\"Cantidad de retiros\")\n",
    "fig.show()\n"
   ]
  },
  {
   "cell_type": "code",
   "execution_count": 27,
   "id": "97791ee8",
   "metadata": {},
   "outputs": [
    {
     "name": "stdout",
     "output_type": "stream",
     "text": [
      "Horas de mayor arribo:\n",
      "+-----------+-------+\n",
      "|hora_arribo|  count|\n",
      "+-----------+-------+\n",
      "|         18|1918909|\n",
      "|         19|1653769|\n",
      "|         17|1645729|\n",
      "|          8|1628360|\n",
      "|         15|1622107|\n",
      "|         14|1579970|\n",
      "|         16|1493043|\n",
      "|          9|1402736|\n",
      "|         13|1328890|\n",
      "|         20|1221266|\n",
      "|         12|1144961|\n",
      "|         10|1119466|\n",
      "|          7|1084509|\n",
      "|         11|1073938|\n",
      "|         21| 889238|\n",
      "|         22| 611977|\n",
      "|          6| 486932|\n",
      "|         23| 373299|\n",
      "|          0| 140847|\n",
      "|          5| 116409|\n",
      "+-----------+-------+\n",
      "only showing top 20 rows\n",
      "\n"
     ]
    }
   ],
   "source": [
    "from pyspark.sql import functions as F\n",
    "\n",
    "df_with_hour = df.withColumn(\"hora_arribo\", F.hour(F.to_timestamp(F.col(\"Hora_Arribo\"), \"HH:mm:ss\")))\n",
    "\n",
    "hourly_traffic = df_with_hour.groupBy(\"hora_arribo\").count().orderBy(\"count\", ascending=False)\n",
    "\n",
    "print(\"Horas de mayor arribo:\")\n",
    "hourly_traffic.show()\n",
    "from pyspark.sql.window import Window"
   ]
  },
  {
   "cell_type": "code",
   "execution_count": 31,
   "id": "edf79a3c",
   "metadata": {},
   "outputs": [
    {
     "data": {
      "application/vnd.plotly.v1+json": {
       "config": {
        "plotlyServerURL": "https://plot.ly"
       },
       "data": [
        {
         "alignmentgroup": "True",
         "hovertemplate": "Hour of Day=%{x}<br>Count=%{y}<extra></extra>",
         "legendgroup": "",
         "marker": {
          "color": "#636efa",
          "pattern": {
           "shape": ""
          }
         },
         "name": "",
         "offsetgroup": "",
         "orientation": "v",
         "showlegend": false,
         "textposition": "auto",
         "type": "bar",
         "x": [
          18,
          19,
          17,
          8,
          15,
          14,
          16,
          9,
          13,
          20,
          12,
          10,
          7,
          11,
          21,
          22,
          6,
          23,
          0,
          5,
          1,
          2,
          3,
          4
         ],
         "xaxis": "x",
         "y": [
          1918909,
          1653769,
          1645729,
          1628360,
          1622107,
          1579970,
          1493043,
          1402736,
          1328890,
          1221266,
          1144961,
          1119466,
          1084509,
          1073938,
          889238,
          611977,
          486932,
          373299,
          140847,
          116409,
          6265,
          512,
          266,
          181
         ],
         "yaxis": "y"
        }
       ],
       "layout": {
        "barmode": "relative",
        "legend": {
         "tracegroupgap": 0
        },
        "template": {
         "data": {
          "bar": [
           {
            "error_x": {
             "color": "#2a3f5f"
            },
            "error_y": {
             "color": "#2a3f5f"
            },
            "marker": {
             "line": {
              "color": "#E5ECF6",
              "width": 0.5
             },
             "pattern": {
              "fillmode": "overlay",
              "size": 10,
              "solidity": 0.2
             }
            },
            "type": "bar"
           }
          ],
          "barpolar": [
           {
            "marker": {
             "line": {
              "color": "#E5ECF6",
              "width": 0.5
             },
             "pattern": {
              "fillmode": "overlay",
              "size": 10,
              "solidity": 0.2
             }
            },
            "type": "barpolar"
           }
          ],
          "carpet": [
           {
            "aaxis": {
             "endlinecolor": "#2a3f5f",
             "gridcolor": "white",
             "linecolor": "white",
             "minorgridcolor": "white",
             "startlinecolor": "#2a3f5f"
            },
            "baxis": {
             "endlinecolor": "#2a3f5f",
             "gridcolor": "white",
             "linecolor": "white",
             "minorgridcolor": "white",
             "startlinecolor": "#2a3f5f"
            },
            "type": "carpet"
           }
          ],
          "choropleth": [
           {
            "colorbar": {
             "outlinewidth": 0,
             "ticks": ""
            },
            "type": "choropleth"
           }
          ],
          "contour": [
           {
            "colorbar": {
             "outlinewidth": 0,
             "ticks": ""
            },
            "colorscale": [
             [
              0,
              "#0d0887"
             ],
             [
              0.1111111111111111,
              "#46039f"
             ],
             [
              0.2222222222222222,
              "#7201a8"
             ],
             [
              0.3333333333333333,
              "#9c179e"
             ],
             [
              0.4444444444444444,
              "#bd3786"
             ],
             [
              0.5555555555555556,
              "#d8576b"
             ],
             [
              0.6666666666666666,
              "#ed7953"
             ],
             [
              0.7777777777777778,
              "#fb9f3a"
             ],
             [
              0.8888888888888888,
              "#fdca26"
             ],
             [
              1,
              "#f0f921"
             ]
            ],
            "type": "contour"
           }
          ],
          "contourcarpet": [
           {
            "colorbar": {
             "outlinewidth": 0,
             "ticks": ""
            },
            "type": "contourcarpet"
           }
          ],
          "heatmap": [
           {
            "colorbar": {
             "outlinewidth": 0,
             "ticks": ""
            },
            "colorscale": [
             [
              0,
              "#0d0887"
             ],
             [
              0.1111111111111111,
              "#46039f"
             ],
             [
              0.2222222222222222,
              "#7201a8"
             ],
             [
              0.3333333333333333,
              "#9c179e"
             ],
             [
              0.4444444444444444,
              "#bd3786"
             ],
             [
              0.5555555555555556,
              "#d8576b"
             ],
             [
              0.6666666666666666,
              "#ed7953"
             ],
             [
              0.7777777777777778,
              "#fb9f3a"
             ],
             [
              0.8888888888888888,
              "#fdca26"
             ],
             [
              1,
              "#f0f921"
             ]
            ],
            "type": "heatmap"
           }
          ],
          "heatmapgl": [
           {
            "colorbar": {
             "outlinewidth": 0,
             "ticks": ""
            },
            "colorscale": [
             [
              0,
              "#0d0887"
             ],
             [
              0.1111111111111111,
              "#46039f"
             ],
             [
              0.2222222222222222,
              "#7201a8"
             ],
             [
              0.3333333333333333,
              "#9c179e"
             ],
             [
              0.4444444444444444,
              "#bd3786"
             ],
             [
              0.5555555555555556,
              "#d8576b"
             ],
             [
              0.6666666666666666,
              "#ed7953"
             ],
             [
              0.7777777777777778,
              "#fb9f3a"
             ],
             [
              0.8888888888888888,
              "#fdca26"
             ],
             [
              1,
              "#f0f921"
             ]
            ],
            "type": "heatmapgl"
           }
          ],
          "histogram": [
           {
            "marker": {
             "pattern": {
              "fillmode": "overlay",
              "size": 10,
              "solidity": 0.2
             }
            },
            "type": "histogram"
           }
          ],
          "histogram2d": [
           {
            "colorbar": {
             "outlinewidth": 0,
             "ticks": ""
            },
            "colorscale": [
             [
              0,
              "#0d0887"
             ],
             [
              0.1111111111111111,
              "#46039f"
             ],
             [
              0.2222222222222222,
              "#7201a8"
             ],
             [
              0.3333333333333333,
              "#9c179e"
             ],
             [
              0.4444444444444444,
              "#bd3786"
             ],
             [
              0.5555555555555556,
              "#d8576b"
             ],
             [
              0.6666666666666666,
              "#ed7953"
             ],
             [
              0.7777777777777778,
              "#fb9f3a"
             ],
             [
              0.8888888888888888,
              "#fdca26"
             ],
             [
              1,
              "#f0f921"
             ]
            ],
            "type": "histogram2d"
           }
          ],
          "histogram2dcontour": [
           {
            "colorbar": {
             "outlinewidth": 0,
             "ticks": ""
            },
            "colorscale": [
             [
              0,
              "#0d0887"
             ],
             [
              0.1111111111111111,
              "#46039f"
             ],
             [
              0.2222222222222222,
              "#7201a8"
             ],
             [
              0.3333333333333333,
              "#9c179e"
             ],
             [
              0.4444444444444444,
              "#bd3786"
             ],
             [
              0.5555555555555556,
              "#d8576b"
             ],
             [
              0.6666666666666666,
              "#ed7953"
             ],
             [
              0.7777777777777778,
              "#fb9f3a"
             ],
             [
              0.8888888888888888,
              "#fdca26"
             ],
             [
              1,
              "#f0f921"
             ]
            ],
            "type": "histogram2dcontour"
           }
          ],
          "mesh3d": [
           {
            "colorbar": {
             "outlinewidth": 0,
             "ticks": ""
            },
            "type": "mesh3d"
           }
          ],
          "parcoords": [
           {
            "line": {
             "colorbar": {
              "outlinewidth": 0,
              "ticks": ""
             }
            },
            "type": "parcoords"
           }
          ],
          "pie": [
           {
            "automargin": true,
            "type": "pie"
           }
          ],
          "scatter": [
           {
            "fillpattern": {
             "fillmode": "overlay",
             "size": 10,
             "solidity": 0.2
            },
            "type": "scatter"
           }
          ],
          "scatter3d": [
           {
            "line": {
             "colorbar": {
              "outlinewidth": 0,
              "ticks": ""
             }
            },
            "marker": {
             "colorbar": {
              "outlinewidth": 0,
              "ticks": ""
             }
            },
            "type": "scatter3d"
           }
          ],
          "scattercarpet": [
           {
            "marker": {
             "colorbar": {
              "outlinewidth": 0,
              "ticks": ""
             }
            },
            "type": "scattercarpet"
           }
          ],
          "scattergeo": [
           {
            "marker": {
             "colorbar": {
              "outlinewidth": 0,
              "ticks": ""
             }
            },
            "type": "scattergeo"
           }
          ],
          "scattergl": [
           {
            "marker": {
             "colorbar": {
              "outlinewidth": 0,
              "ticks": ""
             }
            },
            "type": "scattergl"
           }
          ],
          "scattermapbox": [
           {
            "marker": {
             "colorbar": {
              "outlinewidth": 0,
              "ticks": ""
             }
            },
            "type": "scattermapbox"
           }
          ],
          "scatterpolar": [
           {
            "marker": {
             "colorbar": {
              "outlinewidth": 0,
              "ticks": ""
             }
            },
            "type": "scatterpolar"
           }
          ],
          "scatterpolargl": [
           {
            "marker": {
             "colorbar": {
              "outlinewidth": 0,
              "ticks": ""
             }
            },
            "type": "scatterpolargl"
           }
          ],
          "scatterternary": [
           {
            "marker": {
             "colorbar": {
              "outlinewidth": 0,
              "ticks": ""
             }
            },
            "type": "scatterternary"
           }
          ],
          "surface": [
           {
            "colorbar": {
             "outlinewidth": 0,
             "ticks": ""
            },
            "colorscale": [
             [
              0,
              "#0d0887"
             ],
             [
              0.1111111111111111,
              "#46039f"
             ],
             [
              0.2222222222222222,
              "#7201a8"
             ],
             [
              0.3333333333333333,
              "#9c179e"
             ],
             [
              0.4444444444444444,
              "#bd3786"
             ],
             [
              0.5555555555555556,
              "#d8576b"
             ],
             [
              0.6666666666666666,
              "#ed7953"
             ],
             [
              0.7777777777777778,
              "#fb9f3a"
             ],
             [
              0.8888888888888888,
              "#fdca26"
             ],
             [
              1,
              "#f0f921"
             ]
            ],
            "type": "surface"
           }
          ],
          "table": [
           {
            "cells": {
             "fill": {
              "color": "#EBF0F8"
             },
             "line": {
              "color": "white"
             }
            },
            "header": {
             "fill": {
              "color": "#C8D4E3"
             },
             "line": {
              "color": "white"
             }
            },
            "type": "table"
           }
          ]
         },
         "layout": {
          "annotationdefaults": {
           "arrowcolor": "#2a3f5f",
           "arrowhead": 0,
           "arrowwidth": 1
          },
          "autotypenumbers": "strict",
          "coloraxis": {
           "colorbar": {
            "outlinewidth": 0,
            "ticks": ""
           }
          },
          "colorscale": {
           "diverging": [
            [
             0,
             "#8e0152"
            ],
            [
             0.1,
             "#c51b7d"
            ],
            [
             0.2,
             "#de77ae"
            ],
            [
             0.3,
             "#f1b6da"
            ],
            [
             0.4,
             "#fde0ef"
            ],
            [
             0.5,
             "#f7f7f7"
            ],
            [
             0.6,
             "#e6f5d0"
            ],
            [
             0.7,
             "#b8e186"
            ],
            [
             0.8,
             "#7fbc41"
            ],
            [
             0.9,
             "#4d9221"
            ],
            [
             1,
             "#276419"
            ]
           ],
           "sequential": [
            [
             0,
             "#0d0887"
            ],
            [
             0.1111111111111111,
             "#46039f"
            ],
            [
             0.2222222222222222,
             "#7201a8"
            ],
            [
             0.3333333333333333,
             "#9c179e"
            ],
            [
             0.4444444444444444,
             "#bd3786"
            ],
            [
             0.5555555555555556,
             "#d8576b"
            ],
            [
             0.6666666666666666,
             "#ed7953"
            ],
            [
             0.7777777777777778,
             "#fb9f3a"
            ],
            [
             0.8888888888888888,
             "#fdca26"
            ],
            [
             1,
             "#f0f921"
            ]
           ],
           "sequentialminus": [
            [
             0,
             "#0d0887"
            ],
            [
             0.1111111111111111,
             "#46039f"
            ],
            [
             0.2222222222222222,
             "#7201a8"
            ],
            [
             0.3333333333333333,
             "#9c179e"
            ],
            [
             0.4444444444444444,
             "#bd3786"
            ],
            [
             0.5555555555555556,
             "#d8576b"
            ],
            [
             0.6666666666666666,
             "#ed7953"
            ],
            [
             0.7777777777777778,
             "#fb9f3a"
            ],
            [
             0.8888888888888888,
             "#fdca26"
            ],
            [
             1,
             "#f0f921"
            ]
           ]
          },
          "colorway": [
           "#636efa",
           "#EF553B",
           "#00cc96",
           "#ab63fa",
           "#FFA15A",
           "#19d3f3",
           "#FF6692",
           "#B6E880",
           "#FF97FF",
           "#FECB52"
          ],
          "font": {
           "color": "#2a3f5f"
          },
          "geo": {
           "bgcolor": "white",
           "lakecolor": "white",
           "landcolor": "#E5ECF6",
           "showlakes": true,
           "showland": true,
           "subunitcolor": "white"
          },
          "hoverlabel": {
           "align": "left"
          },
          "hovermode": "closest",
          "mapbox": {
           "style": "light"
          },
          "paper_bgcolor": "white",
          "plot_bgcolor": "#E5ECF6",
          "polar": {
           "angularaxis": {
            "gridcolor": "white",
            "linecolor": "white",
            "ticks": ""
           },
           "bgcolor": "#E5ECF6",
           "radialaxis": {
            "gridcolor": "white",
            "linecolor": "white",
            "ticks": ""
           }
          },
          "scene": {
           "xaxis": {
            "backgroundcolor": "#E5ECF6",
            "gridcolor": "white",
            "gridwidth": 2,
            "linecolor": "white",
            "showbackground": true,
            "ticks": "",
            "zerolinecolor": "white"
           },
           "yaxis": {
            "backgroundcolor": "#E5ECF6",
            "gridcolor": "white",
            "gridwidth": 2,
            "linecolor": "white",
            "showbackground": true,
            "ticks": "",
            "zerolinecolor": "white"
           },
           "zaxis": {
            "backgroundcolor": "#E5ECF6",
            "gridcolor": "white",
            "gridwidth": 2,
            "linecolor": "white",
            "showbackground": true,
            "ticks": "",
            "zerolinecolor": "white"
           }
          },
          "shapedefaults": {
           "line": {
            "color": "#2a3f5f"
           }
          },
          "ternary": {
           "aaxis": {
            "gridcolor": "white",
            "linecolor": "white",
            "ticks": ""
           },
           "baxis": {
            "gridcolor": "white",
            "linecolor": "white",
            "ticks": ""
           },
           "bgcolor": "#E5ECF6",
           "caxis": {
            "gridcolor": "white",
            "linecolor": "white",
            "ticks": ""
           }
          },
          "title": {
           "x": 0.05
          },
          "xaxis": {
           "automargin": true,
           "gridcolor": "white",
           "linecolor": "white",
           "ticks": "",
           "title": {
            "standoff": 15
           },
           "zerolinecolor": "white",
           "zerolinewidth": 2
          },
          "yaxis": {
           "automargin": true,
           "gridcolor": "white",
           "linecolor": "white",
           "ticks": "",
           "title": {
            "standoff": 15
           },
           "zerolinecolor": "white",
           "zerolinewidth": 2
          }
         }
        },
        "title": {
         "text": "Arribos por hora"
        },
        "xaxis": {
         "anchor": "y",
         "domain": [
          0,
          1
         ],
         "title": {
          "text": "Hora del día"
         }
        },
        "yaxis": {
         "anchor": "x",
         "domain": [
          0,
          1
         ],
         "title": {
          "text": "Cantidad de arribos"
         }
        }
       }
      }
     },
     "metadata": {},
     "output_type": "display_data"
    }
   ],
   "source": [
    "# Plot the hourly traffic\n",
    "hourly_traffic_pd = hourly_traffic.toPandas()\n",
    "fig =px.bar(hourly_traffic_pd, x='hora_arribo', y='count', title=\"Arribos por hora\", labels={'hora_arribo': 'Hour of Day', 'count': 'Count'})\n",
    "fig.update_layout(xaxis_title=\"Hora del día\", yaxis_title=\"Cantidad de arribos\")\n",
    "fig.show()\n"
   ]
  },
  {
   "cell_type": "code",
   "execution_count": null,
   "id": "5b127829",
   "metadata": {},
   "outputs": [],
   "source": []
  }
 ],
 "metadata": {
  "kernelspec": {
   "display_name": "Python 3",
   "language": "python",
   "name": "python3"
  },
  "language_info": {
   "codemirror_mode": {
    "name": "ipython",
    "version": 3
   },
   "file_extension": ".py",
   "mimetype": "text/x-python",
   "name": "python",
   "nbconvert_exporter": "python",
   "pygments_lexer": "ipython3",
   "version": "3.12.2"
  }
 },
 "nbformat": 4,
 "nbformat_minor": 5
}
